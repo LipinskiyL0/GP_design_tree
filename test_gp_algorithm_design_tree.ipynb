{
 "cells": [
  {
   "cell_type": "code",
   "execution_count": 6,
   "metadata": {},
   "outputs": [],
   "source": [
    "from gp_algorithm_design_tree import gp_algorithm_design_tree\n",
    "from gp_list_design_tree import *\n",
    "from gp_tree_design_tree import gp_tree_design_tree\n",
    "from sklearn.datasets import load_iris"
   ]
  },
  {
   "cell_type": "code",
   "execution_count": 24,
   "metadata": {},
   "outputs": [
    {
     "name": "stdout",
     "output_type": "stream",
     "text": [
      "generation 0, min=0.5454545454545454, mean=0.5912124934696332, mas=0.9553072625698324\n",
      "generation 1, min=0.5454545454545454, mean=0.6410238887889932, mas=0.9554097525241265\n",
      "generation 2, min=0.5454545454545454, mean=0.6919292020458264, mas=0.9554097525241265\n",
      "generation 3, min=0.5454545454545454, mean=0.7629689465319471, mas=0.9554097525241265\n",
      "generation 4, min=0.5454545454545454, mean=0.8467411786407346, mas=0.9554097525241265\n",
      "generation 5, min=0.5454545454545454, mean=0.7919145096467863, mas=0.9554097525241265\n",
      "generation 6, min=0.5454545454545454, mean=0.8665625681336427, mas=0.9554097525241265\n",
      "generation 7, min=0.6923076923076922, mean=0.9419273828246137, mas=0.9554097525241265\n",
      "generation 8, min=0.6455078667926836, mean=0.8687019697290509, mas=0.9615236629472873\n",
      "generation 9, min=0.5454545454545454, mean=0.8237502828410245, mas=0.9615236629472873\n",
      "generation 10, min=0.6777920410783055, mean=0.9252754930770937, mas=0.9615236629472873\n",
      "generation 11, min=0.6200121718882303, mean=0.8884275465820075, mas=0.9615236629472873\n",
      "generation 12, min=0.6777920410783055, mean=0.8934938877259192, mas=0.9615236629472873\n",
      "generation 13, min=0.5454545454545454, mean=0.8996120289152417, mas=0.9615236629472873\n",
      "generation 14, min=0.6777920410783055, mean=0.9090862842940182, mas=0.9615236629472873\n",
      "generation 15, min=0.6777920410783055, mean=0.8895046152513808, mas=0.9615236629472873\n",
      "generation 16, min=0.6777920410783055, mean=0.9069546862578989, mas=0.9615236629472873\n",
      "generation 17, min=0.6777920410783055, mean=0.8636691604160823, mas=0.9615236629472873\n",
      "generation 18, min=0.6777920410783055, mean=0.8913165400415112, mas=0.9615236629472873\n",
      "generation 19, min=0.5454545454545454, mean=0.8726904318512819, mas=0.9615236629472873\n",
      "Ошибка сохранения статистики в файл\n",
      "Результаты сохранены в файл: evalution1.xlsx\n",
      "лучшая пригодность:  0.9615236629472873\n",
      "лучшее решение:  less[petal width (cm),{'p': 0.7302970372902426}](less[sepal length (cm),{'p': 0.32779652148943544}](nom_class:0, nom_class:0), less[petal width (cm),{'p': 1.6538457753207492}](nom_class:1, nom_class:2))\n"
     ]
    }
   ],
   "source": [
    "data = load_iris()\n",
    "X=data.data\n",
    "X=pd.DataFrame(X, columns=data.feature_names)\n",
    "y=data.target\n",
    "y=pd.Series(y, name='y')\n",
    "params={'X':X, 'y':y,'method':'DE','score_metric':'f1','iterations':20   }\n",
    "list_T=[]\n",
    "for c in y.unique():\n",
    "    list_T.append(list_nom_class(value=c))\n",
    "list_F=[]\n",
    "for c in X.columns:\n",
    "    list_F.append(list_less(name_feature=c ))\n",
    "\n",
    "gp=gp_algorithm_design_tree(gp_tree_design_tree, n_ind=20, n_iter=20,\n",
    "                                list_T=list_T, list_F=list_F, type_ini='full',\n",
    "                                limit_level=2, params=params, recombination='one_point')\n",
    "\n",
    "rez=gp.opt()\n",
    "print('лучшая пригодность: ', rez['fit'])\n",
    "print('лучшее решение: ', rez['individ'].print_tree())"
   ]
  },
  {
   "cell_type": "code",
   "execution_count": 25,
   "metadata": {},
   "outputs": [
    {
     "name": "stdout",
     "output_type": "stream",
     "text": [
      "     real  predict\n",
      "0       0        0\n",
      "1       0        0\n",
      "2       0        0\n",
      "3       0        0\n",
      "4       0        0\n",
      "..    ...      ...\n",
      "145     2        2\n",
      "146     2        2\n",
      "147     2        2\n",
      "148     2        2\n",
      "149     2        2\n",
      "\n",
      "[150 rows x 2 columns]\n",
      "\n",
      "0.9599839935974389\n"
     ]
    }
   ],
   "source": [
    "tree=rez['individ']\n",
    "y_pred=tree.predict(X=X)\n",
    "y_pred=y_pred.astype(int)\n",
    "y_pred.name='predict'\n",
    "y.name='real'\n",
    "print(pd.concat([y, y_pred], axis=1))\n",
    "\n",
    "\n",
    "f1_score=tree.score(X=X, y=y, metric='f1')\n",
    "print()\n",
    "print(f1_score)"
   ]
  },
  {
   "cell_type": "code",
   "execution_count": 26,
   "metadata": {},
   "outputs": [
    {
     "data": {
      "text/plain": [
       "6"
      ]
     },
     "execution_count": 26,
     "metadata": {},
     "output_type": "execute_result"
    }
   ],
   "source": [
    "r=pd.concat([y, y_pred], axis=1)\n",
    "sum(np.abs(y-y_pred))"
   ]
  },
  {
   "cell_type": "code",
   "execution_count": 27,
   "metadata": {},
   "outputs": [
    {
     "name": "stdout",
     "output_type": "stream",
     "text": [
      "0.9733226623982927\n"
     ]
    },
    {
     "data": {
      "text/plain": [
       "4"
      ]
     },
     "execution_count": 27,
     "metadata": {},
     "output_type": "execute_result"
    }
   ],
   "source": [
    "# сравниваем с деревьями решений sklearn\n",
    "from sklearn.tree import DecisionTreeClassifier as DTC\n",
    "from sklearn.metrics import f1_score\n",
    "model=DTC(max_depth=3)\n",
    "model.fit(X=X, y=y)\n",
    "\n",
    "y_pred=model.predict(X)\n",
    "y_pred=pd.Series(y_pred)\n",
    "dtc_score=f1_score(y, y_pred, average='macro')\n",
    "print(dtc_score)\n",
    "r=pd.concat([y, y_pred], axis=1)\n",
    "sum(np.abs(y-y_pred))\n",
    "\n",
    "\n"
   ]
  },
  {
   "cell_type": "code",
   "execution_count": 1,
   "metadata": {},
   "outputs": [
    {
     "data": {
      "text/plain": [
       "864"
      ]
     },
     "execution_count": 1,
     "metadata": {},
     "output_type": "execute_result"
    }
   ],
   "source": [
    "3*2*2*2*3*3*2*2"
   ]
  },
  {
   "cell_type": "code",
   "execution_count": 33,
   "metadata": {},
   "outputs": [
    {
     "name": "stdout",
     "output_type": "stream",
     "text": [
      "0.9733333333333333\n"
     ]
    },
    {
     "data": {
      "text/plain": [
       "4"
      ]
     },
     "execution_count": 33,
     "metadata": {},
     "output_type": "execute_result"
    }
   ],
   "source": [
    "from sklearn.ensemble import RandomForestClassifier as RFC\n",
    "model=RFC(max_depth=3)\n",
    "model.fit(X=X, y=y)\n",
    "\n",
    "y_pred=model.predict(X)\n",
    "y_pred=pd.Series(y_pred)\n",
    "dtc_score=f1_score(y, y_pred, average='macro')\n",
    "print(dtc_score)\n",
    "r=pd.concat([y, y_pred], axis=1)\n",
    "sum(np.abs(y-y_pred))"
   ]
  }
 ],
 "metadata": {
  "kernelspec": {
   "display_name": "env_dash",
   "language": "python",
   "name": "python3"
  },
  "language_info": {
   "codemirror_mode": {
    "name": "ipython",
    "version": 3
   },
   "file_extension": ".py",
   "mimetype": "text/x-python",
   "name": "python",
   "nbconvert_exporter": "python",
   "pygments_lexer": "ipython3",
   "version": "3.9.18"
  }
 },
 "nbformat": 4,
 "nbformat_minor": 2
}
