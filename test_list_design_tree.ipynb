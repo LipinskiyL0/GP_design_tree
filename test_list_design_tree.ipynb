{
 "cells": [
  {
   "cell_type": "code",
   "execution_count": 1,
   "metadata": {},
   "outputs": [],
   "source": [
    "import pandas as pd\n",
    "from gp_list_design_tree import *"
   ]
  },
  {
   "cell_type": "markdown",
   "metadata": {},
   "source": [
    "Проверяем базовый класс от которого потом будут наследоваться остальные узлы. \n",
    "Проверяем, что класс создается, параметры устанавливаются"
   ]
  },
  {
   "cell_type": "code",
   "execution_count": 2,
   "metadata": {},
   "outputs": [
    {
     "name": "stdout",
     "output_type": "stream",
     "text": [
      "get_name: {}\n",
      "get_name: test{'p1': -1, 'p2': -2}\n"
     ]
    }
   ],
   "source": [
    "l=list_tree_base()\n",
    "print(f'get_name: {l.get_name()}')\n",
    "l.name='test'\n",
    "l.num_childs=2\n",
    "l.num_koef=3\n",
    "l.koef={'p1':-1, 'p2':-2}\n",
    "print(f'get_name: {l.get_name()}')"
   ]
  },
  {
   "cell_type": "markdown",
   "metadata": {},
   "source": [
    "Проверяем метод копирования узла в базовом классе."
   ]
  },
  {
   "cell_type": "code",
   "execution_count": 3,
   "metadata": {},
   "outputs": [
    {
     "name": "stdout",
     "output_type": "stream",
     "text": [
      "get_name: test{'p1': -1, 'p2': -2}\n",
      "[]\n",
      "{'p1': -1, 'p2': -2}\n"
     ]
    }
   ],
   "source": [
    "l1=l.copy()\n",
    "print(f'get_name: {l1.get_name()}')\n",
    "print(l1.get_name_koef())\n",
    "print(l1.get_koef())"
   ]
  },
  {
   "cell_type": "markdown",
   "metadata": {},
   "source": [
    "Проверяем работу терминального узла для классификации, который строится наследованием от базового класса\n",
    "Создаем маску, Устанавливаем номер класса равный единице. Ожидаем, что для всех значений удовлетворяющих маске вернется этоот номер класса"
   ]
  },
  {
   "cell_type": "code",
   "execution_count": 4,
   "metadata": {},
   "outputs": [
    {
     "name": "stdout",
     "output_type": "stream",
     "text": [
      "nom_class:1\n",
      "0.0     NaN\n",
      "10.0    NaN\n",
      "20.0    NaN\n",
      "30.0    NaN\n",
      "40.0    NaN\n",
      "50.0    NaN\n",
      "60.0    1.0\n",
      "70.0    1.0\n",
      "80.0    1.0\n",
      "90.0    1.0\n",
      "dtype: float64\n"
     ]
    }
   ],
   "source": [
    "y=pd.Series(np.arange(0,1, 0.1), index=100*np.arange(0,1, 0.1))\n",
    "node=list_nom_class(value=1)\n",
    "# koef={'class':1}\n",
    "# node.set_koef(koef)\n",
    "rez=node.eval(params={'y':y}, mask=y>0.5)\n",
    "node1=node.copy()\n",
    "print(node.get_name())\n",
    "print(rez)"
   ]
  },
  {
   "cell_type": "markdown",
   "metadata": {},
   "source": [
    "Проверяем регрессионный узел. Устанавливаем маску и значение константы узла равное 101. Ожидаем, что для значений удовлетворяющих маске установится это значение регрессионного узла"
   ]
  },
  {
   "cell_type": "code",
   "execution_count": 5,
   "metadata": {},
   "outputs": [
    {
     "name": "stdout",
     "output_type": "stream",
     "text": [
      "const{'const': 101}\n",
      "0.0     101.0\n",
      "10.0    101.0\n",
      "20.0    101.0\n",
      "30.0    101.0\n",
      "40.0    101.0\n",
      "50.0      NaN\n",
      "60.0      NaN\n",
      "70.0      NaN\n",
      "80.0      NaN\n",
      "90.0      NaN\n",
      "dtype: float64\n"
     ]
    }
   ],
   "source": [
    "node=list_regr_const()\n",
    "koef={'const':101}\n",
    "node.set_koef(koef)\n",
    "rez=node.eval(params={'y':y, }, mask=y<0.5)\n",
    "node1=node.copy()\n",
    "print(node.get_name())\n",
    "print(rez)"
   ]
  },
  {
   "cell_type": "markdown",
   "metadata": {},
   "source": [
    "Проверяем работу функционального узал по типу x<p, где p это параметр. Ожидается, что вернется маска, где True для удовлетворяющих условию и False для неудовлетворяющих условию"
   ]
  },
  {
   "cell_type": "code",
   "execution_count": 6,
   "metadata": {},
   "outputs": [
    {
     "name": "stdout",
     "output_type": "stream",
     "text": [
      "less[x1,{'p': 101}]\n",
      "0     True\n",
      "1     True\n",
      "2    False\n",
      "3    False\n",
      "4    False\n",
      "5    False\n",
      "6    False\n",
      "7    False\n",
      "8    False\n",
      "9    False\n",
      "Name: x1, dtype: bool\n",
      "   index     x1\n",
      "0    0.0    0.0\n",
      "1   10.0  100.0\n",
      "2   20.0  200.0\n",
      "3   30.0  300.0\n",
      "4   40.0  400.0\n",
      "5   50.0  500.0\n",
      "6   60.0  600.0\n",
      "7   70.0  700.0\n",
      "8   80.0  800.0\n",
      "9   90.0  900.0\n"
     ]
    }
   ],
   "source": [
    "df=y.copy()\n",
    "df=df*1000\n",
    "df.name='x1'\n",
    "df=df.reset_index()\n",
    "node=list_less(name_feature='x1' )\n",
    "node1=node.copy()\n",
    "koef={'p':101}\n",
    "node.set_koef(koef)\n",
    "rez=node.eval(params={'X':df,'y':y}  )\n",
    "print(node.get_name())\n",
    "print(rez)\n",
    "print(df)\n"
   ]
  },
  {
   "cell_type": "markdown",
   "metadata": {},
   "source": [
    "проверяем в узле list_less самооптимизацию с фиксированными классами на метрике gini"
   ]
  },
  {
   "cell_type": "code",
   "execution_count": 7,
   "metadata": {},
   "outputs": [
    {
     "name": "stdout",
     "output_type": "stream",
     "text": [
      "{'score': False, 'inf_gate': 0.48, 'mask0': 0    False\n",
      "1    False\n",
      "2    False\n",
      "3    False\n",
      "4    False\n",
      "5    False\n",
      "6     True\n",
      "7     True\n",
      "8     True\n",
      "9     True\n",
      "Name: x1, dtype: bool, 'mask1': 0     True\n",
      "1     True\n",
      "2     True\n",
      "3     True\n",
      "4     True\n",
      "5     True\n",
      "6    False\n",
      "7    False\n",
      "8    False\n",
      "9    False\n",
      "Name: x1, dtype: bool}\n",
      "   index   x1\n",
      "0    0.0  1.0\n",
      "1   10.0  0.9\n",
      "2   20.0  0.8\n",
      "3   30.0  0.7\n",
      "4   40.0  0.6\n",
      "5   50.0  0.5\n",
      "6   60.0  0.4\n",
      "7   70.0  0.3\n",
      "8   80.0  0.2\n",
      "9   90.0  0.1\n"
     ]
    }
   ],
   "source": [
    "import pandas as pd\n",
    "from gp_list_design_tree import *\n",
    "df=pd.Series(np.arange(1,0, -0.1), index=100*np.arange(0,1, 0.1))\n",
    "\n",
    "df.name='x1'\n",
    "df=df.reset_index()\n",
    "y=pd.Series(np.zeros(len(df), dtype=int))\n",
    "y.loc[df['x1']>0.5]=1\n",
    "\n",
    "node=list_less(name_feature='x1' )\n",
    "node1=node.copy()\n",
    "mask=np.array([True]*len(df))\n",
    "\n",
    "rez=node.optim_koef(params={'X':df,'y':y}, mask0=mask)\n",
    "\n",
    "print(rez)\n",
    "print(df)"
   ]
  },
  {
   "cell_type": "markdown",
   "metadata": {},
   "source": [
    "Проверяем самооптимизацию в узле list_less со случайными классами на метрике gini"
   ]
  },
  {
   "cell_type": "code",
   "execution_count": 8,
   "metadata": {},
   "outputs": [
    {
     "name": "stdout",
     "output_type": "stream",
     "text": [
      "{'score': False, 'inf_gate': 0.125, 'mask0': 0    False\n",
      "1    False\n",
      "2    False\n",
      "3    False\n",
      "4    False\n",
      "5    False\n",
      "6    False\n",
      "7    False\n",
      "8     True\n",
      "9     True\n",
      "Name: x1, dtype: bool, 'mask1': 0     True\n",
      "1     True\n",
      "2     True\n",
      "3     True\n",
      "4     True\n",
      "5     True\n",
      "6     True\n",
      "7     True\n",
      "8    False\n",
      "9    False\n",
      "Name: x1, dtype: bool}\n",
      "   index   x1\n",
      "0    0.0  1.0\n",
      "1   10.0  0.9\n",
      "2   20.0  0.8\n",
      "3   30.0  0.7\n",
      "4   40.0  0.6\n",
      "5   50.0  0.5\n",
      "6   60.0  0.4\n",
      "7   70.0  0.3\n",
      "8   80.0  0.2\n",
      "9   90.0  0.1\n"
     ]
    }
   ],
   "source": [
    "import pandas as pd\n",
    "from gp_list_design_tree import *\n",
    "df=pd.Series(np.arange(1,0, -0.1), index=100*np.arange(0,1, 0.1))\n",
    "\n",
    "df.name='x1'\n",
    "df=df.reset_index()\n",
    "y=pd.Series(np.random.randint(0, 2, len(df), dtype=int))\n",
    "# y.loc[df['x1']>0.5]=1\n",
    "\n",
    "node=list_less(name_feature='x1' )\n",
    "node1=node.copy()\n",
    "mask=np.array([True]*len(df))\n",
    "\n",
    "rez=node.optim_koef(params={'X':df,'y':y}, mask0=mask)\n",
    "\n",
    "print(rez)\n",
    "print(df)"
   ]
  },
  {
   "cell_type": "markdown",
   "metadata": {},
   "source": [
    "проверяем работу самооптимизации в узле list_less и реакцию на перемещение порогов на метрике gini"
   ]
  },
  {
   "cell_type": "code",
   "execution_count": 9,
   "metadata": {},
   "outputs": [
    {
     "name": "stdout",
     "output_type": "stream",
     "text": [
      "{'score': False, 'inf_gate': 0.5, 'mask0': 0    False\n",
      "1    False\n",
      "2    False\n",
      "3    False\n",
      "4    False\n",
      "5     True\n",
      "6     True\n",
      "7     True\n",
      "8     True\n",
      "9     True\n",
      "Name: x1, dtype: bool, 'mask1': 0     True\n",
      "1     True\n",
      "2     True\n",
      "3     True\n",
      "4     True\n",
      "5    False\n",
      "6    False\n",
      "7    False\n",
      "8    False\n",
      "9    False\n",
      "Name: x1, dtype: bool}\n",
      "   index   x1  y\n",
      "0    0.0  1.0  1\n",
      "1   10.0  0.9  1\n",
      "2   20.0  0.8  1\n",
      "3   30.0  0.7  1\n",
      "4   40.0  0.6  1\n",
      "5   50.0  0.5  0\n",
      "6   60.0  0.4  0\n",
      "7   70.0  0.3  0\n",
      "8   80.0  0.2  0\n",
      "9   90.0  0.1  0\n"
     ]
    }
   ],
   "source": [
    "import pandas as pd\n",
    "from gp_list_design_tree import *\n",
    "df=pd.Series(np.arange(1,0, -0.1), index=100*np.arange(0,1, 0.1))\n",
    "\n",
    "df.name='x1'\n",
    "df=df.reset_index()\n",
    "y=pd.Series(np.zeros(len(df), dtype=int))\n",
    "y.loc[df['x1']>0.6]=1\n",
    "\n",
    "node=list_less(name_feature='x1' )\n",
    "node1=node.copy()\n",
    "mask=np.array([True]*len(df))\n",
    "# koef={'p':101}\n",
    "# node.set_koef(koef)\n",
    "# rez=node.eval(params={'X':df,'y':y}  )\n",
    "rez=node.optim_koef(params={'X':df,'y':y}, mask0=mask, inf_name='gini' )\n",
    "df['y']=y\n",
    "print(rez)\n",
    "print(df)"
   ]
  },
  {
   "cell_type": "markdown",
   "metadata": {},
   "source": [
    "проверяем работу самооптимизации в узле list_less  на метрике mse"
   ]
  },
  {
   "cell_type": "code",
   "execution_count": 10,
   "metadata": {},
   "outputs": [
    {
     "name": "stdout",
     "output_type": "stream",
     "text": [
      "{'score': False, 'inf_gate': 0.09097190468932576, 'mask0': 0    False\n",
      "1    False\n",
      "2    False\n",
      "3    False\n",
      "4    False\n",
      "5    False\n",
      "6    False\n",
      "7     True\n",
      "8     True\n",
      "9     True\n",
      "Name: x1, dtype: bool, 'mask1': 0     True\n",
      "1     True\n",
      "2     True\n",
      "3     True\n",
      "4     True\n",
      "5     True\n",
      "6     True\n",
      "7    False\n",
      "8    False\n",
      "9    False\n",
      "Name: x1, dtype: bool}\n",
      "   index   x1         y\n",
      "0    0.0  1.0  0.000000\n",
      "1   10.0  0.9  0.012346\n",
      "2   20.0  0.8  0.049383\n",
      "3   30.0  0.7  0.111111\n",
      "4   40.0  0.6  0.197531\n",
      "5   50.0  0.5  0.308642\n",
      "6   60.0  0.4  0.444444\n",
      "7   70.0  0.3  0.604938\n",
      "8   80.0  0.2  0.790123\n",
      "9   90.0  0.1  1.000000\n",
      "{'p': 0.35000000000000014}\n"
     ]
    }
   ],
   "source": [
    "import pandas as pd\n",
    "from gp_list_design_tree import *\n",
    "df=pd.Series(np.arange(1,0, -0.1), index=100*np.arange(0,1, 0.1))\n",
    "\n",
    "df.name='x1'\n",
    "df=df.reset_index()\n",
    "y=pd.Series(np.linspace(0,1, len(df)))\n",
    "y=y**2\n",
    "\n",
    "node=list_less(name_feature='x1' )\n",
    "node1=node.copy()\n",
    "mask=np.array([True]*len(df))\n",
    "\n",
    "rez=node.optim_koef(params={'X':df,'y':y}, mask0=mask, inf_name='mse' )\n",
    "df['y']=y\n",
    "print(rez)\n",
    "print(df)\n",
    "print(node.koef)"
   ]
  },
  {
   "cell_type": "markdown",
   "metadata": {},
   "source": [
    "проверяем работу самооптимизации в узле list_regr_const  на метрике mse"
   ]
  },
  {
   "cell_type": "code",
   "execution_count": 11,
   "metadata": {},
   "outputs": [
    {
     "name": "stdout",
     "output_type": "stream",
     "text": [
      "{'score': 0.0, 'inf_gate': False}\n",
      "   index   x1         y\n",
      "0    0.0  1.0  0.000000\n",
      "1   10.0  0.9  0.333333\n",
      "2   20.0  0.8  0.471405\n",
      "3   30.0  0.7  0.577350\n",
      "4   40.0  0.6  0.666667\n",
      "5   50.0  0.5  0.745356\n",
      "6   60.0  0.4  0.816497\n",
      "7   70.0  0.3  0.881917\n",
      "8   80.0  0.2  0.942809\n",
      "9   90.0  0.1  1.000000\n",
      "{'const': 0.6435333508678573}\n"
     ]
    }
   ],
   "source": [
    "import pandas as pd\n",
    "from gp_list_design_tree import *\n",
    "df=pd.Series(np.arange(1,0, -0.1), index=100*np.arange(0,1, 0.1))\n",
    "\n",
    "df.name='x1'\n",
    "df=df.reset_index()\n",
    "y=pd.Series(np.linspace(0,1, len(df)))\n",
    "y=y**0.5\n",
    "\n",
    "node=list_regr_const( )\n",
    "\n",
    "mask=np.array([True]*len(df))\n",
    "\n",
    "rez=node.optim_koef(params={'X':df,'y':y}, mask0=mask)\n",
    "df['y']=y\n",
    "print(rez)\n",
    "print(df)\n",
    "print(node.koef)"
   ]
  },
  {
   "cell_type": "markdown",
   "metadata": {},
   "source": [
    "проверяем работу самооптимизации в узле list_nom_class  на метрике mse"
   ]
  },
  {
   "cell_type": "code",
   "execution_count": 12,
   "metadata": {},
   "outputs": [
    {
     "name": "stdout",
     "output_type": "stream",
     "text": [
      "{'score': 0.37499999999999994, 'inf_gate': False}\n",
      "   index   x1  y\n",
      "0    0.0  1.0  1\n",
      "1   10.0  0.9  0\n",
      "2   20.0  0.8  0\n",
      "3   30.0  0.7  0\n",
      "4   40.0  0.6  0\n",
      "5   50.0  0.5  1\n",
      "6   60.0  0.4  0\n",
      "7   70.0  0.3  0\n",
      "8   80.0  0.2  1\n",
      "9   90.0  0.1  1\n",
      "0\n"
     ]
    }
   ],
   "source": [
    "import pandas as pd\n",
    "from gp_list_design_tree import *\n",
    "df=pd.Series(np.arange(1,0, -0.1), index=100*np.arange(0,1, 0.1))\n",
    "\n",
    "df.name='x1'\n",
    "df=df.reset_index()\n",
    "y=pd.Series(np.random.randint(0, 2, len(df), dtype=int))\n",
    "\n",
    "\n",
    "node=list_nom_class( )\n",
    "\n",
    "mask=np.array([True]*len(df))\n",
    "\n",
    "rez=node.optim_koef(params={'y':y}, mask0=mask)\n",
    "df['y']=y\n",
    "print(rez)\n",
    "print(df)\n",
    "print(node.value)"
   ]
  },
  {
   "cell_type": "code",
   "execution_count": 20,
   "metadata": {},
   "outputs": [
    {
     "data": {
      "text/plain": [
       "[2, 'B']"
      ]
     },
     "execution_count": 20,
     "metadata": {},
     "output_type": "execute_result"
    }
   ],
   "source": [
    "l=['A', 'B', 1, 2,30]\n",
    "l=pd.Series(l)\n",
    "l1=l.sample(2)\n",
    "list(l1)"
   ]
  }
 ],
 "metadata": {
  "kernelspec": {
   "display_name": "env_dash",
   "language": "python",
   "name": "python3"
  },
  "language_info": {
   "codemirror_mode": {
    "name": "ipython",
    "version": 3
   },
   "file_extension": ".py",
   "mimetype": "text/x-python",
   "name": "python",
   "nbconvert_exporter": "python",
   "pygments_lexer": "ipython3",
   "version": "3.9.18"
  }
 },
 "nbformat": 4,
 "nbformat_minor": 2
}
