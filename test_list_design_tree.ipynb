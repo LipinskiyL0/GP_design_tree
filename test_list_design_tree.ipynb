{
 "cells": [
  {
   "cell_type": "code",
   "execution_count": 1,
   "metadata": {},
   "outputs": [],
   "source": [
    "import pandas as pd\n",
    "from gp_list_design_tree import *"
   ]
  },
  {
   "cell_type": "markdown",
   "metadata": {},
   "source": [
    "Проверяем базовый класс от которого потом будут наследоваться остальные узлы. \n",
    "Проверяем, что класс создается, параметры устанавливаются"
   ]
  },
  {
   "cell_type": "code",
   "execution_count": 2,
   "metadata": {},
   "outputs": [
    {
     "name": "stdout",
     "output_type": "stream",
     "text": [
      "get_name: {}\n",
      "get_name: test{'p1': -1, 'p2': -2}\n"
     ]
    }
   ],
   "source": [
    "l=list_tree_base()\n",
    "print(f'get_name: {l.get_name()}')\n",
    "l.name='test'\n",
    "l.num_childs=2\n",
    "l.num_koef=3\n",
    "l.koef={'p1':-1, 'p2':-2}\n",
    "print(f'get_name: {l.get_name()}')"
   ]
  },
  {
   "cell_type": "markdown",
   "metadata": {},
   "source": [
    "Проверяем метод копирования узла в базовом классе."
   ]
  },
  {
   "cell_type": "code",
   "execution_count": 3,
   "metadata": {},
   "outputs": [
    {
     "name": "stdout",
     "output_type": "stream",
     "text": [
      "get_name: test{'p1': -1, 'p2': -2}\n",
      "[]\n",
      "{'p1': -1, 'p2': -2}\n"
     ]
    }
   ],
   "source": [
    "l1=l.copy()\n",
    "print(f'get_name: {l1.get_name()}')\n",
    "print(l1.get_name_koef())\n",
    "print(l1.get_koef())"
   ]
  },
  {
   "cell_type": "markdown",
   "metadata": {},
   "source": [
    "Проверяем работу терминального узла для классификации, который строится наследованием от базового класса\n",
    "Создаем маску, Устанавливаем номер класса равный единице. Ожидаем, что для всех значений удовлетворяющих маске вернется этоот номер класса"
   ]
  },
  {
   "cell_type": "code",
   "execution_count": 5,
   "metadata": {},
   "outputs": [
    {
     "name": "stdout",
     "output_type": "stream",
     "text": [
      "nom_class{'class': 1}\n",
      "0.0     NaN\n",
      "10.0    NaN\n",
      "20.0    NaN\n",
      "30.0    NaN\n",
      "40.0    NaN\n",
      "50.0    NaN\n",
      "60.0    1.0\n",
      "70.0    1.0\n",
      "80.0    1.0\n",
      "90.0    1.0\n",
      "dtype: float64\n"
     ]
    }
   ],
   "source": [
    "y=pd.Series(np.arange(0,1, 0.1), index=100*np.arange(0,1, 0.1))\n",
    "node=list_nom_class()\n",
    "koef={'class':1}\n",
    "node.set_koef(koef)\n",
    "rez=node.eval(params={'y':y}, mask=y>0.5)\n",
    "node1=node.copy()\n",
    "print(node.get_name())\n",
    "print(rez)"
   ]
  },
  {
   "cell_type": "markdown",
   "metadata": {},
   "source": [
    "Проверяем регрессионный узел. Устанавливаем маску и значение константы узла равное 101. Ожидаем, что для значений удовлетворяющих маске установится это значение регрессионного узла"
   ]
  },
  {
   "cell_type": "code",
   "execution_count": 5,
   "metadata": {},
   "outputs": [
    {
     "name": "stdout",
     "output_type": "stream",
     "text": [
      "const{'const': 101})\n",
      "0.0     101.0\n",
      "10.0    101.0\n",
      "20.0    101.0\n",
      "30.0    101.0\n",
      "40.0    101.0\n",
      "50.0      NaN\n",
      "60.0      NaN\n",
      "70.0      NaN\n",
      "80.0      NaN\n",
      "90.0      NaN\n",
      "dtype: float64\n"
     ]
    }
   ],
   "source": [
    "node=list_regr_const()\n",
    "koef={'const':101}\n",
    "node.set_koef(koef)\n",
    "rez=node.eval(params={'y':y, }, mask=y<0.5)\n",
    "node1=node.copy()\n",
    "print(node.get_name())\n",
    "print(rez)"
   ]
  },
  {
   "cell_type": "markdown",
   "metadata": {},
   "source": [
    "Проверяем работу функционального узал по типу x<p, где p это параметр. Ожидается, что вернется маска, где True для удовлетворяющих условию и False для неудовлетворяющих условию"
   ]
  },
  {
   "cell_type": "code",
   "execution_count": 6,
   "metadata": {},
   "outputs": [
    {
     "name": "stdout",
     "output_type": "stream",
     "text": [
      "less{'p': 101})\n",
      "0     True\n",
      "1     True\n",
      "2    False\n",
      "3    False\n",
      "4    False\n",
      "5    False\n",
      "6    False\n",
      "7    False\n",
      "8    False\n",
      "9    False\n",
      "Name: x1, dtype: bool\n",
      "   index     x1\n",
      "0    0.0    0.0\n",
      "1   10.0  100.0\n",
      "2   20.0  200.0\n",
      "3   30.0  300.0\n",
      "4   40.0  400.0\n",
      "5   50.0  500.0\n",
      "6   60.0  600.0\n",
      "7   70.0  700.0\n",
      "8   80.0  800.0\n",
      "9   90.0  900.0\n"
     ]
    }
   ],
   "source": [
    "df=y.copy()\n",
    "df=df*1000\n",
    "df.name='x1'\n",
    "df=df.reset_index()\n",
    "node=list_less(name_feature='x1' )\n",
    "node1=node.copy()\n",
    "koef={'p':101}\n",
    "node.set_koef(koef)\n",
    "rez=node.eval(params={'X':df,'y':y}  )\n",
    "print(node.get_name())\n",
    "print(rez)\n",
    "print(df)\n"
   ]
  }
 ],
 "metadata": {
  "kernelspec": {
   "display_name": "env_dash",
   "language": "python",
   "name": "python3"
  },
  "language_info": {
   "codemirror_mode": {
    "name": "ipython",
    "version": 3
   },
   "file_extension": ".py",
   "mimetype": "text/x-python",
   "name": "python",
   "nbconvert_exporter": "python",
   "pygments_lexer": "ipython3",
   "version": "3.9.18"
  }
 },
 "nbformat": 4,
 "nbformat_minor": 2
}
