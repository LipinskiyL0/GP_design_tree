{
 "cells": [
  {
   "cell_type": "code",
   "execution_count": 1,
   "metadata": {},
   "outputs": [],
   "source": [
    "from gp_algorithm_design_tree import gp_algorithm_design_tree\n",
    "from gp_list_design_tree import *\n",
    "from gp_tree_design_tree import gp_tree_design_tree\n",
    "from sklearn.datasets import load_diabetes"
   ]
  },
  {
   "cell_type": "markdown",
   "metadata": {},
   "source": [
    "загружаем данные и готовим списки функциональных и терминальных узлов  \n",
    "готвоим основные параметры алгоритма"
   ]
  },
  {
   "cell_type": "code",
   "execution_count": 7,
   "metadata": {},
   "outputs": [],
   "source": [
    "data = load_diabetes()\n",
    "X=data.data\n",
    "X=pd.DataFrame(X, columns=data.feature_names)\n",
    "y=data.target\n",
    "y=pd.Series(y, name='y')\n",
    "# params={'X':X, 'y':y,'method':'DE','score_metric':'f1','iterations':20   }\n",
    "params={'X':X, 'y':y,'mask':None,'epsilon':1e-10, 'num_samples':4,'inf_name':'mse', 'list_F':None, 'list_T':None,\n",
    "        'n_features':3,'method':'self_optimization','score_metric':'mse','iterations':50,'penalty_num_node':0.00000001  }\n",
    "list_T=[]\n",
    "list_T.append(list_regr_const())\n",
    "\n",
    "list_F=[]\n",
    "for c in X.columns:\n",
    "    list_F.append(list_less(name_feature=c ))\n"
   ]
  },
  {
   "cell_type": "markdown",
   "metadata": {},
   "source": [
    "проверяем способ роста жадная стратегия LearnID3  \n",
    "оптимизация коэффициентов самооптимизация self_optimization"
   ]
  },
  {
   "cell_type": "code",
   "execution_count": 8,
   "metadata": {},
   "outputs": [
    {
     "name": "stdout",
     "output_type": "stream",
     "text": [
      "generation 0, min=0.00017377832010549246, mean=0.00024153806728020185, mas=0.00032616965120722943\n",
      "generation 1, min=0.0001685989036259896, mean=0.0002792951363907758, mas=0.000333189692441647\n",
      "generation 2, min=0.00025200581602244327, mean=0.00030316743686507896, mas=0.00033992654958649784\n",
      "generation 3, min=0.0002536530975201593, mean=0.0003146027634243004, mas=0.00033992654958649784\n",
      "generation 4, min=0.00023641681169441853, mean=0.0003124233144262413, mas=0.0003425794279430505\n",
      "generation 5, min=0.00025576102321810714, mean=0.00032212254055705386, mas=0.00035765851386886934\n",
      "generation 6, min=0.00018159226626463738, mean=0.00031414051827429715, mas=0.00035765851386886934\n",
      "generation 7, min=0.0002405852761440262, mean=0.0003220979031386178, mas=0.0004000968112417869\n",
      "generation 8, min=0.00024627170953007787, mean=0.0003339841836220137, mas=0.0004000968112417869\n",
      "generation 9, min=0.000240318564132791, mean=0.00033926118089655933, mas=0.00040110253242044906\n",
      "generation 10, min=0.0002337902702962191, mean=0.00034234921824400396, mas=0.00040110253242044906\n",
      "generation 11, min=0.00024125141404096538, mean=0.0003514026450718951, mas=0.00040521180880288734\n",
      "generation 12, min=0.00023149546145010522, mean=0.0003495864986890123, mas=0.00040521180880288734\n",
      "generation 13, min=0.00024462542782385685, mean=0.0003575953743777146, mas=0.00040521180880288734\n",
      "generation 14, min=0.00024170039680985323, mean=0.0003545765334755259, mas=0.00040521180880288734\n",
      "generation 15, min=0.00018969785943844037, mean=0.0003530347516455462, mas=0.00040521180880288734\n",
      "generation 16, min=0.0001685989036259896, mean=0.0003480465754111209, mas=0.00040521180880288734\n",
      "generation 17, min=0.00026271583473767564, mean=0.000359517768120126, mas=0.0004142716892713216\n",
      "generation 18, min=0.00019079982304948093, mean=0.00035126647415568084, mas=0.0004142716892713216\n",
      "generation 19, min=0.0001685989036259896, mean=0.00035512426853092656, mas=0.0004142716892713216\n",
      "generation 20, min=0.00018860898991574795, mean=0.0003467041922212602, mas=0.00041442327582178335\n",
      "generation 21, min=0.00021147978708159417, mean=0.000354690066893033, mas=0.0004173303555084258\n",
      "generation 22, min=0.00019701479204056721, mean=0.00034973702336411173, mas=0.0004173303555084258\n",
      "generation 23, min=0.00025040889524539375, mean=0.00036044780200519133, mas=0.00041827743649847023\n",
      "generation 24, min=0.00019625601519010418, mean=0.00035590209616614857, mas=0.0004190587861108614\n",
      "generation 25, min=0.00018820655253899354, mean=0.00035063636930539744, mas=0.00042063632041010584\n",
      "generation 26, min=0.00019077847054770804, mean=0.0003561676630765849, mas=0.00042063632041010584\n",
      "generation 27, min=0.00020072920858645607, mean=0.00034293898470263116, mas=0.00043121812729582246\n",
      "generation 28, min=0.00019112310799950893, mean=0.00034568371586217596, mas=0.00043121812729582246\n",
      "generation 29, min=0.0001685989036259896, mean=0.0003500784605099612, mas=0.00043121812729582246\n",
      "generation 30, min=0.0002387892390810088, mean=0.0003599748668973681, mas=0.00043121812729582246\n",
      "generation 31, min=0.00020160489095019738, mean=0.00036273559704766526, mas=0.00043121812729582246\n",
      "generation 32, min=0.00019021120566575117, mean=0.000355139182588481, mas=0.00043121812729582246\n",
      "generation 33, min=0.0001685989036259896, mean=0.00035713381379202285, mas=0.0004334400176979916\n",
      "generation 34, min=0.0001685989036259896, mean=0.0003435666789224139, mas=0.0004334400176979916\n",
      "generation 35, min=0.00019732137244834338, mean=0.00035079489987292317, mas=0.0004334400176979916\n",
      "generation 36, min=0.00019046789192986118, mean=0.000356153674440197, mas=0.0004334400176979916\n",
      "generation 37, min=0.00020133460845607928, mean=0.00034891332269070923, mas=0.0004334400176979916\n",
      "generation 38, min=0.0001911364277379563, mean=0.0003605318577327263, mas=0.0004334400176979916\n",
      "generation 39, min=0.0001685989036259896, mean=0.0003503040562597165, mas=0.0004334400176979916\n",
      "generation 40, min=0.00019220551344094675, mean=0.0003597675412264935, mas=0.00043514283573692017\n",
      "generation 41, min=0.00018608016172282148, mean=0.00035560144454225033, mas=0.00043514283573692017\n",
      "generation 42, min=0.0002444031087784072, mean=0.00036502759705189005, mas=0.000436288857952063\n",
      "generation 43, min=0.0001685989036259896, mean=0.00035095330015872804, mas=0.000436288857952063\n",
      "generation 44, min=0.0001685989036259896, mean=0.0003643555490170768, mas=0.000436288857952063\n",
      "generation 45, min=0.0001685989036259896, mean=0.0003617887444859675, mas=0.000436288857952063\n",
      "generation 46, min=0.0001685989036259896, mean=0.000344029849361277, mas=0.000436288857952063\n",
      "generation 47, min=0.0001849200052294093, mean=0.00036493675035901554, mas=0.000436288857952063\n",
      "generation 48, min=0.0002001863261680998, mean=0.0003627668891840884, mas=0.000436288857952063\n",
      "generation 49, min=0.00022008848731088342, mean=0.00036352233603504004, mas=0.000436288857952063\n",
      "Ошибка сохранения статистики в файл\n",
      "Результаты сохранены в файл: evalution1.xlsx\n",
      "лучшая пригодность:  0.000436288857952063\n",
      "лучшее решение:  less[s5,{'p': -0.004681851869910771}](less[age,{'p': 0.06531994481606868}](less[s5,{'p': -0.043277313320491485}](less[s1,{'p': -0.07862231987947402}](const{'const': 70.125}, less[age,{'p': -0.06908397787164988}](const{'const': 0}, const{'const': 0})), less[s1,{'p': -0.048351356999049355}](less[s1,{'p': -0.05247921557365272}](less[bmi,{'p': -0.07841936308582066}](const{'const': 0}, less[s6,{'p': -0.09427510308424122}](const{'const': 0}, const{'const': 0})), less[s1,{'p': -0.050415286286351044}](const{'const': 0}, const{'const': 0})), less[bmi,{'p': 0.01804481752651091}](less[bp,{'p': -0.02804895363577759}](const{'const': 0}, less[bp,{'p': 0.02359381100196133}](const{'const': 0}, const{'const': 0})), less[s1,{'p': -0.03871968699164151}](const{'const': 0}, less[s3,{'p': -0.01578856212137285}](less[s1,{'p': -0.02977599341333422}](const{'const': 0}, less[s5,{'p': -0.019303278456290478}](less[s2,{'p': 0.009646318736415003}](less[s1,{'p': 0}](const{'const': 0}, less[s3,{'p': 0}](const{'const': 0}, const{'const': 0})), less[sex,{'p': 0.003019241116414738}](const{'const': 0}, less[s6,{'p': 0.019632837073706312}](less[s4,{'p': 0}](less[age,{'p': 0}](less[age,{'p': 0}](const{'const': 0}, less[s5,{'p': 0}](const{'const': 0}, const{'const': 0})), const{'const': 0}), less[bmi,{'p': 0}](less[s4,{'p': 0}](less[s1,{'p': 0}](less[age,{'p': 0}](less[s1,{'p': 0}](const{'const': 0}, less[bp,{'p': 0}](const{'const': 0}, less[s5,{'p': 0}](const{'const': 0}, const{'const': 0}))), const{'const': 0}), const{'const': 0}), const{'const': 0}), const{'const': 0})), less[s6,{'p': 0}](const{'const': 0}, const{'const': 0})))), const{'const': 0})), const{'const': 0}))))), less[s1,{'p': -0.02908801698423366}](less[s2,{'p': -0.053453096314176274}](const{'const': 0}, const{'const': 0}), const{'const': 0})), less[bmi,{'p': 0.05576824011233889}](less[bmi,{'p': -0.011056108468270693}](less[s1,{'p': -0.05247921557365272}](less[s2,{'p': -0.06942366786544256}](const{'const': 0}, less[s5,{'p': 0.0020044426444965967}](const{'const': 0}, const{'const': 0})), less[s5,{'p': 0.04036745622852329}](less[sex,{'p': 0.003019241116414738}](less[s5,{'p': 0.02022653226181139}](less[bmi,{'p': -0.017522980911555484}](less[s1,{'p': -0.00638479482391517}](const{'const': 0}, less[s2,{'p': 0.02107623759173301}](const{'const': 0}, const{'const': 0})), const{'const': 0}), const{'const': 0}), const{'const': 0}), const{'const': 0})), less[s5,{'p': 0.003285184811196322}](const{'const': 173.5}, less[s1,{'p': 0.05278117807873303}](less[s4,{'p': -0.032666675512049936}](less[s5,{'p': 0.016671447243926052}](const{'const': 0}, const{'const': 0}), less[s2,{'p': 0.046128114534895806}](less[s5,{'p': 0.039255352710107876}](const{'const': 0}, less[bmi,{'p': 0.0121168511201665}](const{'const': 0}, const{'const': 0})), const{'const': 0})), less[s5,{'p': 0.04452417101866616}](const{'const': 0}, const{'const': 0})))), less[s2,{'p': -0.04812957246375418}](less[s5,{'p': 0.07942781341221208}](less[sex,{'p': 0.003019241116414738}](less[sex,{'p': 0}](less[sex,{'p': 0}](less[bmi,{'p': 0}](const{'const': 0}, const{'const': 0}), less[s2,{'p': 0}](less[s5,{'p': 0}](const{'const': 0}, less[bp,{'p': 0}](less[sex,{'p': 0}](less[s3,{'p': 0}](const{'const': 0}, less[age,{'p': 0}](const{'const': 0}, const{'const': 0})), less[s1,{'p': 0}](const{'const': 0}, less[s6,{'p': 0}](const{'const': 0}, less[s5,{'p': 0}](const{'const': 0}, const{'const': 0})))), less[bmi,{'p': 0}](less[s6,{'p': 0}](const{'const': 0}, less[s2,{'p': 0}](const{'const': 0}, const{'const': 0})), less[s1,{'p': 0}](const{'const': 0}, less[bp,{'p': 0}](less[s2,{'p': 0}](const{'const': 0}, less[bp,{'p': 0}](const{'const': 0}, less[s2,{'p': 0}](less[bp,{'p': 0}](less[s5,{'p': 0}](less[s4,{'p': 0}](const{'const': 0}, less[age,{'p': 0}](less[s6,{'p': 0}](const{'const': 0}, less[sex,{'p': 0}](const{'const': 0}, const{'const': 0})), const{'const': 0})), const{'const': 0}), less[age,{'p': 0}](less[s4,{'p': 0}](less[s5,{'p': 0}](less[s1,{'p': 0}](less[s1,{'p': 0}](const{'const': 0}, less[bp,{'p': 0}](const{'const': 0}, less[s5,{'p': 0}](const{'const': 0}, const{'const': 0}))), const{'const': 0}), const{'const': 0}), const{'const': 0}), const{'const': 0})), less[s6,{'p': 0}](const{'const': 0}, const{'const': 0})))), const{'const': 0}))))), less[bp,{'p': 0}](const{'const': 0}, const{'const': 0}))), const{'const': 0}), const{'const': 0}), const{'const': 0}), less[s2,{'p': 0.022485405669785928}](less[s4,{'p': 0.03615391492152223}](less[age,{'p': -0.02367724723390713}](less[bp,{'p': -0.05387033595464705}](less[s4,{'p': 0}](const{'const': 0}, less[s3,{'p': 0}](const{'const': 0}, const{'const': 0})), less[s1,{'p': -0.016016464831323015}](const{'const': 0}, less[s4,{'p': 0}](const{'const': 0}, less[s6,{'p': 0}](const{'const': 0}, const{'const': 0})))), const{'const': 0}), const{'const': 0}), less[s3,{'p': -0.04708248345611185}](const{'const': 252.2}, less[s2,{'p': 0.06992739763090046}](const{'const': 0}, const{'const': 0}))))))\n",
      "точность работы на исходном дереве: -3.6748172529327334\n"
     ]
    }
   ],
   "source": [
    "gp=gp_algorithm_design_tree(gp_tree_design_tree, n_ind=50, n_iter=50,\n",
    "                                 list_T=list_T, list_F=list_F, type_ini='LearnID3',\n",
    "                                   limit_level=4, params=params, selection=\"tournament\", n_tur=5,\n",
    "                 recombination=\"standart\", p_mut=0.1,)\n",
    "    \n",
    "rez=gp.opt()\n",
    "print('лучшая пригодность: ', rez['fit'])\n",
    "print('лучшее решение: ', rez['individ'].print_tree())\n",
    "e=rez['individ'].score(X=X, y=y, metric='r2_score')\n",
    "print(f'точность работы на исходном дереве: {e}')"
   ]
  },
  {
   "cell_type": "markdown",
   "metadata": {},
   "source": [
    "проверяем способ роста full стратегия с глубиной 4  \n",
    "оптимизация коэффициентов самооптимизация self_optimization"
   ]
  },
  {
   "cell_type": "code",
   "execution_count": 4,
   "metadata": {},
   "outputs": [
    {
     "name": "stdout",
     "output_type": "stream",
     "text": [
      "generation 0, min=0.0001910181101823881, mean=0.00022712598524019277, mas=0.00028369501628823605\n",
      "generation 1, min=0.00022851327065229643, mean=0.000259837321980464, mas=0.00028905338486926504\n",
      "generation 2, min=0.00022703127678179845, mean=0.00027936878439756773, mas=0.00029793746102638175\n",
      "generation 3, min=0.00025592575747377506, mean=0.00028366910480443765, mas=0.0002990718149165764\n",
      "generation 4, min=0.0002632291463101811, mean=0.00029040555812976006, mas=0.0003085693098612006\n",
      "generation 5, min=0.00024500598363544763, mean=0.0002886384744149338, mas=0.0003091422137416812\n",
      "generation 6, min=0.00022922201179527015, mean=0.0002955922391346627, mas=0.0003096506073472146\n",
      "generation 7, min=0.0001686089036259896, mean=0.0002988704004133932, mas=0.0003179660533913664\n",
      "generation 8, min=0.0002473737721741059, mean=0.0002975065898546542, mas=0.0003194446688267955\n",
      "generation 9, min=0.0001686089036259896, mean=0.0002988919694394348, mas=0.0003229434497575412\n",
      "generation 10, min=0.0002774937120527051, mean=0.00030940780600592784, mas=0.0003240919805682559\n",
      "generation 11, min=0.0001731005406368543, mean=0.0002996684657144, mas=0.00034752535199608403\n",
      "generation 12, min=0.00021710239008665858, mean=0.00030341850004041024, mas=0.00034752535199608403\n",
      "generation 13, min=0.00019914330831117101, mean=0.00030921641382521765, mas=0.0003588174681172274\n",
      "generation 14, min=0.0002572310564541311, mean=0.00032266513148591485, mas=0.0003588174681172274\n",
      "generation 15, min=0.00020512193872570763, mean=0.00031172864838007326, mas=0.0003588174681172274\n",
      "generation 16, min=0.0002098334652698913, mean=0.0003218019195805011, mas=0.0003588174681172274\n",
      "generation 17, min=0.0003070410990031562, mean=0.0003440423313845595, mas=0.00036400641207429125\n",
      "generation 18, min=0.00027359133135220257, mean=0.00032244146625564946, mas=0.00036400641207429125\n",
      "generation 19, min=0.0001878935303232199, mean=0.00031233068037501456, mas=0.0003655323283955702\n",
      "Ошибка сохранения статистики в файл\n",
      "Результаты сохранены в файл: evalution1.xlsx\n",
      "лучшая пригодность:  0.0003655323283955702\n",
      "лучшее решение:  less[s5,{'p': -0.004681851869910771}](less[age,{'p': 0.06531994481606868}](less[bmi,{'p': -0.04015703446305227}](less[s5,{'p': -0.027138138899553098}](const{'const': 86.33333333333333}, const{'const': 94.05555555555556}), less[s1,{'p': -0.0407836162789432}](const{'const': 123.53333333333333}, less[bmi,{'p': 0.01966153563733211}](less[s2,{'p': -0.017597597439274543}](const{'const': 96.0}, const{'const': 101.61818181818182}), less[s1,{'p': -0.02771206412603254}](const{'const': 229.0}, const{'const': 169.04347826086956})))), less[age,{'p': 0.07985009862014636}](less[bp,{'p': -0.03321323009955148}](const{'const': 84.75}, const{'const': 115.71428571428571}), less[s4,{'p': -0.021042822436138284}](const{'const': 70.0}, const{'const': 199.0}))), less[sex,{'p': 0.003019241116414738}](less[s6,{'p': 0.034130211275626904}](less[bp,{'p': -0.059034612418420944}](const{'const': 108.71428571428571}, less[s3,{'p': -0.045241664554068375}](const{'const': 253.28571428571428}, const{'const': 174.3090909090909})), const{'const': 235.93333333333334}), less[bmi,{'p': 0.05576824011233889}](less[bmi,{'p': -0.011056108468270693}](less[s2,{'p': -0.013996390128694886}](const{'const': 133.28571428571428}, const{'const': 135.17391304347825}), less[s6,{'p': 0.04448547856271305}](less[age,{'p': -6.574730228089433e-05}](const{'const': 144.33333333333334}, const{'const': 184.2051282051282}), less[s1,{'p': 0.04658939021682798}](const{'const': 234.33333333333334}, const{'const': 182.33333333333334}))), less[age,{'p': -0.021860978008397418}](less[s4,{'p': 0.07157899096239584}](less[s4,{'p': 0.015858298439771726}](const{'const': 250.0}, const{'const': 199.0}), less[s6,{'p': 0.054840745849799186}](less[s4,{'p': 0}](const{'const': 0}, const{'const': 243.0}), const{'const': 218.5})), less[s1,{'p': 0.022510215198308366}](less[sex,{'p': 0}](const{'const': 0}, less[s4,{'p': 0.015858298439771726}](less[s2,{'p': -0.06785792555649488}](const{'const': 281.0}, const{'const': 267.75}), less[s1,{'p': 0.014942474478202203}](const{'const': 296.4}, const{'const': 283.0}))), less[s1,{'p': 0.03282986163481678}](const{'const': 243.0}, const{'const': 269.1666666666667}))))))\n"
     ]
    },
    {
     "ename": "ValueError",
     "evalue": "Classification metrics can't handle a mix of multiclass and continuous targets",
     "output_type": "error",
     "traceback": [
      "\u001b[1;31m---------------------------------------------------------------------------\u001b[0m",
      "\u001b[1;31mValueError\u001b[0m                                Traceback (most recent call last)",
      "Cell \u001b[1;32mIn[4], line 10\u001b[0m\n\u001b[0;32m      8\u001b[0m \u001b[38;5;28mprint\u001b[39m(\u001b[38;5;124m'\u001b[39m\u001b[38;5;124mлучшая пригодность: \u001b[39m\u001b[38;5;124m'\u001b[39m, rez[\u001b[38;5;124m'\u001b[39m\u001b[38;5;124mfit\u001b[39m\u001b[38;5;124m'\u001b[39m])\n\u001b[0;32m      9\u001b[0m \u001b[38;5;28mprint\u001b[39m(\u001b[38;5;124m'\u001b[39m\u001b[38;5;124mлучшее решение: \u001b[39m\u001b[38;5;124m'\u001b[39m, rez[\u001b[38;5;124m'\u001b[39m\u001b[38;5;124mindivid\u001b[39m\u001b[38;5;124m'\u001b[39m]\u001b[38;5;241m.\u001b[39mprint_tree())\n\u001b[1;32m---> 10\u001b[0m e\u001b[38;5;241m=\u001b[39m\u001b[43mrez\u001b[49m\u001b[43m[\u001b[49m\u001b[38;5;124;43m'\u001b[39;49m\u001b[38;5;124;43mindivid\u001b[39;49m\u001b[38;5;124;43m'\u001b[39;49m\u001b[43m]\u001b[49m\u001b[38;5;241;43m.\u001b[39;49m\u001b[43mscore\u001b[49m\u001b[43m(\u001b[49m\u001b[43mX\u001b[49m\u001b[38;5;241;43m=\u001b[39;49m\u001b[43mX\u001b[49m\u001b[43m,\u001b[49m\u001b[43m \u001b[49m\u001b[43my\u001b[49m\u001b[38;5;241;43m=\u001b[39;49m\u001b[43my\u001b[49m\u001b[43m,\u001b[49m\u001b[43m \u001b[49m\u001b[43mmetric\u001b[49m\u001b[38;5;241;43m=\u001b[39;49m\u001b[38;5;124;43m'\u001b[39;49m\u001b[38;5;124;43mf1\u001b[39;49m\u001b[38;5;124;43m'\u001b[39;49m\u001b[43m)\u001b[49m\n\u001b[0;32m     11\u001b[0m \u001b[38;5;28mprint\u001b[39m(\u001b[38;5;124mf\u001b[39m\u001b[38;5;124m'\u001b[39m\u001b[38;5;124mточность работы на исходном дереве: \u001b[39m\u001b[38;5;132;01m{\u001b[39;00me\u001b[38;5;132;01m}\u001b[39;00m\u001b[38;5;124m'\u001b[39m)\n",
      "File \u001b[1;32md:\\User\\Projects\\Python\\GP_design_tree\\gp_tree_design_tree.py:288\u001b[0m, in \u001b[0;36mgp_tree_design_tree.score\u001b[1;34m(self, X, y, metric)\u001b[0m\n\u001b[0;32m    285\u001b[0m y_pred\u001b[38;5;241m=\u001b[39m\u001b[38;5;28mself\u001b[39m\u001b[38;5;241m.\u001b[39mpredict(X)\n\u001b[0;32m    287\u001b[0m \u001b[38;5;28;01mif\u001b[39;00m metric\u001b[38;5;241m==\u001b[39m\u001b[38;5;124m'\u001b[39m\u001b[38;5;124mf1\u001b[39m\u001b[38;5;124m'\u001b[39m:\n\u001b[1;32m--> 288\u001b[0m     rez\u001b[38;5;241m=\u001b[39m\u001b[43mf1_score\u001b[49m\u001b[43m(\u001b[49m\u001b[43my\u001b[49m\u001b[43m,\u001b[49m\u001b[43m \u001b[49m\u001b[43my_pred\u001b[49m\u001b[43m,\u001b[49m\u001b[43m \u001b[49m\u001b[43maverage\u001b[49m\u001b[38;5;241;43m=\u001b[39;49m\u001b[38;5;124;43m'\u001b[39;49m\u001b[38;5;124;43mmacro\u001b[39;49m\u001b[38;5;124;43m'\u001b[39;49m\u001b[43m)\u001b[49m\n\u001b[0;32m    289\u001b[0m \u001b[38;5;28;01melif\u001b[39;00m metric\u001b[38;5;241m==\u001b[39m\u001b[38;5;124m'\u001b[39m\u001b[38;5;124mmse\u001b[39m\u001b[38;5;124m'\u001b[39m:\n\u001b[0;32m    290\u001b[0m     rez\u001b[38;5;241m=\u001b[39mmse(y, y_pred)\n",
      "File \u001b[1;32mc:\\Users\\Leonid\\anaconda3\\envs\\env_dash\\lib\\site-packages\\sklearn\\metrics\\_classification.py:1146\u001b[0m, in \u001b[0;36mf1_score\u001b[1;34m(y_true, y_pred, labels, pos_label, average, sample_weight, zero_division)\u001b[0m\n\u001b[0;32m   1011\u001b[0m \u001b[38;5;28;01mdef\u001b[39;00m \u001b[38;5;21mf1_score\u001b[39m(\n\u001b[0;32m   1012\u001b[0m     y_true,\n\u001b[0;32m   1013\u001b[0m     y_pred,\n\u001b[1;32m   (...)\u001b[0m\n\u001b[0;32m   1019\u001b[0m     zero_division\u001b[38;5;241m=\u001b[39m\u001b[38;5;124m\"\u001b[39m\u001b[38;5;124mwarn\u001b[39m\u001b[38;5;124m\"\u001b[39m,\n\u001b[0;32m   1020\u001b[0m ):\n\u001b[0;32m   1021\u001b[0m \u001b[38;5;250m    \u001b[39m\u001b[38;5;124;03m\"\"\"Compute the F1 score, also known as balanced F-score or F-measure.\u001b[39;00m\n\u001b[0;32m   1022\u001b[0m \n\u001b[0;32m   1023\u001b[0m \u001b[38;5;124;03m    The F1 score can be interpreted as a harmonic mean of the precision and\u001b[39;00m\n\u001b[1;32m   (...)\u001b[0m\n\u001b[0;32m   1144\u001b[0m \u001b[38;5;124;03m    array([0.66666667, 1.        , 0.66666667])\u001b[39;00m\n\u001b[0;32m   1145\u001b[0m \u001b[38;5;124;03m    \"\"\"\u001b[39;00m\n\u001b[1;32m-> 1146\u001b[0m     \u001b[38;5;28;01mreturn\u001b[39;00m \u001b[43mfbeta_score\u001b[49m\u001b[43m(\u001b[49m\n\u001b[0;32m   1147\u001b[0m \u001b[43m        \u001b[49m\u001b[43my_true\u001b[49m\u001b[43m,\u001b[49m\n\u001b[0;32m   1148\u001b[0m \u001b[43m        \u001b[49m\u001b[43my_pred\u001b[49m\u001b[43m,\u001b[49m\n\u001b[0;32m   1149\u001b[0m \u001b[43m        \u001b[49m\u001b[43mbeta\u001b[49m\u001b[38;5;241;43m=\u001b[39;49m\u001b[38;5;241;43m1\u001b[39;49m\u001b[43m,\u001b[49m\n\u001b[0;32m   1150\u001b[0m \u001b[43m        \u001b[49m\u001b[43mlabels\u001b[49m\u001b[38;5;241;43m=\u001b[39;49m\u001b[43mlabels\u001b[49m\u001b[43m,\u001b[49m\n\u001b[0;32m   1151\u001b[0m \u001b[43m        \u001b[49m\u001b[43mpos_label\u001b[49m\u001b[38;5;241;43m=\u001b[39;49m\u001b[43mpos_label\u001b[49m\u001b[43m,\u001b[49m\n\u001b[0;32m   1152\u001b[0m \u001b[43m        \u001b[49m\u001b[43maverage\u001b[49m\u001b[38;5;241;43m=\u001b[39;49m\u001b[43maverage\u001b[49m\u001b[43m,\u001b[49m\n\u001b[0;32m   1153\u001b[0m \u001b[43m        \u001b[49m\u001b[43msample_weight\u001b[49m\u001b[38;5;241;43m=\u001b[39;49m\u001b[43msample_weight\u001b[49m\u001b[43m,\u001b[49m\n\u001b[0;32m   1154\u001b[0m \u001b[43m        \u001b[49m\u001b[43mzero_division\u001b[49m\u001b[38;5;241;43m=\u001b[39;49m\u001b[43mzero_division\u001b[49m\u001b[43m,\u001b[49m\n\u001b[0;32m   1155\u001b[0m \u001b[43m    \u001b[49m\u001b[43m)\u001b[49m\n",
      "File \u001b[1;32mc:\\Users\\Leonid\\anaconda3\\envs\\env_dash\\lib\\site-packages\\sklearn\\metrics\\_classification.py:1287\u001b[0m, in \u001b[0;36mfbeta_score\u001b[1;34m(y_true, y_pred, beta, labels, pos_label, average, sample_weight, zero_division)\u001b[0m\n\u001b[0;32m   1158\u001b[0m \u001b[38;5;28;01mdef\u001b[39;00m \u001b[38;5;21mfbeta_score\u001b[39m(\n\u001b[0;32m   1159\u001b[0m     y_true,\n\u001b[0;32m   1160\u001b[0m     y_pred,\n\u001b[1;32m   (...)\u001b[0m\n\u001b[0;32m   1167\u001b[0m     zero_division\u001b[38;5;241m=\u001b[39m\u001b[38;5;124m\"\u001b[39m\u001b[38;5;124mwarn\u001b[39m\u001b[38;5;124m\"\u001b[39m,\n\u001b[0;32m   1168\u001b[0m ):\n\u001b[0;32m   1169\u001b[0m \u001b[38;5;250m    \u001b[39m\u001b[38;5;124;03m\"\"\"Compute the F-beta score.\u001b[39;00m\n\u001b[0;32m   1170\u001b[0m \n\u001b[0;32m   1171\u001b[0m \u001b[38;5;124;03m    The F-beta score is the weighted harmonic mean of precision and recall,\u001b[39;00m\n\u001b[1;32m   (...)\u001b[0m\n\u001b[0;32m   1284\u001b[0m \u001b[38;5;124;03m    array([0.71..., 0.        , 0.        ])\u001b[39;00m\n\u001b[0;32m   1285\u001b[0m \u001b[38;5;124;03m    \"\"\"\u001b[39;00m\n\u001b[1;32m-> 1287\u001b[0m     _, _, f, _ \u001b[38;5;241m=\u001b[39m \u001b[43mprecision_recall_fscore_support\u001b[49m\u001b[43m(\u001b[49m\n\u001b[0;32m   1288\u001b[0m \u001b[43m        \u001b[49m\u001b[43my_true\u001b[49m\u001b[43m,\u001b[49m\n\u001b[0;32m   1289\u001b[0m \u001b[43m        \u001b[49m\u001b[43my_pred\u001b[49m\u001b[43m,\u001b[49m\n\u001b[0;32m   1290\u001b[0m \u001b[43m        \u001b[49m\u001b[43mbeta\u001b[49m\u001b[38;5;241;43m=\u001b[39;49m\u001b[43mbeta\u001b[49m\u001b[43m,\u001b[49m\n\u001b[0;32m   1291\u001b[0m \u001b[43m        \u001b[49m\u001b[43mlabels\u001b[49m\u001b[38;5;241;43m=\u001b[39;49m\u001b[43mlabels\u001b[49m\u001b[43m,\u001b[49m\n\u001b[0;32m   1292\u001b[0m \u001b[43m        \u001b[49m\u001b[43mpos_label\u001b[49m\u001b[38;5;241;43m=\u001b[39;49m\u001b[43mpos_label\u001b[49m\u001b[43m,\u001b[49m\n\u001b[0;32m   1293\u001b[0m \u001b[43m        \u001b[49m\u001b[43maverage\u001b[49m\u001b[38;5;241;43m=\u001b[39;49m\u001b[43maverage\u001b[49m\u001b[43m,\u001b[49m\n\u001b[0;32m   1294\u001b[0m \u001b[43m        \u001b[49m\u001b[43mwarn_for\u001b[49m\u001b[38;5;241;43m=\u001b[39;49m\u001b[43m(\u001b[49m\u001b[38;5;124;43m\"\u001b[39;49m\u001b[38;5;124;43mf-score\u001b[39;49m\u001b[38;5;124;43m\"\u001b[39;49m\u001b[43m,\u001b[49m\u001b[43m)\u001b[49m\u001b[43m,\u001b[49m\n\u001b[0;32m   1295\u001b[0m \u001b[43m        \u001b[49m\u001b[43msample_weight\u001b[49m\u001b[38;5;241;43m=\u001b[39;49m\u001b[43msample_weight\u001b[49m\u001b[43m,\u001b[49m\n\u001b[0;32m   1296\u001b[0m \u001b[43m        \u001b[49m\u001b[43mzero_division\u001b[49m\u001b[38;5;241;43m=\u001b[39;49m\u001b[43mzero_division\u001b[49m\u001b[43m,\u001b[49m\n\u001b[0;32m   1297\u001b[0m \u001b[43m    \u001b[49m\u001b[43m)\u001b[49m\n\u001b[0;32m   1298\u001b[0m     \u001b[38;5;28;01mreturn\u001b[39;00m f\n",
      "File \u001b[1;32mc:\\Users\\Leonid\\anaconda3\\envs\\env_dash\\lib\\site-packages\\sklearn\\metrics\\_classification.py:1573\u001b[0m, in \u001b[0;36mprecision_recall_fscore_support\u001b[1;34m(y_true, y_pred, beta, labels, pos_label, average, warn_for, sample_weight, zero_division)\u001b[0m\n\u001b[0;32m   1571\u001b[0m \u001b[38;5;28;01mif\u001b[39;00m beta \u001b[38;5;241m<\u001b[39m \u001b[38;5;241m0\u001b[39m:\n\u001b[0;32m   1572\u001b[0m     \u001b[38;5;28;01mraise\u001b[39;00m \u001b[38;5;167;01mValueError\u001b[39;00m(\u001b[38;5;124m\"\u001b[39m\u001b[38;5;124mbeta should be >=0 in the F-beta score\u001b[39m\u001b[38;5;124m\"\u001b[39m)\n\u001b[1;32m-> 1573\u001b[0m labels \u001b[38;5;241m=\u001b[39m \u001b[43m_check_set_wise_labels\u001b[49m\u001b[43m(\u001b[49m\u001b[43my_true\u001b[49m\u001b[43m,\u001b[49m\u001b[43m \u001b[49m\u001b[43my_pred\u001b[49m\u001b[43m,\u001b[49m\u001b[43m \u001b[49m\u001b[43maverage\u001b[49m\u001b[43m,\u001b[49m\u001b[43m \u001b[49m\u001b[43mlabels\u001b[49m\u001b[43m,\u001b[49m\u001b[43m \u001b[49m\u001b[43mpos_label\u001b[49m\u001b[43m)\u001b[49m\n\u001b[0;32m   1575\u001b[0m \u001b[38;5;66;03m# Calculate tp_sum, pred_sum, true_sum ###\u001b[39;00m\n\u001b[0;32m   1576\u001b[0m samplewise \u001b[38;5;241m=\u001b[39m average \u001b[38;5;241m==\u001b[39m \u001b[38;5;124m\"\u001b[39m\u001b[38;5;124msamples\u001b[39m\u001b[38;5;124m\"\u001b[39m\n",
      "File \u001b[1;32mc:\\Users\\Leonid\\anaconda3\\envs\\env_dash\\lib\\site-packages\\sklearn\\metrics\\_classification.py:1374\u001b[0m, in \u001b[0;36m_check_set_wise_labels\u001b[1;34m(y_true, y_pred, average, labels, pos_label)\u001b[0m\n\u001b[0;32m   1371\u001b[0m \u001b[38;5;28;01mif\u001b[39;00m average \u001b[38;5;129;01mnot\u001b[39;00m \u001b[38;5;129;01min\u001b[39;00m average_options \u001b[38;5;129;01mand\u001b[39;00m average \u001b[38;5;241m!=\u001b[39m \u001b[38;5;124m\"\u001b[39m\u001b[38;5;124mbinary\u001b[39m\u001b[38;5;124m\"\u001b[39m:\n\u001b[0;32m   1372\u001b[0m     \u001b[38;5;28;01mraise\u001b[39;00m \u001b[38;5;167;01mValueError\u001b[39;00m(\u001b[38;5;124m\"\u001b[39m\u001b[38;5;124maverage has to be one of \u001b[39m\u001b[38;5;124m\"\u001b[39m \u001b[38;5;241m+\u001b[39m \u001b[38;5;28mstr\u001b[39m(average_options))\n\u001b[1;32m-> 1374\u001b[0m y_type, y_true, y_pred \u001b[38;5;241m=\u001b[39m \u001b[43m_check_targets\u001b[49m\u001b[43m(\u001b[49m\u001b[43my_true\u001b[49m\u001b[43m,\u001b[49m\u001b[43m \u001b[49m\u001b[43my_pred\u001b[49m\u001b[43m)\u001b[49m\n\u001b[0;32m   1375\u001b[0m \u001b[38;5;66;03m# Convert to Python primitive type to avoid NumPy type / Python str\u001b[39;00m\n\u001b[0;32m   1376\u001b[0m \u001b[38;5;66;03m# comparison. See https://github.com/numpy/numpy/issues/6784\u001b[39;00m\n\u001b[0;32m   1377\u001b[0m present_labels \u001b[38;5;241m=\u001b[39m unique_labels(y_true, y_pred)\u001b[38;5;241m.\u001b[39mtolist()\n",
      "File \u001b[1;32mc:\\Users\\Leonid\\anaconda3\\envs\\env_dash\\lib\\site-packages\\sklearn\\metrics\\_classification.py:95\u001b[0m, in \u001b[0;36m_check_targets\u001b[1;34m(y_true, y_pred)\u001b[0m\n\u001b[0;32m     92\u001b[0m     y_type \u001b[38;5;241m=\u001b[39m {\u001b[38;5;124m\"\u001b[39m\u001b[38;5;124mmulticlass\u001b[39m\u001b[38;5;124m\"\u001b[39m}\n\u001b[0;32m     94\u001b[0m \u001b[38;5;28;01mif\u001b[39;00m \u001b[38;5;28mlen\u001b[39m(y_type) \u001b[38;5;241m>\u001b[39m \u001b[38;5;241m1\u001b[39m:\n\u001b[1;32m---> 95\u001b[0m     \u001b[38;5;28;01mraise\u001b[39;00m \u001b[38;5;167;01mValueError\u001b[39;00m(\n\u001b[0;32m     96\u001b[0m         \u001b[38;5;124m\"\u001b[39m\u001b[38;5;124mClassification metrics can\u001b[39m\u001b[38;5;124m'\u001b[39m\u001b[38;5;124mt handle a mix of \u001b[39m\u001b[38;5;132;01m{0}\u001b[39;00m\u001b[38;5;124m and \u001b[39m\u001b[38;5;132;01m{1}\u001b[39;00m\u001b[38;5;124m targets\u001b[39m\u001b[38;5;124m\"\u001b[39m\u001b[38;5;241m.\u001b[39mformat(\n\u001b[0;32m     97\u001b[0m             type_true, type_pred\n\u001b[0;32m     98\u001b[0m         )\n\u001b[0;32m     99\u001b[0m     )\n\u001b[0;32m    101\u001b[0m \u001b[38;5;66;03m# We can't have more than one value on y_type => The set is no more needed\u001b[39;00m\n\u001b[0;32m    102\u001b[0m y_type \u001b[38;5;241m=\u001b[39m y_type\u001b[38;5;241m.\u001b[39mpop()\n",
      "\u001b[1;31mValueError\u001b[0m: Classification metrics can't handle a mix of multiclass and continuous targets"
     ]
    }
   ],
   "source": [
    "gp=gp_algorithm_design_tree(gp_tree_design_tree, n_ind=20, n_iter=20,\n",
    "                                 list_T=list_T, list_F=list_F, type_ini='full',\n",
    "                                   limit_level=4, params=params, \n",
    "                                   selection=\"tournament\", n_tur=5,\n",
    "                            recombination=\"standart\", p_mut=0.1,)\n",
    "    \n",
    "rez=gp.opt()\n",
    "print('лучшая пригодность: ', rez['fit'])\n",
    "print('лучшее решение: ', rez['individ'].print_tree())\n",
    "e=rez['individ'].score(X=X, y=y, metric='f1')\n",
    "print(f'точность работы на исходном дереве: {e}')"
   ]
  },
  {
   "cell_type": "markdown",
   "metadata": {},
   "source": [
    "проверяем способ роста nofull стратегия с глубиной 4  \n",
    "оптимизация коэффициентов самооптимизация self_optimization"
   ]
  },
  {
   "cell_type": "code",
   "execution_count": 7,
   "metadata": {},
   "outputs": [
    {
     "name": "stdout",
     "output_type": "stream",
     "text": [
      "generation 0, min=0.5354545454545454, mean=0.6320190329421439, mas=0.9014048629872637\n",
      "generation 1, min=0.5354545454545454, mean=0.7313497316078625, mas=0.9014048629872637\n",
      "generation 2, min=0.6533273862622658, mean=0.8551471055905827, mas=0.9014048629872637\n",
      "generation 3, min=0.5354545454545454, mean=0.7773168508247149, mas=0.9153072625698324\n",
      "generation 4, min=0.5354545454545454, mean=0.8559336132360971, mas=0.9253072625698324\n",
      "generation 5, min=0.5354545454545454, mean=0.8661888128375452, mas=0.9253072625698324\n",
      "generation 6, min=0.5354545454545454, mean=0.8321055721032475, mas=0.9253072625698324\n",
      "generation 7, min=0.5354545454545454, mean=0.8550709400509096, mas=0.9314791987673343\n",
      "generation 8, min=0.5354545454545454, mean=0.8072581258155476, mas=0.9314791987673343\n",
      "generation 9, min=0.5354545454545454, mean=0.809325107288366, mas=0.9314791987673343\n",
      "generation 10, min=0.5354545454545454, mean=0.8337576851751504, mas=0.9314791987673343\n",
      "generation 11, min=0.5354545454545454, mean=0.8204597328415388, mas=0.9314791987673343\n",
      "generation 12, min=0.5354545454545454, mean=0.8386796538276003, mas=0.9314791987673343\n",
      "generation 13, min=0.5354545454545454, mean=0.8243641369453684, mas=0.9314791987673343\n",
      "generation 14, min=0.5354545454545454, mean=0.8161514150847482, mas=0.9314791987673343\n",
      "generation 15, min=0.5354545454545454, mean=0.8421864086499815, mas=0.9314791987673343\n",
      "generation 16, min=0.5354545454545454, mean=0.8514128293793956, mas=0.9340158503312979\n",
      "generation 17, min=0.5354545454545454, mean=0.8537449439447237, mas=0.9340158503312979\n",
      "generation 18, min=0.5354545454545454, mean=0.8703107102492526, mas=0.9340158503312979\n",
      "generation 19, min=0.5354545454545454, mean=0.8678223629551238, mas=0.9340158503312979\n",
      "Ошибка сохранения статистики в файл\n",
      "Результаты сохранены в файл: evalution1.xlsx\n",
      "лучшая пригодность:  0.9340158503312979\n",
      "лучшее решение:  less[petal width (cm),{'p': 0.8}](nom_class:0, less[petal width (cm),{'p': 1.75}](less[petal length (cm),{'p': 4.95}](nom_class:1, nom_class:2), nom_class:2))\n",
      "точность работы на исходном дереве: 0.9733226623982927\n"
     ]
    }
   ],
   "source": [
    "gp=gp_algorithm_design_tree(gp_tree_design_tree, n_ind=20, n_iter=20,\n",
    "                                 list_T=list_T, list_F=list_F, type_ini='nofull',\n",
    "                                   limit_level=4, params=params, \n",
    "                                   selection=\"tournament\", n_tur=5,\n",
    "                            recombination=\"standart\", p_mut=0.1,)\n",
    "    \n",
    "rez=gp.opt()\n",
    "print('лучшая пригодность: ', rez['fit'])\n",
    "print('лучшее решение: ', rez['individ'].print_tree())\n",
    "e=rez['individ'].score(X=X, y=y, metric='f1')\n",
    "print(f'точность работы на исходном дереве: {e}')"
   ]
  },
  {
   "cell_type": "markdown",
   "metadata": {},
   "source": [
    "проверяем способ роста LearnID3 стратегия с глубиной 4  \n",
    "оптимизация коэффициентов самооптимизация DE"
   ]
  },
  {
   "cell_type": "code",
   "execution_count": null,
   "metadata": {},
   "outputs": [],
   "source": [
    "params['method']='DE'\n",
    "\n",
    "gp=gp_algorithm_design_tree(gp_tree_design_tree, n_ind=20, n_iter=20,\n",
    "                                 list_T=list_T, list_F=list_F, type_ini='LearnID3',\n",
    "                                   limit_level=4, params=params, \n",
    "                                   selection=\"tournament\", n_tur=5,\n",
    "                            recombination=\"standart\", p_mut=0.1,)\n",
    "    \n",
    "rez=gp.opt()\n",
    "print('лучшая пригодность: ', rez['fit'])\n",
    "print('лучшее решение: ', rez['individ'].print_tree())\n",
    "e=rez['individ'].score(X=X, y=y, metric='f1')\n",
    "print(f'точность работы на исходном дереве: {e}')"
   ]
  }
 ],
 "metadata": {
  "kernelspec": {
   "display_name": "env_dash",
   "language": "python",
   "name": "python3"
  },
  "language_info": {
   "codemirror_mode": {
    "name": "ipython",
    "version": 3
   },
   "file_extension": ".py",
   "mimetype": "text/x-python",
   "name": "python",
   "nbconvert_exporter": "python",
   "pygments_lexer": "ipython3",
   "version": "3.9.18"
  }
 },
 "nbformat": 4,
 "nbformat_minor": 2
}
