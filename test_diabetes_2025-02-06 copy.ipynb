{
 "cells": [
  {
   "cell_type": "code",
   "execution_count": 16,
   "metadata": {},
   "outputs": [],
   "source": [
    "from gp_algorithm_design_tree import gp_algorithm_design_tree\n",
    "from gp_list_design_tree import *\n",
    "from gp_tree_design_tree import gp_tree_design_tree\n",
    "from sklearn.datasets import load_diabetes\n",
    "import pandas as pd"
   ]
  },
  {
   "cell_type": "markdown",
   "metadata": {},
   "source": [
    "загружаем данные и готовим списки функциональных и терминальных узлов  \n",
    "готвоим основные параметры алгоритма"
   ]
  },
  {
   "cell_type": "code",
   "execution_count": null,
   "metadata": {},
   "outputs": [],
   "source": [
    "# data = load_diabetes()\n",
    "# X=data.data\n",
    "# X=pd.DataFrame(X, columns=data.feature_names)\n",
    "# y=data.target\n",
    "# y=pd.Series(y, name='y')\n",
    "df=pd.read_excel('diabets.xlsx')\n",
    "y=df['y']\n",
    "del df['y']\n",
    "X=df\n",
    "\n",
    "# params={'X':X, 'y':y,'method':'DE','score_metric':'f1','iterations':20   }\n",
    "params={'X':X, 'y':y,'mask':None,'epsilon':1e-10, 'num_samples':4,'inf_name':'mse', 'list_F':None, 'list_T':None,\n",
    "        'n_features':3,'method':'self_optimization','score_metric':'mse','iterations':50,\n",
    "        'penalty_num_node':0.0000000000001, 'n_split':5,  }\n",
    "list_T=[]\n",
    "list_T.append(list_regr_const())\n",
    "\n",
    "list_F=[]\n",
    "for c in X.columns:\n",
    "    list_F.append(list_less(name_feature=c ))\n"
   ]
  },
  {
   "cell_type": "markdown",
   "metadata": {},
   "source": [
    "проверяем способ роста жадная стратегия LearnID3  \n",
    "оптимизация коэффициентов самооптимизация self_optimization"
   ]
  },
  {
   "cell_type": "code",
   "execution_count": 15,
   "metadata": {},
   "outputs": [
    {
     "name": "stdout",
     "output_type": "stream",
     "text": [
      "generation 0, min=0.00017377832010549246, mean=0.0002383352709464557, mas=0.00032616965120722943\n",
      "generation 1, min=0.00018610936942988748, mean=0.0002806974938355606, mas=0.00032616965120722943\n",
      "generation 2, min=0.00019722886361890645, mean=0.00029265564110746194, mas=0.00032616965120722943\n",
      "generation 3, min=0.00027093766709205934, mean=0.00030767848169740763, mas=0.00033198169343174683\n",
      "generation 4, min=0.0002936160970346473, mean=0.0003169454310352711, mas=0.0003345275966688\n",
      "generation 5, min=0.00025498477921972855, mean=0.00031669438515960583, mas=0.00034774010030302974\n",
      "generation 6, min=0.0002890915309210862, mean=0.00032389141773377984, mas=0.00034774010030302974\n",
      "generation 7, min=0.000294963335235765, mean=0.00033014620906475603, mas=0.0003523178063433986\n",
      "generation 8, min=0.00028308085485328636, mean=0.00032491903209149787, mas=0.0003523178063433986\n",
      "generation 9, min=0.00025244689597638887, mean=0.0003239684412229246, mas=0.0003554626518848098\n",
      "generation 10, min=0.00027556250210011786, mean=0.00033343653560663, mas=0.0003592742084014684\n",
      "generation 11, min=0.00026329952293748416, mean=0.00032927715174122066, mas=0.0003592742084014684\n",
      "generation 12, min=0.0002607329816184972, mean=0.00033134557401755065, mas=0.0003592742084014684\n",
      "generation 13, min=0.0002672282526487335, mean=0.000329403666421039, mas=0.0003592742084014684\n",
      "generation 14, min=0.000281373930536037, mean=0.00033038087223301863, mas=0.000369036163389962\n",
      "generation 15, min=0.00021875946013556738, mean=0.00032517449223598164, mas=0.000369036163389962\n",
      "generation 16, min=0.0003160137215912228, mean=0.0003464509977575205, mas=0.000369036163389962\n",
      "generation 17, min=0.00026219863453928174, mean=0.0003348147059888771, mas=0.000369036163389962\n",
      "generation 18, min=0.00027270041110322445, mean=0.0003256450109836733, mas=0.000369036163389962\n",
      "generation 19, min=0.0001685989036259896, mean=0.00033453995534769415, mas=0.00037140318313342235\n",
      "Результаты сохранены в файл: evalution0.xlsx\n",
      "лучшая пригодность:  0.00037140318313342235\n",
      "лучшее решение:  less[s5,{'p': -0.0046825838436045705}](less[s3,{'p': 0.032072729331758046}](less[s1,{'p': -0.06211088558106105}](less[s6,{'p': 0.01341967670145505}](less[s2,{'p': -0.05877662016459785}](less[bp,{'p': -0.014277787289274925}](less[s1,{'p': -0.08756601345778195}](less[s6,{'p': -0.07770667542490844}](const{'const': 70.0}, less[s1,{'p': -0.0958217306069889}](const{'const': 152.0}, less[s6,{'p': -0.0093619113301358}](const{'const': 129.0}, const{'const': 137.0}))), const{'const': 98.33333333333333}), less[s4,{'p': -0.05794394331204644}](const{'const': 101.0}, const{'const': 160.0})), const{'const': 102.0}), less[s5,{'p': -0.04914000905239955}](const{'const': 178.0}, const{'const': 92.33333333333333})), less[s1,{'p': -0.04903933342815035}](less[s5,{'p': -0.03990106533357015}](less[s3,{'p': -0.02131101882750445}](less[s2,{'p': -0.016188429361221397}](less[s4,{'p': 0}](const{'const': 201.0}, const{'const': 0}), const{'const': 55.0}), const{'const': 105.42857142857143}), less[s1,{'p': -0.05454314486095485}](const{'const': 161.33333333333334}, const{'const': 71.66666666666667})), less[bmi,{'p': 0.019122629600392953}](less[s6,{'p': 0.040343371647880696}](const{'const': 106.59375}, less[bmi,{'p': -0.02021751109626}](const{'const': 122.0}, const{'const': 116.5})), const{'const': 169.2962962962963}))), less[sex,{'p': 0.0030192411164148523}](const{'const': 97.32786885245902}, const{'const': 66.06666666666666})), less[bmi,{'p': 0.05576824011234355}](less[bmi,{'p': -0.011056108468272301}](less[bmi,{'p': -0.06925796045784095}](const{'const': 75.5}, less[age,{'p': 0.047157252560972945}](less[s4,{'p': 0.04593271195363765}](less[s1,{'p': -0.05247921557365315}](less[s1,{'p': -0.07380648487577066}](const{'const': 178.0}, const{'const': 197.0}), less[sex,{'p': 0.0030192411164148523}](const{'const': 155.85}, const{'const': 108.08333333333333})), const{'const': 153.88888888888889}), const{'const': 166.6})), less[s5,{'p': 0.00328775437618805}](const{'const': 173.5}, less[s1,{'p': 0.052781178078733296}](less[Unnamed: 0,{'p': 66.0}](less[s4,{'p': 0.01862588250546493}](const{'const': 203.375}, less[age,{'p': 0.014464406501796954}](const{'const': 143.0}, const{'const': 144.0})), less[sex,{'p': 0.0030192411164148523}](less[s1,{'p': 0.0321418852057163}](less[s1,{'p': -0.01464051197312205}](less[s6,{'p': -0.01971717861722255}](const{'const': 99.0}, less[s6,{'p': 0.0051354628717857}](less[bmi,{'p': 0}](const{'const': 0}, const{'const': 280.0}), const{'const': 218.0})), const{'const': 209.33333333333334}), const{'const': 237.0}), const{'const': 189.1})), less[s5,{'p': 0.044521990333453096}](const{'const': 126.21428571428571}, const{'const': 215.73684210526315})))), less[bmi,{'p': 0.0573849582231649}](less[s2,{'p': -0.0410837320734892}](less[s5,{'p': 0}](less[s4,{'p': 0}](less[s1,{'p': 0}](less[s2,{'p': 0}](const{'const': 0}, less[s1,{'p': 0}](const{'const': 0}, less[age,{'p': 0}](const{'const': 0}, const{'const': 0}))), const{'const': 0}), const{'const': 0}), less[s1,{'p': 0}](less[s2,{'p': 0}](less[s1,{'p': 0}](const{'const': 272.0}, const{'const': 0}), const{'const': 0}), const{'const': 0})), const{'const': 306.5}), less[bmi,{'p': 0.101575253252282}](less[bmi,{'p': 0.07247432725749756}](less[s1,{'p': 0.019758309481906197}](const{'const': 208.22222222222223}, less[sex,{'p': 0.0030192411164148523}](less[s4,{'p': 0.036707431734660345}](less[s1,{'p': 0}](less[s1,{'p': 0}](const{'const': 0}, const{'const': 0}), less[s1,{'p': 0}](const{'const': 0}, const{'const': 215.0})), const{'const': 144.0}), const{'const': 240.625})), less[s5,{'p': 0.0330450193409933}](const{'const': 245.42857142857142}, less[s1,{'p': 0.015630450907302806}](less[s6,{'p': 0.0755512804239757}](less[s4,{'p': -0.00185423958066464}](const{'const': 275.0}, less[age,{'p': 0.0326270987568947}](const{'const': 275.0}, const{'const': 275.0})), less[s5,{'p': 0}](less[Unnamed: 0,{'p': 0}](less[s1,{'p': 0}](less[s6,{'p': 0}](const{'const': 0}, less[s1,{'p': 0}](const{'const': 0}, less[s2,{'p': 0}](const{'const': 0}, const{'const': 0}))), const{'const': 0}), const{'const': 0}), const{'const': 263.0})), less[s5,{'p': 0.053360234938798046}](const{'const': 233.0}, const{'const': 286.3333333333333})))), less[s5,{'p': 0.015864122378349985}](less[s5,{'p': -0.00016888422909758252}](less[s5,{'p': 0}](less[s4,{'p': 0}](less[s1,{'p': 0}](less[s1,{'p': 0}](const{'const': 0}, less[bp,{'p': 0}](const{'const': 0}, less[bp,{'p': 0}](const{'const': 0}, const{'const': 0}))), const{'const': 237.0}), less[bp,{'p': 0}](less[bmi,{'p': 0}](const{'const': 0}, const{'const': 0}), less[s4,{'p': 0}](const{'const': 0}, const{'const': 0}))), less[s6,{'p': 0}](less[s2,{'p': 0}](less[bp,{'p': 0}](const{'const': 0}, const{'const': 0}), const{'const': 0}), const{'const': 0})), const{'const': 331.0}), less[bmi,{'p': 0.107503219658627}](less[s5,{'p': 0}](const{'const': 0}, const{'const': 270.0}), less[s5,{'p': 0.03426050299927215}](const{'const': 308.0}, const{'const': 270.0})))))))\n",
      "точность работы на исходном дереве: 0.5472237913792337\n"
     ]
    }
   ],
   "source": [
    "gp=gp_algorithm_design_tree(gp_tree_design_tree, n_ind=20, n_iter=20,\n",
    "                                 list_T=list_T, list_F=list_F, type_ini='LearnID3',\n",
    "                                   limit_level=4, params=params, selection=\"tournament\", n_tur=5,\n",
    "                 recombination=\"standart\", p_mut=0.1,)\n",
    "    \n",
    "rez=gp.opt()\n",
    "print('лучшая пригодность: ', rez['fit'])\n",
    "print('лучшее решение: ', rez['individ'].print_tree())\n",
    "e=rez['individ'].score(X=X, y=y, metric='r2_score')\n",
    "print(f'точность работы на исходном дереве: {e}')"
   ]
  },
  {
   "cell_type": "markdown",
   "metadata": {},
   "source": [
    "проверяем способ роста full стратегия с глубиной 4  \n",
    "оптимизация коэффициентов самооптимизация self_optimization"
   ]
  },
  {
   "cell_type": "code",
   "execution_count": 18,
   "metadata": {},
   "outputs": [
    {
     "name": "stdout",
     "output_type": "stream",
     "text": [
      "generation 0, min=0.00018302744399596615, mean=0.00022633351029652281, mas=0.00028771053194202775\n",
      "generation 1, min=0.0001686089035259896, mean=0.0002544760357961161, mas=0.00029364770645709726\n",
      "generation 2, min=0.0001686089035259896, mean=0.00026973112531472653, mas=0.0003192859012330046\n",
      "generation 3, min=0.00018601739624801722, mean=0.00027864187867046055, mas=0.0003197353295869108\n",
      "generation 4, min=0.0001686089035259896, mean=0.0002839905939003284, mas=0.00033216822851943486\n",
      "generation 5, min=0.00021137393767320782, mean=0.0002925708845403858, mas=0.00034329047421280574\n",
      "generation 6, min=0.00025981016553967905, mean=0.0003077835289835786, mas=0.0003445218358626304\n",
      "generation 7, min=0.00020373455856352303, mean=0.00030833774283587603, mas=0.0003586605276759664\n",
      "generation 8, min=0.00022867678002370508, mean=0.000318571041520044, mas=0.0003586605276759664\n",
      "generation 9, min=0.0001686089035259896, mean=0.0003180677101042427, mas=0.00036119712723409376\n",
      "generation 10, min=0.0002440598264527811, mean=0.0003271123683842636, mas=0.00036119712723409376\n",
      "generation 11, min=0.0002463079904126848, mean=0.00032614457982032787, mas=0.00037068041406982814\n",
      "generation 12, min=0.0002151392066628298, mean=0.0003264066628943961, mas=0.00037068041406982814\n",
      "generation 13, min=0.00022080143189138576, mean=0.00033928367964215366, mas=0.0003796157225376864\n",
      "generation 14, min=0.00016892208887331526, mean=0.0003273244444142396, mas=0.0003928857662116134\n",
      "generation 15, min=0.00022447019974753052, mean=0.0003408535133980078, mas=0.0003928857662116134\n",
      "generation 16, min=0.00018197627672664004, mean=0.00033171386579181723, mas=0.0003928857662116134\n",
      "generation 17, min=0.00024347031295798404, mean=0.00035280234194694297, mas=0.00041177898451937793\n",
      "generation 18, min=0.00023233626301429974, mean=0.0003464262369878303, mas=0.00041177898451937793\n",
      "generation 19, min=0.00020586574124626154, mean=0.0003553614756117885, mas=0.00041177898451937793\n",
      "generation 20, min=0.0002490800084566172, mean=0.0003434372389064366, mas=0.0004192498974694823\n",
      "generation 21, min=0.0002794424575544532, mean=0.00036561286633092217, mas=0.0004192498974694823\n",
      "generation 22, min=0.0001686089035259896, mean=0.0003600125273907581, mas=0.0004192498974694823\n",
      "generation 23, min=0.0002637540165483821, mean=0.0003702314824493698, mas=0.00042253800166616094\n",
      "generation 24, min=0.00024976966181458615, mean=0.0003641321631594045, mas=0.0004279703952612425\n",
      "generation 25, min=0.0002703642557676101, mean=0.0003721344470172713, mas=0.0004279703952612425\n",
      "generation 26, min=0.0001686089035259896, mean=0.0003599526552383046, mas=0.0004279703952612425\n",
      "generation 27, min=0.00025456343698407693, mean=0.00036916277801604544, mas=0.0004279703952612425\n",
      "generation 28, min=0.00025558751826543636, mean=0.00037034669562610985, mas=0.0004279703952612425\n",
      "generation 29, min=0.00024829467118783066, mean=0.0003618160752772122, mas=0.00044736515545256724\n",
      "generation 30, min=0.0002647468055054561, mean=0.0003783087930325884, mas=0.00045065349407446545\n",
      "generation 31, min=0.0002662455222745071, mean=0.0003707533946354216, mas=0.00045065349407446545\n",
      "generation 32, min=0.0001728467248800825, mean=0.00037241216728447156, mas=0.00045065349407446545\n",
      "generation 33, min=0.00024937501531441665, mean=0.0003805746079560977, mas=0.00045762842151799473\n",
      "generation 34, min=0.00018906558150252325, mean=0.0003750726732483122, mas=0.00045762842151799473\n",
      "generation 35, min=0.00021375860314709142, mean=0.0003781102517629908, mas=0.00045762842151799473\n",
      "generation 36, min=0.00023859546618583787, mean=0.00038171429838979585, mas=0.00045762842151799473\n",
      "generation 37, min=0.00021458935548188248, mean=0.00037406792284028987, mas=0.0004654936102112422\n",
      "generation 38, min=0.00024195772647209822, mean=0.0003878222419488753, mas=0.00047779849516418416\n",
      "generation 39, min=0.0002439698798559745, mean=0.0003915518593585597, mas=0.00047779849516418416\n",
      "generation 40, min=0.0001951119222025256, mean=0.000383705069024753, mas=0.00047779849516418416\n",
      "generation 41, min=0.0002268694646584598, mean=0.00037422856796140154, mas=0.00047779849516418416\n",
      "generation 42, min=0.0002204100919262343, mean=0.0003778701881296765, mas=0.0004808573057165474\n",
      "generation 43, min=0.0002346414262103904, mean=0.0003877243296220223, mas=0.0005025890714638437\n",
      "generation 44, min=0.0002722247459599304, mean=0.0003965836930177222, mas=0.0005025890714638437\n",
      "generation 45, min=0.00020149477959846557, mean=0.00039415820387426846, mas=0.0005025890714638437\n",
      "generation 46, min=0.0001788286309484366, mean=0.0003979487415772994, mas=0.0005025890714638437\n",
      "generation 47, min=0.00022243058063128784, mean=0.00040319175118579804, mas=0.000504581828594042\n",
      "generation 48, min=0.00028779835207905626, mean=0.0003977252930913907, mas=0.000504581828594042\n",
      "generation 49, min=0.0001686089035259896, mean=0.00038974201878443776, mas=0.0005130562329422247\n",
      "Результаты сохранены в файл: evalution0.xlsx\n",
      "лучшая пригодность:  0.0005130562329422247\n",
      "лучшее решение:  less[s5,{'p': -0.0046825838436045705}](less[s4,{'p': -0.0476116294667919}](const{'const': 91.1875}, less[bmi,{'p': -0.04015703446305665}](less[bmi,{'p': -0.04446828275858025}](const{'const': 90.46938775510205}, const{'const': 65.83333333333333}), less[s6,{'p': 0.01341967670145505}](less[s5,{'p': -0.04543244270490385}](less[s4,{'p': -0.02768502419380095}](less[s2,{'p': -0.04922559208001705}](less[s6,{'p': -0.1004882634564992}](less[s4,{'p': 0}](less[s3,{'p': 0}](less[sex,{'p': 0}](const{'const': 0}, less[s6,{'p': 0}](const{'const': 0}, const{'const': 0})), less[s6,{'p': 0}](const{'const': 125.0}, const{'const': 0})), less[s1,{'p': 0}](less[s1,{'p': 0}](const{'const': 0}, const{'const': 0}), const{'const': 0})), const{'const': 57.0}), less[s1,{'p': -0.012576582685820351}](const{'const': 86.75}, const{'const': 73.2})), less[age,{'p': 0.0253620218548556}](less[s5,{'p': -0.0892268461618507}](less[s6,{'p': 0}](const{'const': 201.0}, const{'const': 0}), less[s1,{'p': -0.0063847948239152755}](less[bmi,{'p': 0.020200441674273803}](less[bmi,{'p': 0}](const{'const': 55.0}, const{'const': 0}), less[age,{'p': 0}](less[s4,{'p': 0}](less[sex,{'p': 0}](less[s5,{'p': 0}](less[s6,{'p': 0}](less[s1,{'p': 0}](less[s3,{'p': 0}](less[s2,{'p': 0}](const{'const': 0}, less[bmi,{'p': 0}](const{'const': 0}, const{'const': 0})), less[s6,{'p': 0}](const{'const': 0}, const{'const': 0})), less[s2,{'p': 0}](less[s1,{'p': 0}](const{'const': 0}, const{'const': 0}), const{'const': 0})), const{'const': 55.0}), less[s2,{'p': 0}](const{'const': 0}, const{'const': 0})), less[bmi,{'p': 0}](less[s5,{'p': 0}](less[s6,{'p': 0}](const{'const': 0}, const{'const': 0}), less[s4,{'p': 0}](const{'const': 0}, const{'const': 0})), less[s1,{'p': 0}](less[Unnamed: 0,{'p': 0}](less[s4,{'p': 0}](const{'const': 0}, const{'const': 0}), const{'const': 0}), less[bmi,{'p': 0}](const{'const': 0}, const{'const': 0})))), less[s1,{'p': 0}](less[bmi,{'p': 0}](less[s3,{'p': 0}](const{'const': 0}, const{'const': 0}), less[bp,{'p': 0}](const{'const': 0}, const{'const': 0})), less[s6,{'p': 0}](less[s1,{'p': 0}](const{'const': 0}, const{'const': 0}), less[sex,{'p': 0}](less[bp,{'p': 0}](less[s4,{'p': 0}](less[s3,{'p': 0}](less[age,{'p': 0}](const{'const': 0}, const{'const': 0}), const{'const': 0}), less[Unnamed: 0,{'p': 0}](const{'const': 0}, less[bp,{'p': 0}](const{'const': 0}, const{'const': 0}))), less[s4,{'p': 0}](less[s4,{'p': 0}](less[s2,{'p': 0}](const{'const': 0}, const{'const': 0}), less[s6,{'p': 0}](const{'const': 0}, const{'const': 0})), less[s6,{'p': 0}](less[s2,{'p': 0}](less[sex,{'p': 0}](const{'const': 0}, const{'const': 0}), less[Unnamed: 0,{'p': 0}](const{'const': 0}, const{'const': 0})), less[s3,{'p': 0}](less[s1,{'p': 0}](const{'const': 0}, const{'const': 0}), less[bmi,{'p': 0}](const{'const': 0}, const{'const': 0}))))), const{'const': 0})))), const{'const': 0})), const{'const': 156.5})), less[s5,{'p': -0.0833212678102358}](less[s1,{'p': 0}](less[s5,{'p': 0}](const{'const': 69.0}, const{'const': 0}), const{'const': 0}), less[s5,{'p': -0.06484100506970496}](const{'const': 80.0}, const{'const': 144.5})))), less[bmi,{'p': 0.006188884713822104}](less[age,{'p': 0.0435247141099534}](less[s1,{'p': 0.02182223876920785}](less[s5,{'p': -0.027724444051162603}](less[s6,{'p': -0.044569820106230854}](const{'const': 91.6}, less[bmi,{'p': -0.009978296394391425}](less[bmi,{'p': -0.02614547750260495}](const{'const': 119.33333333333333}, const{'const': 148.0}), less[s6,{'p': -0.0321434993617267}](less[s5,{'p': 0}](less[s4,{'p': 0}](less[s2,{'p': 0}](less[s6,{'p': 0}](less[s1,{'p': 0}](less[s3,{'p': 0}](less[s2,{'p': 0}](const{'const': 0}, less[bmi,{'p': 0}](const{'const': 0}, const{'const': 0})), less[s6,{'p': 0}](const{'const': 0}, const{'const': 0})), less[s1,{'p': 0}](less[bmi,{'p': 0}](const{'const': 0}, const{'const': 0}), const{'const': 0})), const{'const': 0}), less[s4,{'p': 0}](const{'const': 60.0}, const{'const': 0})), less[age,{'p': 0}](less[s5,{'p': 0}](less[s6,{'p': 0}](const{'const': 0}, const{'const': 0}), less[Unnamed: 0,{'p': 0}](const{'const': 0}, const{'const': 0})), less[s5,{'p': 0}](less[Unnamed: 0,{'p': 0}](less[s6,{'p': 0}](const{'const': 0}, const{'const': 0}), const{'const': 0}), less[bmi,{'p': 0}](const{'const': 0}, const{'const': 0})))), less[bmi,{'p': 0}](less[bmi,{'p': 0}](less[s1,{'p': 0}](const{'const': 0}, const{'const': 0}), less[bp,{'p': 0}](const{'const': 0}, const{'const': 0})), less[Unnamed: 0,{'p': 0}](less[age,{'p': 0}](const{'const': 0}, const{'const': 0}), less[s5,{'p': 0}](less[s3,{'p': 0}](less[s4,{'p': 0}](less[s2,{'p': 0}](less[age,{'p': 0}](const{'const': 0}, const{'const': 0}), const{'const': 0}), less[s6,{'p': 0}](const{'const': 0}, less[bp,{'p': 0}](const{'const': 0}, const{'const': 0}))), less[s4,{'p': 0}](less[s4,{'p': 0}](less[s6,{'p': 0}](const{'const': 0}, const{'const': 0}), less[age,{'p': 0}](const{'const': 0}, const{'const': 0})), less[s6,{'p': 0}](less[s1,{'p': 0}](less[s5,{'p': 0}](const{'const': 0}, const{'const': 0}), less[bmi,{'p': 0}](const{'const': 0}, const{'const': 0})), less[bmi,{'p': 0}](less[s3,{'p': 0}](const{'const': 0}, const{'const': 0}), less[s1,{'p': 0}](const{'const': 0}, const{'const': 0}))))), const{'const': 0})))), const{'const': 101.33333333333333}))), less[bmi,{'p': -0.01536735676379595}](less[s2,{'p': -0.006011104353061628}](less[s1,{'p': -0.06073493272285995}](const{'const': 219.0}, less[s6,{'p': -0.01971717861722255}](less[s4,{'p': 0}](less[s3,{'p': 0.0136645403113227}](less[s5,{'p': 0}](const{'const': 150.0}, const{'const': 0}), less[Unnamed: 0,{'p': 149.0}](const{'const': 168.0}, const{'const': 200.0})), less[s2,{'p': 0}](const{'const': 0}, less[s2,{'p': 0}](const{'const': 0}, const{'const': 0}))), less[s5,{'p': -0.01551310478103275}](const{'const': 88.0}, less[s4,{'p': -0.021042822436137358}](less[s3,{'p': 0}](less[age,{'p': 0}](less[s1,{'p': 0}](const{'const': 0}, const{'const': 0}), less[bp,{'p': 0}](less[age,{'p': 0}](less[s5,{'p': 0}](less[sex,{'p': 0}](less[s2,{'p': 0}](const{'const': 0}, const{'const': 0}), less[Unnamed: 0,{'p': 0}](const{'const': 0}, const{'const': 0})), less[bp,{'p': 0}](less[age,{'p': 0}](const{'const': 0}, const{'const': 0}), less[s2,{'p': 0}](const{'const': 0}, const{'const': 0}))), less[bmi,{'p': 0}](less[s3,{'p': 0}](less[s3,{'p': 0}](const{'const': 0}, less[age,{'p': 0}](less[s4,{'p': 0}](less[s1,{'p': 0}](less[age,{'p': 0}](const{'const': 0}, const{'const': 0}), less[s2,{'p': 0}](const{'const': 0}, const{'const': 0})), const{'const': 0}), const{'const': 0})), less[s6,{'p': 0}](const{'const': 0}, less[s4,{'p': 0}](less[s4,{'p': 0}](const{'const': 0}, const{'const': 0}), const{'const': 0}))), less[age,{'p': 0}](less[s1,{'p': 0}](less[s4,{'p': 0}](less[Unnamed: 0,{'p': 0}](const{'const': 0}, const{'const': 0}), less[s3,{'p': 0}](const{'const': 0}, const{'const': 0})), less[Unnamed: 0,{'p': 0}](less[age,{'p': 0}](const{'const': 0}, const{'const': 0}), less[s5,{'p': 0}](const{'const': 0}, const{'const': 0}))), less[bmi,{'p': 0}](less[s2,{'p': 0}](less[bp,{'p': 0}](const{'const': 0}, const{'const': 0}), less[s2,{'p': 0}](less[sex,{'p': 0}](const{'const': 0}, const{'const': 0}), const{'const': 0})), less[s1,{'p': 0}](less[s1,{'p': 0}](less[s1,{'p': 0}](const{'const': 0}, const{'const': 0}), const{'const': 0}), less[s4,{'p': 0}](const{'const': 0}, const{'const': 0})))))), const{'const': 0})), const{'const': 148.0}), less[s1,{'p': -0.04215956913714465}](less[age,{'p': 0}](less[bp,{'p': 0}](const{'const': 0}, const{'const': 0}), less[s4,{'p': 0}](less[Unnamed: 0,{'p': 0}](const{'const': 0}, const{'const': 0}), const{'const': 77.0})), less[sex,{'p': 0}](less[age,{'p': 0}](less[s4,{'p': 0}](const{'const': 0}, const{'const': 0}), const{'const': 0}), less[s4,{'p': 0}](const{'const': 160.0}, const{'const': 0}))))))), less[bp,{'p': -0.03149214075795625}](const{'const': 214.0}, less[s5,{'p': -0.012930455436144201}](less[s4,{'p': -0.021042822436137358}](const{'const': 53.0}, const{'const': 53.0}), less[s6,{'p': -0.011432964787553145}](const{'const': 71.0}, const{'const': 51.0})))), less[sex,{'p': 0.0030192411164148523}](less[s3,{'p': 0.0007788079970179702}](less[s4,{'p': -0.021042822436137358}](less[bp,{'p': 0}](const{'const': 0}, const{'const': 155.0}), less[s1,{'p': 0}](const{'const': 97.0}, const{'const': 0})), less[s1,{'p': -0.04215956913714465}](less[s6,{'p': 0}](const{'const': 190.0}, const{'const': 0}), less[bp,{'p': -0.033213576104824324}](const{'const': 160.0}, const{'const': 56.5}))), less[age,{'p': -0.02912605491043769}](less[age,{'p': 0}](less[s5,{'p': 0}](const{'const': 61.0}, const{'const': 0}), less[s2,{'p': 0}](less[Unnamed: 0,{'p': 0}](const{'const': 0}, const{'const': 0}), const{'const': 0})), less[bp,{'p': -0.0165730344126943}](less[s1,{'p': 0}](less[s3,{'p': 0}](const{'const': 97.0}, const{'const': 0}), const{'const': 0}), less[s4,{'p': -0.021042822436137358}](const{'const': 92.0}, const{'const': 83.0})))))), const{'const': 108.14285714285714}), less[bp,{'p': -0.0194420933298793}](const{'const': 132.33333333333334}, const{'const': 84.5})), less[s3,{'p': -0.024992656631591552}](less[age,{'p': 0.027178291080365402}](const{'const': 288.0}, const{'const': 174.5}), less[s5,{'p': -0.0170582675330177}](less[s5,{'p': -0.042582893876799505}](less[s4,{'p': 0}](less[s4,{'p': 0}](less[s6,{'p': 0}](const{'const': 187.0}, const{'const': 0}), const{'const': 0}), less[bmi,{'p': 0}](const{'const': 0}, less[bmi,{'p': 0}](const{'const': 0}, const{'const': 0}))), less[bmi,{'p': 0.02774512619144015}](less[bmi,{'p': 0.010500133009345729}](less[s6,{'p': 0}](const{'const': 182.0}, const{'const': 0}), less[age,{'p': -0.07271651632267234}](const{'const': 246.0}, const{'const': 156.33333333333334})), less[Unnamed: 0,{'p': 57.5}](less[s2,{'p': -0.01321351897422084}](less[s5,{'p': 0}](const{'const': 184.0}, const{'const': 0}), less[sex,{'p': 0}](const{'const': 129.0}, const{'const': 0})), less[bmi,{'p': 0.040139965041070494}](less[bp,{'p': -0.0624779770015826}](const{'const': 172.0}, const{'const': 80.0}), less[s1,{'p': -0.0256481348387311}](const{'const': 293.0}, const{'const': 139.66666666666666}))))), const{'const': 207.8})))), const{'const': 126.61538461538461}))), less[bmi,{'p': 0.05576824011234355}](less[s4,{'p': 0.01438225360473534}](less[s1,{'p': -0.05247921557365315}](const{'const': 187.71428571428572}, less[age,{'p': -0.0036982857533008153}](less[s5,{'p': 0.025383420430202898}](less[age,{'p': -0.0600026317441039}](less[s5,{'p': 0.001575818964668165}](const{'const': 162.0}, const{'const': 90.0}), less[Unnamed: 0,{'p': 56.0}](const{'const': 276.0}, const{'const': 70.42857142857143})), less[s2,{'p': -0.04077058361169965}](less[bmi,{'p': 0.019122629600392932}](const{'const': 161.0}, const{'const': 99.0}), less[s1,{'p': -0.009824676969418125}](const{'const': 194.33333333333334}, const{'const': 190.25}))), less[bmi,{'p': -0.0067448601727487}](less[s3,{'p': 0.01734617811540977}](less[s1,{'p': -0.00569681839481472}](const{'const': 98.75}, less[bmi,{'p': -0.036923598241413946}](less[bmi,{'p': 0}](less[s1,{'p': 0}](less[bp,{'p': 0}](const{'const': 0}, const{'const': 0}), less[s1,{'p': 0}](const{'const': 0}, const{'const': 206.0})), less[s5,{'p': 0}](less[Unnamed: 0,{'p': 0}](const{'const': 0}, const{'const': 0}), less[s5,{'p': 0}](const{'const': 0}, const{'const': 0}))), less[sex,{'p': 0.0030192411164148523}](less[Unnamed: 0,{'p': 0}](less[age,{'p': 0}](const{'const': 0}, const{'const': 0}), less[s6,{'p': 0}](const{'const': 0}, const{'const': 154.0})), less[s4,{'p': 0}](less[s4,{'p': 0}](less[s4,{'p': 0}](less[Unnamed: 0,{'p': 0}](const{'const': 0}, const{'const': 185.0}), const{'const': 0}), const{'const': 0}), less[bmi,{'p': 0}](const{'const': 0}, const{'const': 0}))))), less[s6,{'p': -0.0549250873933176}](const{'const': 78.0}, less[s5,{'p': 0.0409182102322395}](less[bp,{'p': 0.008100872220010815}](const{'const': 131.0}, const{'const': 184.66666666666666}), const{'const': 92.5}))), less[s1,{'p': 0.0190703330528056}](less[bp,{'p': -0.0269016464939031}](less[age,{'p': 0.02536202185485563}](less[sex,{'p': 0}](const{'const': 0}, const{'const': 90.0}), less[bp,{'p': 0}](const{'const': 198.0}, const{'const': 0})), less[age,{'p': 0.0180969449528165}](less[age,{'p': 0.00719932959975785}](const{'const': 222.33333333333334}, const{'const': 255.6}), less[s5,{'p': 0.0299268555083056}](const{'const': 185.66666666666666}, const{'const': 234.75}))), less[s5,{'p': 0.017414772030764636}](less[age,{'p': 0.02354575262934585}](less[s6,{'p': 0.0320591578182113}](const{'const': 141.0}, const{'const': 85.0}), less[s2,{'p': 0.0198236437445748}](less[s4,{'p': 0}](const{'const': 109.0}, const{'const': 0}), const{'const': 169.0})), less[s3,{'p': 0.0007788079970179702}](less[s1,{'p': 0.02732605020201235}](less[s4,{'p': 0}](const{'const': 270.0}, const{'const': 0}), const{'const': 220.0}), less[Unnamed: 0,{'p': 93.5}](const{'const': 159.66666666666666}, const{'const': 238.125}))))))), less[s6,{'p': 0.0175617836162898}](const{'const': 167.6086956521739}, less[s5,{'p': 0.01808958763103295}](less[s5,{'p': 0.009031392353390826}](const{'const': 161.2}, const{'const': 164.75}), less[s4,{'p': 0.09648724755363286}](const{'const': 187.57142857142858}, const{'const': 263.14285714285717})))), less[sex,{'p': 0.0030192411164148523}](less[s5,{'p': 0.03545609720789635}](less[age,{'p': -0.03275859336145725}](less[s3,{'p': -0.03787838894589625}](const{'const': 346.0}, const{'const': 103.0}), less[bp,{'p': -0.0406731292860625}](const{'const': 91.0}, const{'const': 259.0})), less[s2,{'p': -0.02840121937101315}](less[s5,{'p': 0.05275275835557615}](const{'const': 272.0}, const{'const': 243.5}), less[bp,{'p': 0.016134237229443224}](const{'const': 244.25}, const{'const': 235.0}))), less[s3,{'p': -0.0967845938112894}](less[sex,{'p': 0}](less[s5,{'p': 0}](const{'const': 0}, const{'const': 0}), less[bp,{'p': 0}](less[Unnamed: 0,{'p': 0}](const{'const': 0}, const{'const': 0}), const{'const': 341.0})), less[bp,{'p': 0.07351541540099975}](less[s1,{'p': 0.0156304509073028}](less[Unnamed: 0,{'p': 80.0}](const{'const': 205.0}, const{'const': 276.2}), const{'const': 238.6153846153846}), less[bp,{'p': 0.0924512042165492}](const{'const': 296.0}, const{'const': 268.0}))))))\n",
      "точность работы на исходном дереве: 0.6714769332044455\n"
     ]
    }
   ],
   "source": [
    "gp=gp_algorithm_design_tree(gp_tree_design_tree, n_ind=50, n_iter=50,\n",
    "                                 list_T=list_T, list_F=list_F, type_ini='full',\n",
    "                                   limit_level=4, params=params, \n",
    "                                   selection=\"tournament\", n_tur=5,\n",
    "                            recombination=\"standart\", p_mut=0.1,)\n",
    "    \n",
    "rez=gp.opt()\n",
    "print('лучшая пригодность: ', rez['fit'])\n",
    "print('лучшее решение: ', rez['individ'].print_tree())\n",
    "e=rez['individ'].score(X=X, y=y, metric='r2_score')\n",
    "print(f'точность работы на исходном дереве: {e}')"
   ]
  },
  {
   "cell_type": "markdown",
   "metadata": {},
   "source": [
    "проверяем способ роста nofull стратегия с глубиной 4  \n",
    "оптимизация коэффициентов самооптимизация self_optimization"
   ]
  },
  {
   "cell_type": "code",
   "execution_count": 7,
   "metadata": {},
   "outputs": [
    {
     "name": "stdout",
     "output_type": "stream",
     "text": [
      "generation 0, min=0.5354545454545454, mean=0.6320190329421439, mas=0.9014048629872637\n",
      "generation 1, min=0.5354545454545454, mean=0.7313497316078625, mas=0.9014048629872637\n",
      "generation 2, min=0.6533273862622658, mean=0.8551471055905827, mas=0.9014048629872637\n",
      "generation 3, min=0.5354545454545454, mean=0.7773168508247149, mas=0.9153072625698324\n",
      "generation 4, min=0.5354545454545454, mean=0.8559336132360971, mas=0.9253072625698324\n",
      "generation 5, min=0.5354545454545454, mean=0.8661888128375452, mas=0.9253072625698324\n",
      "generation 6, min=0.5354545454545454, mean=0.8321055721032475, mas=0.9253072625698324\n",
      "generation 7, min=0.5354545454545454, mean=0.8550709400509096, mas=0.9314791987673343\n",
      "generation 8, min=0.5354545454545454, mean=0.8072581258155476, mas=0.9314791987673343\n",
      "generation 9, min=0.5354545454545454, mean=0.809325107288366, mas=0.9314791987673343\n",
      "generation 10, min=0.5354545454545454, mean=0.8337576851751504, mas=0.9314791987673343\n",
      "generation 11, min=0.5354545454545454, mean=0.8204597328415388, mas=0.9314791987673343\n",
      "generation 12, min=0.5354545454545454, mean=0.8386796538276003, mas=0.9314791987673343\n",
      "generation 13, min=0.5354545454545454, mean=0.8243641369453684, mas=0.9314791987673343\n",
      "generation 14, min=0.5354545454545454, mean=0.8161514150847482, mas=0.9314791987673343\n",
      "generation 15, min=0.5354545454545454, mean=0.8421864086499815, mas=0.9314791987673343\n",
      "generation 16, min=0.5354545454545454, mean=0.8514128293793956, mas=0.9340158503312979\n",
      "generation 17, min=0.5354545454545454, mean=0.8537449439447237, mas=0.9340158503312979\n",
      "generation 18, min=0.5354545454545454, mean=0.8703107102492526, mas=0.9340158503312979\n",
      "generation 19, min=0.5354545454545454, mean=0.8678223629551238, mas=0.9340158503312979\n",
      "Ошибка сохранения статистики в файл\n",
      "Результаты сохранены в файл: evalution1.xlsx\n",
      "лучшая пригодность:  0.9340158503312979\n",
      "лучшее решение:  less[petal width (cm),{'p': 0.8}](nom_class:0, less[petal width (cm),{'p': 1.75}](less[petal length (cm),{'p': 4.95}](nom_class:1, nom_class:2), nom_class:2))\n",
      "точность работы на исходном дереве: 0.9733226623982927\n"
     ]
    }
   ],
   "source": [
    "gp=gp_algorithm_design_tree(gp_tree_design_tree, n_ind=20, n_iter=20,\n",
    "                                 list_T=list_T, list_F=list_F, type_ini='nofull',\n",
    "                                   limit_level=4, params=params, \n",
    "                                   selection=\"tournament\", n_tur=5,\n",
    "                            recombination=\"standart\", p_mut=0.1,)\n",
    "    \n",
    "rez=gp.opt()\n",
    "print('лучшая пригодность: ', rez['fit'])\n",
    "print('лучшее решение: ', rez['individ'].print_tree())\n",
    "e=rez['individ'].score(X=X, y=y, metric='f1')\n",
    "print(f'точность работы на исходном дереве: {e}')"
   ]
  },
  {
   "cell_type": "markdown",
   "metadata": {},
   "source": [
    "проверяем способ роста LearnID3 стратегия с глубиной 4  \n",
    "оптимизация коэффициентов самооптимизация DE"
   ]
  },
  {
   "cell_type": "code",
   "execution_count": null,
   "metadata": {},
   "outputs": [],
   "source": [
    "params['method']='DE'\n",
    "\n",
    "gp=gp_algorithm_design_tree(gp_tree_design_tree, n_ind=20, n_iter=20,\n",
    "                                 list_T=list_T, list_F=list_F, type_ini='LearnID3',\n",
    "                                   limit_level=4, params=params, \n",
    "                                   selection=\"tournament\", n_tur=5,\n",
    "                            recombination=\"standart\", p_mut=0.1,)\n",
    "    \n",
    "rez=gp.opt()\n",
    "print('лучшая пригодность: ', rez['fit'])\n",
    "print('лучшее решение: ', rez['individ'].print_tree())\n",
    "e=rez['individ'].score(X=X, y=y, metric='f1')\n",
    "print(f'точность работы на исходном дереве: {e}')"
   ]
  }
 ],
 "metadata": {
  "kernelspec": {
   "display_name": "env_dash",
   "language": "python",
   "name": "python3"
  },
  "language_info": {
   "codemirror_mode": {
    "name": "ipython",
    "version": 3
   },
   "file_extension": ".py",
   "mimetype": "text/x-python",
   "name": "python",
   "nbconvert_exporter": "python",
   "pygments_lexer": "ipython3",
   "version": "3.9.18"
  }
 },
 "nbformat": 4,
 "nbformat_minor": 2
}
