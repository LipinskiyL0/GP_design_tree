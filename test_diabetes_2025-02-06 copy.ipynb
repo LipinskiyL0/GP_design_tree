{
 "cells": [
  {
   "cell_type": "code",
   "execution_count": 1,
   "metadata": {},
   "outputs": [],
   "source": [
    "from gp_algorithm_design_tree import gp_algorithm_design_tree\n",
    "from gp_list_design_tree import *\n",
    "from gp_tree_design_tree import gp_tree_design_tree\n",
    "from sklearn.datasets import load_diabetes"
   ]
  },
  {
   "cell_type": "markdown",
   "metadata": {},
   "source": [
    "загружаем данные и готовим списки функциональных и терминальных узлов  \n",
    "готвоим основные параметры алгоритма"
   ]
  },
  {
   "cell_type": "code",
   "execution_count": 2,
   "metadata": {},
   "outputs": [],
   "source": [
    "data = load_diabetes()\n",
    "X=data.data\n",
    "X=pd.DataFrame(X, columns=data.feature_names)\n",
    "y=data.target\n",
    "y=pd.Series(y, name='y')\n",
    "# params={'X':X, 'y':y,'method':'DE','score_metric':'f1','iterations':20   }\n",
    "params={'X':X, 'y':y,'mask':None,'epsilon':1e-10, 'num_samples':4,'inf_name':'mse', 'list_F':None, 'list_T':None,\n",
    "        'n_features':3,'method':'self_optimization','score_metric':'mse','iterations':50,'penalty_num_node':0.000001  }\n",
    "list_T=[]\n",
    "list_T.append(list_regr_const())\n",
    "\n",
    "list_F=[]\n",
    "for c in X.columns:\n",
    "    list_F.append(list_less(name_feature=c ))\n"
   ]
  },
  {
   "cell_type": "markdown",
   "metadata": {},
   "source": [
    "проверяем способ роста жадная стратегия LearnID3  \n",
    "оптимизация коэффициентов самооптимизация self_optimization"
   ]
  },
  {
   "cell_type": "code",
   "execution_count": 3,
   "metadata": {},
   "outputs": [
    {
     "name": "stdout",
     "output_type": "stream",
     "text": [
      "generation 0, min=0.0001800718829381688, mean=0.00022960733130965473, mas=0.0003079486368599894\n",
      "generation 1, min=0.0001686089036259896, mean=0.0002541621722967862, mas=0.00031023960066356123\n",
      "generation 2, min=0.0002584771081656493, mean=0.0002888344029693679, mas=0.00031730814751481555\n",
      "generation 3, min=0.0002582240325221197, mean=0.0002998310171168169, mas=0.00031845439655224696\n",
      "generation 4, min=0.0002506450418056699, mean=0.0003058648956780277, mas=0.00032416052279573014\n",
      "generation 5, min=0.0002659510487009787, mean=0.00030890411592943704, mas=0.0003271922627066384\n",
      "generation 6, min=0.00030368872567493565, mean=0.0003196029424824437, mas=0.00035181759391651843\n",
      "generation 7, min=0.00028890067317071034, mean=0.00032316090320035496, mas=0.00035206169839500603\n",
      "generation 8, min=0.00024074171064277465, mean=0.0003236255130500242, mas=0.00036012200188381786\n",
      "generation 9, min=0.000261173807404373, mean=0.0003315669385401894, mas=0.00036012200188381786\n",
      "generation 10, min=0.0001686089036259896, mean=0.0003217506474265385, mas=0.00036012200188381786\n",
      "generation 11, min=0.0002573216586087848, mean=0.00033889846127442655, mas=0.0003630014352505409\n",
      "generation 12, min=0.00023475090807715895, mean=0.00033287999449002213, mas=0.0003716083341770835\n",
      "generation 13, min=0.00023653901876586638, mean=0.0003196335549369125, mas=0.0003716083341770835\n",
      "generation 14, min=0.00021877946013556737, mean=0.0003200657194750866, mas=0.0003716083341770835\n",
      "generation 15, min=0.000297956571141025, mean=0.0003433235190388835, mas=0.0003716083341770835\n",
      "generation 16, min=0.0002668269622669047, mean=0.0003407527636517318, mas=0.0003716083341770835\n",
      "generation 17, min=0.0002579439703636905, mean=0.0003415678927954379, mas=0.00037777494725699934\n",
      "generation 18, min=0.0002621680679030517, mean=0.0003448648123469314, mas=0.0003783140181200535\n",
      "generation 19, min=0.0002099815022849541, mean=0.00033252049418875523, mas=0.0003794131681789773\n",
      "Ошибка сохранения статистики в файл\n",
      "Результаты сохранены в файл: evalution1.xlsx\n",
      "лучшая пригодность:  0.0003794131681789773\n",
      "лучшее решение:  less[s5,{'p': -0.004681851869910771}](less[age,{'p': 0.06531994481606868}](less[s5,{'p': -0.043277313320491485}](less[bmi,{'p': -0.04662390690633707}](less[s5,{'p': -0.057812141682076504}](less[sex,{'p': 0.003019241116414738}](less[bmi,{'p': -0.05632421557126427}](less[sex,{'p': 0}](less[age,{'p': -0.07271651632266932}](less[s3,{'p': -0.002902829807068556}](const{'const': 101.0}, const{'const': 106.0}), const{'const': 62.833333333333336}), const{'const': 0}), const{'const': 113.8}), less[s4,{'p': -0.057943943312048295}](const{'const': 45.0}, const{'const': 88.85714285714286})), less[bmi,{'p': -0.05794093368208547}](const{'const': 75.0}, const{'const': 67.5})), const{'const': 95.43181818181819}), less[bmi,{'p': 0.0061888847138220964}](const{'const': 103.5625}, less[bmi,{'p': 0.026667314117557295}](const{'const': 165.1}, less[s4,{'p': -0.021042822436138284}](less[age,{'p': -0.06726770864614018}](less[bmi,{'p': 0.03582871674554408}](less[age,{'p': 0}](less[sex,{'p': 0}](const{'const': 302.0}, const{'const': 0}), const{'const': 0}), const{'const': 103.0}), const{'const': 178.85714285714286}), less[s4,{'p': 0.05275941931568173}](const{'const': 184.1818181818182}, const{'const': 244.0}))))), less[age,{'p': 0.07985009862014636}](const{'const': 104.45454545454545}, const{'const': 134.5})), less[bmi,{'p': 0.05576824011233889}](less[s4,{'p': 0.014382253604735325}](less[bp,{'p': 0.0614651717363032}](less[s4,{'p': -0.032666675512049936}](less[age,{'p': 0.027178291080364757}](less[s2,{'p': -0.013370093205115816}](less[age,{'p': -0.09814428547980525}](const{'const': 140.0}, less[s1,{'p': -0.08825398988688186}](const{'const': 151.0}, const{'const': 195.8181818181818})), const{'const': 75.66666666666667}), const{'const': 130.25}), less[bmi,{'p': -0.005667048098866695}](const{'const': 118.63157894736842}, const{'const': 199.0})), const{'const': 228.58333333333334}), less[s2,{'p': -0.027774922447434416}](const{'const': 192.75}, const{'const': 179.5222222222222})), less[s3,{'p': -0.045241664554068375}](less[s2,{'p': -0.039517989764541975}](less[age,{'p': 0.01991321417832592}](less[sex,{'p': 0}](less[age,{'p': 0}](const{'const': 272.0}, less[sex,{'p': 0}](const{'const': 0}, const{'const': 0})), const{'const': 0}), const{'const': 263.0}), less[bmi,{'p': 0.06061839444480248}](const{'const': 268.0}, const{'const': 278.1818181818182})), less[s3,{'p': -0.01210692431728591}](less[bp,{'p': 0.07523657563970025}](less[s6,{'p': 0.013419676701454629}](less[s6,{'p': -0.011432964787552107}](less[sex,{'p': 0.003019241116414738}](less[bmi,{'p': 0}](less[bmi,{'p': 0}](less[s6,{'p': 0}](const{'const': 0}, const{'const': 0}), const{'const': 0}), less[s1,{'p': 0}](const{'const': 0}, const{'const': 91.0})), const{'const': 151.0}), less[s5,{'p': 0.03047702739671408}](const{'const': 178.0}, less[sex,{'p': 0}](less[s3,{'p': -0.026833475533633674}](const{'const': 281.0}, less[s1,{'p': 0.08374011738825825}](const{'const': 215.0}, const{'const': 121.0})), less[sex,{'p': 0}](const{'const': 0}, const{'const': 0})))), less[s5,{'p': 0.06635148146822105}](const{'const': 258.75}, less[s5,{'p': 0.07668857482791838}](less[s4,{'p': 0.015858298439771726}](less[s2,{'p': 0}](less[s2,{'p': 0}](less[s4,{'p': 0}](less[s6,{'p': 0}](less[bmi,{'p': 0}](less[bp,{'p': 0}](less[bp,{'p': 0}](less[s4,{'p': 0}](const{'const': 0}, const{'const': 0}), const{'const': 0}), less[bmi,{'p': 0}](const{'const': 0}, const{'const': 0})), const{'const': 0}), less[sex,{'p': 0}](const{'const': 303.0}, less[sex,{'p': 0}](less[s4,{'p': 0}](const{'const': 0}, less[sex,{'p': 0}](const{'const': 0}, const{'const': 0})), less[age,{'p': 0}](less[s4,{'p': 0}](const{'const': 0}, const{'const': 0}), const{'const': 0})))), less[s5,{'p': 0}](const{'const': 0}, less[s3,{'p': 0}](less[s5,{'p': 0}](const{'const': 0}, less[s2,{'p': 0}](const{'const': 0}, const{'const': 0})), const{'const': 0}))), less[age,{'p': 0}](less[s5,{'p': 0}](const{'const': 0}, const{'const': 0}), const{'const': 0})), const{'const': 0}), less[s6,{'p': 0.06726706659430255}](const{'const': 233.0}, const{'const': 256.0})), const{'const': 203.33333333333334}))), const{'const': 296.5}), less[s5,{'p': -0.0010538420311457788}](const{'const': 78.0}, less[age,{'p': -0.03275859336145568}](less[s5,{'p': 0.031680286941229145}](const{'const': 274.0}, const{'const': 226.5}), const{'const': 231.75}))))))\n",
      "точность работы на исходном дереве: 0.5556997798331901\n"
     ]
    }
   ],
   "source": [
    "gp=gp_algorithm_design_tree(gp_tree_design_tree, n_ind=20, n_iter=20,\n",
    "                                 list_T=list_T, list_F=list_F, type_ini='LearnID3',\n",
    "                                   limit_level=4, params=params, selection=\"tournament\", n_tur=5,\n",
    "                 recombination=\"standart\", p_mut=0.1,)\n",
    "    \n",
    "rez=gp.opt()\n",
    "print('лучшая пригодность: ', rez['fit'])\n",
    "print('лучшее решение: ', rez['individ'].print_tree())\n",
    "e=rez['individ'].score(X=X, y=y, metric='r2_score')\n",
    "print(f'точность работы на исходном дереве: {e}')"
   ]
  },
  {
   "cell_type": "markdown",
   "metadata": {},
   "source": [
    "проверяем способ роста full стратегия с глубиной 4  \n",
    "оптимизация коэффициентов самооптимизация self_optimization"
   ]
  },
  {
   "cell_type": "code",
   "execution_count": 4,
   "metadata": {},
   "outputs": [
    {
     "name": "stdout",
     "output_type": "stream",
     "text": [
      "generation 0, min=0.0001910181101823881, mean=0.00022712598524019277, mas=0.00028369501628823605\n",
      "generation 1, min=0.00022851327065229643, mean=0.000259837321980464, mas=0.00028905338486926504\n",
      "generation 2, min=0.00022703127678179845, mean=0.00027936878439756773, mas=0.00029793746102638175\n",
      "generation 3, min=0.00025592575747377506, mean=0.00028366910480443765, mas=0.0002990718149165764\n",
      "generation 4, min=0.0002632291463101811, mean=0.00029040555812976006, mas=0.0003085693098612006\n",
      "generation 5, min=0.00024500598363544763, mean=0.0002886384744149338, mas=0.0003091422137416812\n",
      "generation 6, min=0.00022922201179527015, mean=0.0002955922391346627, mas=0.0003096506073472146\n",
      "generation 7, min=0.0001686089036259896, mean=0.0002988704004133932, mas=0.0003179660533913664\n",
      "generation 8, min=0.0002473737721741059, mean=0.0002975065898546542, mas=0.0003194446688267955\n",
      "generation 9, min=0.0001686089036259896, mean=0.0002988919694394348, mas=0.0003229434497575412\n",
      "generation 10, min=0.0002774937120527051, mean=0.00030940780600592784, mas=0.0003240919805682559\n",
      "generation 11, min=0.0001731005406368543, mean=0.0002996684657144, mas=0.00034752535199608403\n",
      "generation 12, min=0.00021710239008665858, mean=0.00030341850004041024, mas=0.00034752535199608403\n",
      "generation 13, min=0.00019914330831117101, mean=0.00030921641382521765, mas=0.0003588174681172274\n",
      "generation 14, min=0.0002572310564541311, mean=0.00032266513148591485, mas=0.0003588174681172274\n",
      "generation 15, min=0.00020512193872570763, mean=0.00031172864838007326, mas=0.0003588174681172274\n",
      "generation 16, min=0.0002098334652698913, mean=0.0003218019195805011, mas=0.0003588174681172274\n",
      "generation 17, min=0.0003070410990031562, mean=0.0003440423313845595, mas=0.00036400641207429125\n",
      "generation 18, min=0.00027359133135220257, mean=0.00032244146625564946, mas=0.00036400641207429125\n",
      "generation 19, min=0.0001878935303232199, mean=0.00031233068037501456, mas=0.0003655323283955702\n",
      "Ошибка сохранения статистики в файл\n",
      "Результаты сохранены в файл: evalution1.xlsx\n",
      "лучшая пригодность:  0.0003655323283955702\n",
      "лучшее решение:  less[s5,{'p': -0.004681851869910771}](less[age,{'p': 0.06531994481606868}](less[bmi,{'p': -0.04015703446305227}](less[s5,{'p': -0.027138138899553098}](const{'const': 86.33333333333333}, const{'const': 94.05555555555556}), less[s1,{'p': -0.0407836162789432}](const{'const': 123.53333333333333}, less[bmi,{'p': 0.01966153563733211}](less[s2,{'p': -0.017597597439274543}](const{'const': 96.0}, const{'const': 101.61818181818182}), less[s1,{'p': -0.02771206412603254}](const{'const': 229.0}, const{'const': 169.04347826086956})))), less[age,{'p': 0.07985009862014636}](less[bp,{'p': -0.03321323009955148}](const{'const': 84.75}, const{'const': 115.71428571428571}), less[s4,{'p': -0.021042822436138284}](const{'const': 70.0}, const{'const': 199.0}))), less[sex,{'p': 0.003019241116414738}](less[s6,{'p': 0.034130211275626904}](less[bp,{'p': -0.059034612418420944}](const{'const': 108.71428571428571}, less[s3,{'p': -0.045241664554068375}](const{'const': 253.28571428571428}, const{'const': 174.3090909090909})), const{'const': 235.93333333333334}), less[bmi,{'p': 0.05576824011233889}](less[bmi,{'p': -0.011056108468270693}](less[s2,{'p': -0.013996390128694886}](const{'const': 133.28571428571428}, const{'const': 135.17391304347825}), less[s6,{'p': 0.04448547856271305}](less[age,{'p': -6.574730228089433e-05}](const{'const': 144.33333333333334}, const{'const': 184.2051282051282}), less[s1,{'p': 0.04658939021682798}](const{'const': 234.33333333333334}, const{'const': 182.33333333333334}))), less[age,{'p': -0.021860978008397418}](less[s4,{'p': 0.07157899096239584}](less[s4,{'p': 0.015858298439771726}](const{'const': 250.0}, const{'const': 199.0}), less[s6,{'p': 0.054840745849799186}](less[s4,{'p': 0}](const{'const': 0}, const{'const': 243.0}), const{'const': 218.5})), less[s1,{'p': 0.022510215198308366}](less[sex,{'p': 0}](const{'const': 0}, less[s4,{'p': 0.015858298439771726}](less[s2,{'p': -0.06785792555649488}](const{'const': 281.0}, const{'const': 267.75}), less[s1,{'p': 0.014942474478202203}](const{'const': 296.4}, const{'const': 283.0}))), less[s1,{'p': 0.03282986163481678}](const{'const': 243.0}, const{'const': 269.1666666666667}))))))\n"
     ]
    },
    {
     "ename": "ValueError",
     "evalue": "Classification metrics can't handle a mix of multiclass and continuous targets",
     "output_type": "error",
     "traceback": [
      "\u001b[1;31m---------------------------------------------------------------------------\u001b[0m",
      "\u001b[1;31mValueError\u001b[0m                                Traceback (most recent call last)",
      "Cell \u001b[1;32mIn[4], line 10\u001b[0m\n\u001b[0;32m      8\u001b[0m \u001b[38;5;28mprint\u001b[39m(\u001b[38;5;124m'\u001b[39m\u001b[38;5;124mлучшая пригодность: \u001b[39m\u001b[38;5;124m'\u001b[39m, rez[\u001b[38;5;124m'\u001b[39m\u001b[38;5;124mfit\u001b[39m\u001b[38;5;124m'\u001b[39m])\n\u001b[0;32m      9\u001b[0m \u001b[38;5;28mprint\u001b[39m(\u001b[38;5;124m'\u001b[39m\u001b[38;5;124mлучшее решение: \u001b[39m\u001b[38;5;124m'\u001b[39m, rez[\u001b[38;5;124m'\u001b[39m\u001b[38;5;124mindivid\u001b[39m\u001b[38;5;124m'\u001b[39m]\u001b[38;5;241m.\u001b[39mprint_tree())\n\u001b[1;32m---> 10\u001b[0m e\u001b[38;5;241m=\u001b[39m\u001b[43mrez\u001b[49m\u001b[43m[\u001b[49m\u001b[38;5;124;43m'\u001b[39;49m\u001b[38;5;124;43mindivid\u001b[39;49m\u001b[38;5;124;43m'\u001b[39;49m\u001b[43m]\u001b[49m\u001b[38;5;241;43m.\u001b[39;49m\u001b[43mscore\u001b[49m\u001b[43m(\u001b[49m\u001b[43mX\u001b[49m\u001b[38;5;241;43m=\u001b[39;49m\u001b[43mX\u001b[49m\u001b[43m,\u001b[49m\u001b[43m \u001b[49m\u001b[43my\u001b[49m\u001b[38;5;241;43m=\u001b[39;49m\u001b[43my\u001b[49m\u001b[43m,\u001b[49m\u001b[43m \u001b[49m\u001b[43mmetric\u001b[49m\u001b[38;5;241;43m=\u001b[39;49m\u001b[38;5;124;43m'\u001b[39;49m\u001b[38;5;124;43mf1\u001b[39;49m\u001b[38;5;124;43m'\u001b[39;49m\u001b[43m)\u001b[49m\n\u001b[0;32m     11\u001b[0m \u001b[38;5;28mprint\u001b[39m(\u001b[38;5;124mf\u001b[39m\u001b[38;5;124m'\u001b[39m\u001b[38;5;124mточность работы на исходном дереве: \u001b[39m\u001b[38;5;132;01m{\u001b[39;00me\u001b[38;5;132;01m}\u001b[39;00m\u001b[38;5;124m'\u001b[39m)\n",
      "File \u001b[1;32md:\\User\\Projects\\Python\\GP_design_tree\\gp_tree_design_tree.py:288\u001b[0m, in \u001b[0;36mgp_tree_design_tree.score\u001b[1;34m(self, X, y, metric)\u001b[0m\n\u001b[0;32m    285\u001b[0m y_pred\u001b[38;5;241m=\u001b[39m\u001b[38;5;28mself\u001b[39m\u001b[38;5;241m.\u001b[39mpredict(X)\n\u001b[0;32m    287\u001b[0m \u001b[38;5;28;01mif\u001b[39;00m metric\u001b[38;5;241m==\u001b[39m\u001b[38;5;124m'\u001b[39m\u001b[38;5;124mf1\u001b[39m\u001b[38;5;124m'\u001b[39m:\n\u001b[1;32m--> 288\u001b[0m     rez\u001b[38;5;241m=\u001b[39m\u001b[43mf1_score\u001b[49m\u001b[43m(\u001b[49m\u001b[43my\u001b[49m\u001b[43m,\u001b[49m\u001b[43m \u001b[49m\u001b[43my_pred\u001b[49m\u001b[43m,\u001b[49m\u001b[43m \u001b[49m\u001b[43maverage\u001b[49m\u001b[38;5;241;43m=\u001b[39;49m\u001b[38;5;124;43m'\u001b[39;49m\u001b[38;5;124;43mmacro\u001b[39;49m\u001b[38;5;124;43m'\u001b[39;49m\u001b[43m)\u001b[49m\n\u001b[0;32m    289\u001b[0m \u001b[38;5;28;01melif\u001b[39;00m metric\u001b[38;5;241m==\u001b[39m\u001b[38;5;124m'\u001b[39m\u001b[38;5;124mmse\u001b[39m\u001b[38;5;124m'\u001b[39m:\n\u001b[0;32m    290\u001b[0m     rez\u001b[38;5;241m=\u001b[39mmse(y, y_pred)\n",
      "File \u001b[1;32mc:\\Users\\Leonid\\anaconda3\\envs\\env_dash\\lib\\site-packages\\sklearn\\metrics\\_classification.py:1146\u001b[0m, in \u001b[0;36mf1_score\u001b[1;34m(y_true, y_pred, labels, pos_label, average, sample_weight, zero_division)\u001b[0m\n\u001b[0;32m   1011\u001b[0m \u001b[38;5;28;01mdef\u001b[39;00m \u001b[38;5;21mf1_score\u001b[39m(\n\u001b[0;32m   1012\u001b[0m     y_true,\n\u001b[0;32m   1013\u001b[0m     y_pred,\n\u001b[1;32m   (...)\u001b[0m\n\u001b[0;32m   1019\u001b[0m     zero_division\u001b[38;5;241m=\u001b[39m\u001b[38;5;124m\"\u001b[39m\u001b[38;5;124mwarn\u001b[39m\u001b[38;5;124m\"\u001b[39m,\n\u001b[0;32m   1020\u001b[0m ):\n\u001b[0;32m   1021\u001b[0m \u001b[38;5;250m    \u001b[39m\u001b[38;5;124;03m\"\"\"Compute the F1 score, also known as balanced F-score or F-measure.\u001b[39;00m\n\u001b[0;32m   1022\u001b[0m \n\u001b[0;32m   1023\u001b[0m \u001b[38;5;124;03m    The F1 score can be interpreted as a harmonic mean of the precision and\u001b[39;00m\n\u001b[1;32m   (...)\u001b[0m\n\u001b[0;32m   1144\u001b[0m \u001b[38;5;124;03m    array([0.66666667, 1.        , 0.66666667])\u001b[39;00m\n\u001b[0;32m   1145\u001b[0m \u001b[38;5;124;03m    \"\"\"\u001b[39;00m\n\u001b[1;32m-> 1146\u001b[0m     \u001b[38;5;28;01mreturn\u001b[39;00m \u001b[43mfbeta_score\u001b[49m\u001b[43m(\u001b[49m\n\u001b[0;32m   1147\u001b[0m \u001b[43m        \u001b[49m\u001b[43my_true\u001b[49m\u001b[43m,\u001b[49m\n\u001b[0;32m   1148\u001b[0m \u001b[43m        \u001b[49m\u001b[43my_pred\u001b[49m\u001b[43m,\u001b[49m\n\u001b[0;32m   1149\u001b[0m \u001b[43m        \u001b[49m\u001b[43mbeta\u001b[49m\u001b[38;5;241;43m=\u001b[39;49m\u001b[38;5;241;43m1\u001b[39;49m\u001b[43m,\u001b[49m\n\u001b[0;32m   1150\u001b[0m \u001b[43m        \u001b[49m\u001b[43mlabels\u001b[49m\u001b[38;5;241;43m=\u001b[39;49m\u001b[43mlabels\u001b[49m\u001b[43m,\u001b[49m\n\u001b[0;32m   1151\u001b[0m \u001b[43m        \u001b[49m\u001b[43mpos_label\u001b[49m\u001b[38;5;241;43m=\u001b[39;49m\u001b[43mpos_label\u001b[49m\u001b[43m,\u001b[49m\n\u001b[0;32m   1152\u001b[0m \u001b[43m        \u001b[49m\u001b[43maverage\u001b[49m\u001b[38;5;241;43m=\u001b[39;49m\u001b[43maverage\u001b[49m\u001b[43m,\u001b[49m\n\u001b[0;32m   1153\u001b[0m \u001b[43m        \u001b[49m\u001b[43msample_weight\u001b[49m\u001b[38;5;241;43m=\u001b[39;49m\u001b[43msample_weight\u001b[49m\u001b[43m,\u001b[49m\n\u001b[0;32m   1154\u001b[0m \u001b[43m        \u001b[49m\u001b[43mzero_division\u001b[49m\u001b[38;5;241;43m=\u001b[39;49m\u001b[43mzero_division\u001b[49m\u001b[43m,\u001b[49m\n\u001b[0;32m   1155\u001b[0m \u001b[43m    \u001b[49m\u001b[43m)\u001b[49m\n",
      "File \u001b[1;32mc:\\Users\\Leonid\\anaconda3\\envs\\env_dash\\lib\\site-packages\\sklearn\\metrics\\_classification.py:1287\u001b[0m, in \u001b[0;36mfbeta_score\u001b[1;34m(y_true, y_pred, beta, labels, pos_label, average, sample_weight, zero_division)\u001b[0m\n\u001b[0;32m   1158\u001b[0m \u001b[38;5;28;01mdef\u001b[39;00m \u001b[38;5;21mfbeta_score\u001b[39m(\n\u001b[0;32m   1159\u001b[0m     y_true,\n\u001b[0;32m   1160\u001b[0m     y_pred,\n\u001b[1;32m   (...)\u001b[0m\n\u001b[0;32m   1167\u001b[0m     zero_division\u001b[38;5;241m=\u001b[39m\u001b[38;5;124m\"\u001b[39m\u001b[38;5;124mwarn\u001b[39m\u001b[38;5;124m\"\u001b[39m,\n\u001b[0;32m   1168\u001b[0m ):\n\u001b[0;32m   1169\u001b[0m \u001b[38;5;250m    \u001b[39m\u001b[38;5;124;03m\"\"\"Compute the F-beta score.\u001b[39;00m\n\u001b[0;32m   1170\u001b[0m \n\u001b[0;32m   1171\u001b[0m \u001b[38;5;124;03m    The F-beta score is the weighted harmonic mean of precision and recall,\u001b[39;00m\n\u001b[1;32m   (...)\u001b[0m\n\u001b[0;32m   1284\u001b[0m \u001b[38;5;124;03m    array([0.71..., 0.        , 0.        ])\u001b[39;00m\n\u001b[0;32m   1285\u001b[0m \u001b[38;5;124;03m    \"\"\"\u001b[39;00m\n\u001b[1;32m-> 1287\u001b[0m     _, _, f, _ \u001b[38;5;241m=\u001b[39m \u001b[43mprecision_recall_fscore_support\u001b[49m\u001b[43m(\u001b[49m\n\u001b[0;32m   1288\u001b[0m \u001b[43m        \u001b[49m\u001b[43my_true\u001b[49m\u001b[43m,\u001b[49m\n\u001b[0;32m   1289\u001b[0m \u001b[43m        \u001b[49m\u001b[43my_pred\u001b[49m\u001b[43m,\u001b[49m\n\u001b[0;32m   1290\u001b[0m \u001b[43m        \u001b[49m\u001b[43mbeta\u001b[49m\u001b[38;5;241;43m=\u001b[39;49m\u001b[43mbeta\u001b[49m\u001b[43m,\u001b[49m\n\u001b[0;32m   1291\u001b[0m \u001b[43m        \u001b[49m\u001b[43mlabels\u001b[49m\u001b[38;5;241;43m=\u001b[39;49m\u001b[43mlabels\u001b[49m\u001b[43m,\u001b[49m\n\u001b[0;32m   1292\u001b[0m \u001b[43m        \u001b[49m\u001b[43mpos_label\u001b[49m\u001b[38;5;241;43m=\u001b[39;49m\u001b[43mpos_label\u001b[49m\u001b[43m,\u001b[49m\n\u001b[0;32m   1293\u001b[0m \u001b[43m        \u001b[49m\u001b[43maverage\u001b[49m\u001b[38;5;241;43m=\u001b[39;49m\u001b[43maverage\u001b[49m\u001b[43m,\u001b[49m\n\u001b[0;32m   1294\u001b[0m \u001b[43m        \u001b[49m\u001b[43mwarn_for\u001b[49m\u001b[38;5;241;43m=\u001b[39;49m\u001b[43m(\u001b[49m\u001b[38;5;124;43m\"\u001b[39;49m\u001b[38;5;124;43mf-score\u001b[39;49m\u001b[38;5;124;43m\"\u001b[39;49m\u001b[43m,\u001b[49m\u001b[43m)\u001b[49m\u001b[43m,\u001b[49m\n\u001b[0;32m   1295\u001b[0m \u001b[43m        \u001b[49m\u001b[43msample_weight\u001b[49m\u001b[38;5;241;43m=\u001b[39;49m\u001b[43msample_weight\u001b[49m\u001b[43m,\u001b[49m\n\u001b[0;32m   1296\u001b[0m \u001b[43m        \u001b[49m\u001b[43mzero_division\u001b[49m\u001b[38;5;241;43m=\u001b[39;49m\u001b[43mzero_division\u001b[49m\u001b[43m,\u001b[49m\n\u001b[0;32m   1297\u001b[0m \u001b[43m    \u001b[49m\u001b[43m)\u001b[49m\n\u001b[0;32m   1298\u001b[0m     \u001b[38;5;28;01mreturn\u001b[39;00m f\n",
      "File \u001b[1;32mc:\\Users\\Leonid\\anaconda3\\envs\\env_dash\\lib\\site-packages\\sklearn\\metrics\\_classification.py:1573\u001b[0m, in \u001b[0;36mprecision_recall_fscore_support\u001b[1;34m(y_true, y_pred, beta, labels, pos_label, average, warn_for, sample_weight, zero_division)\u001b[0m\n\u001b[0;32m   1571\u001b[0m \u001b[38;5;28;01mif\u001b[39;00m beta \u001b[38;5;241m<\u001b[39m \u001b[38;5;241m0\u001b[39m:\n\u001b[0;32m   1572\u001b[0m     \u001b[38;5;28;01mraise\u001b[39;00m \u001b[38;5;167;01mValueError\u001b[39;00m(\u001b[38;5;124m\"\u001b[39m\u001b[38;5;124mbeta should be >=0 in the F-beta score\u001b[39m\u001b[38;5;124m\"\u001b[39m)\n\u001b[1;32m-> 1573\u001b[0m labels \u001b[38;5;241m=\u001b[39m \u001b[43m_check_set_wise_labels\u001b[49m\u001b[43m(\u001b[49m\u001b[43my_true\u001b[49m\u001b[43m,\u001b[49m\u001b[43m \u001b[49m\u001b[43my_pred\u001b[49m\u001b[43m,\u001b[49m\u001b[43m \u001b[49m\u001b[43maverage\u001b[49m\u001b[43m,\u001b[49m\u001b[43m \u001b[49m\u001b[43mlabels\u001b[49m\u001b[43m,\u001b[49m\u001b[43m \u001b[49m\u001b[43mpos_label\u001b[49m\u001b[43m)\u001b[49m\n\u001b[0;32m   1575\u001b[0m \u001b[38;5;66;03m# Calculate tp_sum, pred_sum, true_sum ###\u001b[39;00m\n\u001b[0;32m   1576\u001b[0m samplewise \u001b[38;5;241m=\u001b[39m average \u001b[38;5;241m==\u001b[39m \u001b[38;5;124m\"\u001b[39m\u001b[38;5;124msamples\u001b[39m\u001b[38;5;124m\"\u001b[39m\n",
      "File \u001b[1;32mc:\\Users\\Leonid\\anaconda3\\envs\\env_dash\\lib\\site-packages\\sklearn\\metrics\\_classification.py:1374\u001b[0m, in \u001b[0;36m_check_set_wise_labels\u001b[1;34m(y_true, y_pred, average, labels, pos_label)\u001b[0m\n\u001b[0;32m   1371\u001b[0m \u001b[38;5;28;01mif\u001b[39;00m average \u001b[38;5;129;01mnot\u001b[39;00m \u001b[38;5;129;01min\u001b[39;00m average_options \u001b[38;5;129;01mand\u001b[39;00m average \u001b[38;5;241m!=\u001b[39m \u001b[38;5;124m\"\u001b[39m\u001b[38;5;124mbinary\u001b[39m\u001b[38;5;124m\"\u001b[39m:\n\u001b[0;32m   1372\u001b[0m     \u001b[38;5;28;01mraise\u001b[39;00m \u001b[38;5;167;01mValueError\u001b[39;00m(\u001b[38;5;124m\"\u001b[39m\u001b[38;5;124maverage has to be one of \u001b[39m\u001b[38;5;124m\"\u001b[39m \u001b[38;5;241m+\u001b[39m \u001b[38;5;28mstr\u001b[39m(average_options))\n\u001b[1;32m-> 1374\u001b[0m y_type, y_true, y_pred \u001b[38;5;241m=\u001b[39m \u001b[43m_check_targets\u001b[49m\u001b[43m(\u001b[49m\u001b[43my_true\u001b[49m\u001b[43m,\u001b[49m\u001b[43m \u001b[49m\u001b[43my_pred\u001b[49m\u001b[43m)\u001b[49m\n\u001b[0;32m   1375\u001b[0m \u001b[38;5;66;03m# Convert to Python primitive type to avoid NumPy type / Python str\u001b[39;00m\n\u001b[0;32m   1376\u001b[0m \u001b[38;5;66;03m# comparison. See https://github.com/numpy/numpy/issues/6784\u001b[39;00m\n\u001b[0;32m   1377\u001b[0m present_labels \u001b[38;5;241m=\u001b[39m unique_labels(y_true, y_pred)\u001b[38;5;241m.\u001b[39mtolist()\n",
      "File \u001b[1;32mc:\\Users\\Leonid\\anaconda3\\envs\\env_dash\\lib\\site-packages\\sklearn\\metrics\\_classification.py:95\u001b[0m, in \u001b[0;36m_check_targets\u001b[1;34m(y_true, y_pred)\u001b[0m\n\u001b[0;32m     92\u001b[0m     y_type \u001b[38;5;241m=\u001b[39m {\u001b[38;5;124m\"\u001b[39m\u001b[38;5;124mmulticlass\u001b[39m\u001b[38;5;124m\"\u001b[39m}\n\u001b[0;32m     94\u001b[0m \u001b[38;5;28;01mif\u001b[39;00m \u001b[38;5;28mlen\u001b[39m(y_type) \u001b[38;5;241m>\u001b[39m \u001b[38;5;241m1\u001b[39m:\n\u001b[1;32m---> 95\u001b[0m     \u001b[38;5;28;01mraise\u001b[39;00m \u001b[38;5;167;01mValueError\u001b[39;00m(\n\u001b[0;32m     96\u001b[0m         \u001b[38;5;124m\"\u001b[39m\u001b[38;5;124mClassification metrics can\u001b[39m\u001b[38;5;124m'\u001b[39m\u001b[38;5;124mt handle a mix of \u001b[39m\u001b[38;5;132;01m{0}\u001b[39;00m\u001b[38;5;124m and \u001b[39m\u001b[38;5;132;01m{1}\u001b[39;00m\u001b[38;5;124m targets\u001b[39m\u001b[38;5;124m\"\u001b[39m\u001b[38;5;241m.\u001b[39mformat(\n\u001b[0;32m     97\u001b[0m             type_true, type_pred\n\u001b[0;32m     98\u001b[0m         )\n\u001b[0;32m     99\u001b[0m     )\n\u001b[0;32m    101\u001b[0m \u001b[38;5;66;03m# We can't have more than one value on y_type => The set is no more needed\u001b[39;00m\n\u001b[0;32m    102\u001b[0m y_type \u001b[38;5;241m=\u001b[39m y_type\u001b[38;5;241m.\u001b[39mpop()\n",
      "\u001b[1;31mValueError\u001b[0m: Classification metrics can't handle a mix of multiclass and continuous targets"
     ]
    }
   ],
   "source": [
    "gp=gp_algorithm_design_tree(gp_tree_design_tree, n_ind=20, n_iter=20,\n",
    "                                 list_T=list_T, list_F=list_F, type_ini='full',\n",
    "                                   limit_level=4, params=params, \n",
    "                                   selection=\"tournament\", n_tur=5,\n",
    "                            recombination=\"standart\", p_mut=0.1,)\n",
    "    \n",
    "rez=gp.opt()\n",
    "print('лучшая пригодность: ', rez['fit'])\n",
    "print('лучшее решение: ', rez['individ'].print_tree())\n",
    "e=rez['individ'].score(X=X, y=y, metric='f1')\n",
    "print(f'точность работы на исходном дереве: {e}')"
   ]
  },
  {
   "cell_type": "markdown",
   "metadata": {},
   "source": [
    "проверяем способ роста nofull стратегия с глубиной 4  \n",
    "оптимизация коэффициентов самооптимизация self_optimization"
   ]
  },
  {
   "cell_type": "code",
   "execution_count": 7,
   "metadata": {},
   "outputs": [
    {
     "name": "stdout",
     "output_type": "stream",
     "text": [
      "generation 0, min=0.5354545454545454, mean=0.6320190329421439, mas=0.9014048629872637\n",
      "generation 1, min=0.5354545454545454, mean=0.7313497316078625, mas=0.9014048629872637\n",
      "generation 2, min=0.6533273862622658, mean=0.8551471055905827, mas=0.9014048629872637\n",
      "generation 3, min=0.5354545454545454, mean=0.7773168508247149, mas=0.9153072625698324\n",
      "generation 4, min=0.5354545454545454, mean=0.8559336132360971, mas=0.9253072625698324\n",
      "generation 5, min=0.5354545454545454, mean=0.8661888128375452, mas=0.9253072625698324\n",
      "generation 6, min=0.5354545454545454, mean=0.8321055721032475, mas=0.9253072625698324\n",
      "generation 7, min=0.5354545454545454, mean=0.8550709400509096, mas=0.9314791987673343\n",
      "generation 8, min=0.5354545454545454, mean=0.8072581258155476, mas=0.9314791987673343\n",
      "generation 9, min=0.5354545454545454, mean=0.809325107288366, mas=0.9314791987673343\n",
      "generation 10, min=0.5354545454545454, mean=0.8337576851751504, mas=0.9314791987673343\n",
      "generation 11, min=0.5354545454545454, mean=0.8204597328415388, mas=0.9314791987673343\n",
      "generation 12, min=0.5354545454545454, mean=0.8386796538276003, mas=0.9314791987673343\n",
      "generation 13, min=0.5354545454545454, mean=0.8243641369453684, mas=0.9314791987673343\n",
      "generation 14, min=0.5354545454545454, mean=0.8161514150847482, mas=0.9314791987673343\n",
      "generation 15, min=0.5354545454545454, mean=0.8421864086499815, mas=0.9314791987673343\n",
      "generation 16, min=0.5354545454545454, mean=0.8514128293793956, mas=0.9340158503312979\n",
      "generation 17, min=0.5354545454545454, mean=0.8537449439447237, mas=0.9340158503312979\n",
      "generation 18, min=0.5354545454545454, mean=0.8703107102492526, mas=0.9340158503312979\n",
      "generation 19, min=0.5354545454545454, mean=0.8678223629551238, mas=0.9340158503312979\n",
      "Ошибка сохранения статистики в файл\n",
      "Результаты сохранены в файл: evalution1.xlsx\n",
      "лучшая пригодность:  0.9340158503312979\n",
      "лучшее решение:  less[petal width (cm),{'p': 0.8}](nom_class:0, less[petal width (cm),{'p': 1.75}](less[petal length (cm),{'p': 4.95}](nom_class:1, nom_class:2), nom_class:2))\n",
      "точность работы на исходном дереве: 0.9733226623982927\n"
     ]
    }
   ],
   "source": [
    "gp=gp_algorithm_design_tree(gp_tree_design_tree, n_ind=20, n_iter=20,\n",
    "                                 list_T=list_T, list_F=list_F, type_ini='nofull',\n",
    "                                   limit_level=4, params=params, \n",
    "                                   selection=\"tournament\", n_tur=5,\n",
    "                            recombination=\"standart\", p_mut=0.1,)\n",
    "    \n",
    "rez=gp.opt()\n",
    "print('лучшая пригодность: ', rez['fit'])\n",
    "print('лучшее решение: ', rez['individ'].print_tree())\n",
    "e=rez['individ'].score(X=X, y=y, metric='f1')\n",
    "print(f'точность работы на исходном дереве: {e}')"
   ]
  },
  {
   "cell_type": "markdown",
   "metadata": {},
   "source": [
    "проверяем способ роста LearnID3 стратегия с глубиной 4  \n",
    "оптимизация коэффициентов самооптимизация DE"
   ]
  },
  {
   "cell_type": "code",
   "execution_count": null,
   "metadata": {},
   "outputs": [],
   "source": [
    "params['method']='DE'\n",
    "\n",
    "gp=gp_algorithm_design_tree(gp_tree_design_tree, n_ind=20, n_iter=20,\n",
    "                                 list_T=list_T, list_F=list_F, type_ini='LearnID3',\n",
    "                                   limit_level=4, params=params, \n",
    "                                   selection=\"tournament\", n_tur=5,\n",
    "                            recombination=\"standart\", p_mut=0.1,)\n",
    "    \n",
    "rez=gp.opt()\n",
    "print('лучшая пригодность: ', rez['fit'])\n",
    "print('лучшее решение: ', rez['individ'].print_tree())\n",
    "e=rez['individ'].score(X=X, y=y, metric='f1')\n",
    "print(f'точность работы на исходном дереве: {e}')"
   ]
  }
 ],
 "metadata": {
  "kernelspec": {
   "display_name": "env_dash",
   "language": "python",
   "name": "python3"
  },
  "language_info": {
   "codemirror_mode": {
    "name": "ipython",
    "version": 3
   },
   "file_extension": ".py",
   "mimetype": "text/x-python",
   "name": "python",
   "nbconvert_exporter": "python",
   "pygments_lexer": "ipython3",
   "version": "3.9.18"
  }
 },
 "nbformat": 4,
 "nbformat_minor": 2
}
