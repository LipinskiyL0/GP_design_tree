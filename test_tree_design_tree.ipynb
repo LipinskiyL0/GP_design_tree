{
 "cells": [
  {
   "cell_type": "markdown",
   "metadata": {},
   "source": [
    "В данном файле проводится тестирования класса \"gp_tree_design_tree\", в котором реализовано вычисление дерева принятия решения"
   ]
  },
  {
   "cell_type": "code",
   "execution_count": 1,
   "metadata": {},
   "outputs": [],
   "source": [
    "from gp_tree_design_tree import gp_tree_design_tree\n",
    "from gp_list_design_tree import *"
   ]
  },
  {
   "cell_type": "markdown",
   "metadata": {},
   "source": [
    "Проверяем создание дерева. Ожидается, что дерево будте создано и структура дерева выведена в строку. \n",
    "Метод роста полный"
   ]
  },
  {
   "cell_type": "code",
   "execution_count": 2,
   "metadata": {},
   "outputs": [
    {
     "name": "stdout",
     "output_type": "stream",
     "text": [
      "\n",
      "\n",
      "less[x1,{'p': 0}](less[x1,{'p': 0}](nom_class:7, nom_class:3), less[x1,{'p': 0}](nom_class:2, nom_class:3))\n"
     ]
    }
   ],
   "source": [
    "list_F=[]\n",
    "list_F.append(list_less(name_feature='x1' ))\n",
    "\n",
    "\n",
    "list_T=[]\n",
    "list_T.append(list_nom_class(value=1))\n",
    "list_T.append(list_nom_class(value=2))\n",
    "list_T.append(list_nom_class(value=3))\n",
    "list_T.append(list_nom_class(value=4))\n",
    "list_T.append(list_nom_class(value=5))\n",
    "list_T.append(list_nom_class(value=6))\n",
    "list_T.append(list_nom_class(value=7))\n",
    "list_T.append(list_nom_class(value=8))\n",
    "\n",
    "tree=gp_tree_design_tree(list_T=list_T, list_F=list_F, level=0, nom_list='1', type_ini='full',\n",
    "                limit_level=2)\n",
    "str_tree=tree.print_tree()\n",
    "print('\\n')\n",
    "print(str_tree)"
   ]
  },
  {
   "cell_type": "markdown",
   "metadata": {},
   "source": [
    "Тестируем установку коэффициентов. Ожидается, что коэффициенты установятся"
   ]
  },
  {
   "cell_type": "code",
   "execution_count": 3,
   "metadata": {},
   "outputs": [
    {
     "name": "stdout",
     "output_type": "stream",
     "text": [
      "{'1_p': 0, '1.1_p': 0, '1.2_p': 0}\n",
      "True\n",
      "{'1_p': 1, '1.1_p': 2, '1.2_p': 3}\n",
      "less[x1,{'p': 1}](less[x1,{'p': 2}](nom_class:7, nom_class:3), less[x1,{'p': 3}](nom_class:2, nom_class:3))\n"
     ]
    }
   ],
   "source": [
    "koef=tree.get_koef()\n",
    "print(koef)\n",
    "i=1\n",
    "for k in koef.keys():\n",
    "    koef[k]=i\n",
    "    i=i+1\n",
    "print(tree.set_koef(koef))\n",
    "koef1=tree.get_koef()\n",
    "print(koef1)\n",
    "print(tree.print_tree())\n"
   ]
  },
  {
   "cell_type": "markdown",
   "metadata": {},
   "source": [
    "Тестируем вычисление дерева для классификации. В качестве пороговых значений устанавливаем 1, 2, 3. Ожидается, что класс узла 1.1.1 установится в первой строке. Класс узла 1.1.2 вообще не установится. Класс узла 1.2.1 установтися в строки 2,3. \n",
    "Класс узла 1.2.2 во все остальные. "
   ]
  },
  {
   "cell_type": "code",
   "execution_count": 4,
   "metadata": {},
   "outputs": [
    {
     "name": "stdout",
     "output_type": "stream",
     "text": [
      "0    7.0\n",
      "1    2.0\n",
      "2    2.0\n",
      "3    3.0\n",
      "4    3.0\n",
      "5    3.0\n",
      "6    3.0\n",
      "7    3.0\n",
      "8    3.0\n",
      "9    3.0\n",
      "dtype: float64\n",
      "   index   x1\n",
      "0      0  0.0\n",
      "1      1  1.0\n",
      "2      2  2.0\n",
      "3      3  3.0\n",
      "4      4  4.0\n",
      "5      5  5.0\n",
      "6      6  6.0\n",
      "7      7  7.0\n",
      "8      8  8.0\n",
      "9      9  9.0\n"
     ]
    }
   ],
   "source": [
    "y=pd.Series(np.arange(0,1, 0.1))\n",
    "df=y.copy()\n",
    "df=df*10\n",
    "df.name='x1'\n",
    "df=df.reset_index()\n",
    "\n",
    "rez=tree.eval(params={'X':df,'y':y}  )\n",
    "\n",
    "print(rez)\n",
    "print(df)\n"
   ]
  },
  {
   "cell_type": "markdown",
   "metadata": {},
   "source": [
    "Исследуем работу метода predict как надстройку над методом eval\n"
   ]
  },
  {
   "cell_type": "code",
   "execution_count": 5,
   "metadata": {},
   "outputs": [
    {
     "name": "stdout",
     "output_type": "stream",
     "text": [
      "0    7.0\n",
      "1    2.0\n",
      "2    2.0\n",
      "3    3.0\n",
      "4    3.0\n",
      "5    3.0\n",
      "6    3.0\n",
      "7    3.0\n",
      "8    3.0\n",
      "9    3.0\n",
      "dtype: float64\n"
     ]
    }
   ],
   "source": [
    "rez=tree.predict(X=df)\n",
    "print(rez)"
   ]
  },
  {
   "cell_type": "markdown",
   "metadata": {},
   "source": [
    "Исследуем работу метода score для классификационного дерева\n",
    "создаем пробный выход для бинарной классификации и считаем точность\n"
   ]
  },
  {
   "cell_type": "code",
   "execution_count": 6,
   "metadata": {},
   "outputs": [
    {
     "name": "stdout",
     "output_type": "stream",
     "text": [
      "True\n",
      "less[x1,{'p': 1}](less[x1,{'p': 2}](nom_class:0, nom_class:0), less[x1,{'p': 3}](nom_class:0, nom_class:0))\n",
      "\n",
      "\n",
      "less[x1,{'p': 1}](less[x1,{'p': 2}](nom_class:0, nom_class:0), less[x1,{'p': 3}](nom_class:0, nom_class:0))\n",
      "   index   x1\n",
      "0      0  0.0\n",
      "1      1  1.0\n",
      "2      2  2.0\n",
      "3      3  3.0\n",
      "4      4  4.0\n",
      "5      5  5.0\n",
      "6      6  6.0\n",
      "7      7  7.0\n",
      "8      8  8.0\n",
      "9      9  9.0\n",
      "0    0\n",
      "1    1\n",
      "2    0\n",
      "3    1\n",
      "4    0\n",
      "5    0\n",
      "6    1\n",
      "7    0\n",
      "8    1\n",
      "9    1\n",
      "dtype: int32\n",
      "Сравниваем \"реальны\" и вычисленный выходы\n",
      "   0    1\n",
      "0  0  0.0\n",
      "1  1  0.0\n",
      "2  0  0.0\n",
      "3  1  0.0\n",
      "4  0  0.0\n",
      "5  0  0.0\n",
      "6  1  0.0\n",
      "7  0  0.0\n",
      "8  1  0.0\n",
      "9  1  0.0\n",
      "0.3333333333333333\n"
     ]
    }
   ],
   "source": [
    "list_F=[]\n",
    "list_F.append(list_less(name_feature='x1' ))\n",
    "\n",
    "\n",
    "list_T=[]\n",
    "list_T.append(list_nom_class(value=0))\n",
    "list_T.append(list_nom_class(value=1))\n",
    "tree=gp_tree_design_tree(list_T=list_T, list_F=list_F, level=0, nom_list='1', type_ini='full',\n",
    "                limit_level=2)\n",
    "koef=tree.get_koef()\n",
    "i=1\n",
    "for k in koef.keys():\n",
    "    koef[k]=i\n",
    "    i=i+1\n",
    "print(tree.set_koef(koef))\n",
    "print(tree.print_tree())\n",
    "str_tree=tree.print_tree()\n",
    "print('\\n')\n",
    "print(str_tree)\n",
    "\n",
    "df=pd.Series(np.arange(0,1, 0.1))\n",
    "df=df*10\n",
    "df.name='x1'\n",
    "df=df.reset_index()\n",
    "\n",
    "y=np.random.randint(0,2, len(df))\n",
    "y=pd.Series(y, index=df.index)\n",
    "print(df)\n",
    "print(y)\n",
    "\n",
    "y_pred=tree.predict(X=df)\n",
    "print('Сравниваем \"реальны\" и вычисленный выходы')\n",
    "print(pd.concat([y,y_pred], axis=1))\n",
    "f1_score=tree.score(X=df, y=y)\n",
    "print(f1_score)"
   ]
  },
  {
   "cell_type": "markdown",
   "metadata": {},
   "source": [
    "проверяем многомерный случай. Когда на вход будет многомерным"
   ]
  },
  {
   "cell_type": "code",
   "execution_count": 7,
   "metadata": {},
   "outputs": [
    {
     "name": "stdout",
     "output_type": "stream",
     "text": [
      "True\n",
      "less[x2,{'p': 1.0}](less[x1,{'p': 0.8}](nom_class:0, nom_class:1), less[x2,{'p': 0.4}](nom_class:0, nom_class:0))\n",
      "Сравниваем \"реальны\" и вычисленный выходы\n",
      "    x1   x2  y  y_pred\n",
      "0  0.0  0.0  1     0.0\n",
      "1  0.1  0.1  0     0.0\n",
      "2  0.2  0.2  1     0.0\n",
      "3  0.3  0.3  0     0.0\n",
      "4  0.4  0.4  0     0.0\n",
      "5  0.5  0.5  1     0.0\n",
      "6  0.6  0.6  0     0.0\n",
      "7  0.7  0.7  0     0.0\n",
      "8  0.8  0.8  0     1.0\n",
      "9  0.9  0.9  1     1.0\n",
      "0.5238095238095238\n"
     ]
    }
   ],
   "source": [
    "list_F=[]\n",
    "list_F.append(list_less(name_feature='x1' ))\n",
    "list_F.append(list_less(name_feature='x2' ))\n",
    "\n",
    "list_T=[]\n",
    "list_T.append(list_nom_class(value=0))\n",
    "list_T.append(list_nom_class(value=1))\n",
    "tree=gp_tree_design_tree(list_T=list_T, list_F=list_F, level=0, nom_list='1', type_ini='full',\n",
    "                limit_level=2)\n",
    "koef=tree.get_koef()\n",
    "\n",
    "for k in koef.keys():\n",
    "    koef[k]=np.around(np.random.rand(),1)\n",
    "    \n",
    "print(tree.set_koef(koef))\n",
    "print(tree.print_tree())\n",
    "\n",
    "\n",
    "# df=np.random.rand(10,2)\n",
    "df=np.arange(0,1,0.1)\n",
    "df=df[:, np.newaxis]\n",
    "df=np.concatenate([df,df], axis=1)\n",
    "df=pd.DataFrame(df, columns=['x1', 'x2'])\n",
    "\n",
    "df['y']=np.random.randint(0,2, len(df))\n",
    "\n",
    "\n",
    "y_pred=tree.predict(X=df)\n",
    "y_pred.name='y_pred'\n",
    "print('Сравниваем \"реальны\" и вычисленный выходы')\n",
    "\n",
    "print(pd.concat([df,y_pred], axis=1))\n",
    "f1_score=tree.score(X=df, y=df['y'])\n",
    "print(f1_score)"
   ]
  },
  {
   "cell_type": "code",
   "execution_count": 8,
   "metadata": {},
   "outputs": [
    {
     "name": "stdout",
     "output_type": "stream",
     "text": [
      "Сравниваем \"реальны\" и вычисленный выходы\n",
      "         x1        x2  y  y_pred\n",
      "0  0.094652  0.897487  1     0.0\n",
      "1  0.696088  0.219408  1     1.0\n",
      "2  0.474791  0.844404  1     0.0\n",
      "3  0.114632  0.498890  0     0.0\n",
      "4  0.071347  0.107344  0     0.0\n",
      "5  0.761530  0.140171  1     1.0\n",
      "6  0.977320  0.898567  0     0.0\n",
      "7  0.782458  0.359745  0     0.0\n",
      "8  0.822156  0.784521  0     0.0\n",
      "9  0.692789  0.822938  1     0.0\n",
      "\n",
      "0.6703296703296704\n",
      "less[x2,{'p': 0.3}](less[x1,{'p': 0.1}](nom_class:0, nom_class:1), less[x2,{'p': 0.9}](nom_class:0, nom_class:0))\n"
     ]
    }
   ],
   "source": [
    "# Проверяем процедуру подбора пороговых значений путем полного перебора\n",
    "df=np.random.rand(10,2)\n",
    "# df=np.arange(0,1,0.1)\n",
    "# df=df[:, np.newaxis]\n",
    "# df=np.concatenate([df,df], axis=1)\n",
    "df=pd.DataFrame(df, columns=['x1', 'x2'])\n",
    "\n",
    "df['y']=np.random.randint(0,2, len(df))\n",
    "\n",
    "flag=0\n",
    "for i in range(10):\n",
    "    for j in range(10):\n",
    "        for k in range(10):\n",
    "            koef_list=[i/10., j/10., k/10.]\n",
    "            n=0\n",
    "            for key in koef.keys():\n",
    "                koef[key]=koef_list[n]\n",
    "                n+=1\n",
    "                tree.set_koef(koef)\n",
    "                f1_score=tree.score(X=df, y=df['y'])\n",
    "                if flag==0:\n",
    "                    flag=1\n",
    "                    best_koef=koef.copy()\n",
    "                    best_f1_score=f1_score\n",
    "\n",
    "                elif f1_score> best_f1_score:\n",
    "                    best_koef=koef.copy()\n",
    "                    best_f1_score=f1_score\n",
    "\n",
    "tree.set_koef(best_koef)\n",
    "\n",
    "y_pred=tree.predict(X=df)\n",
    "y_pred.name='y_pred'\n",
    "print('Сравниваем \"реальны\" и вычисленный выходы')\n",
    "\n",
    "print(pd.concat([df,y_pred], axis=1))\n",
    "f1_score=tree.score(X=df, y=df['y'])\n",
    "print()\n",
    "print(f1_score)\n",
    "print(tree.print_tree())                "
   ]
  },
  {
   "cell_type": "markdown",
   "metadata": {},
   "source": [
    "Тестируем функцию fit"
   ]
  },
  {
   "cell_type": "code",
   "execution_count": 9,
   "metadata": {},
   "outputs": [
    {
     "name": "stdout",
     "output_type": "stream",
     "text": [
      "Optimization terminated successfully.\n",
      "         Current function value: 0.588235\n",
      "         Iterations: 9\n",
      "         Function evaluations: 44\n",
      "loss: 0.5882352941176471\n",
      "Сравниваем \"реальны\" и вычисленный выходы\n",
      "         x1        x2  y  y_pred\n",
      "0  0.095146  0.134564  1     0.0\n",
      "1  0.653868  0.322747  0     0.0\n",
      "2  0.978359  0.715279  1     0.0\n",
      "3  0.819519  0.064979  0     0.0\n",
      "4  0.828792  0.469557  0     0.0\n",
      "5  0.680094  0.708905  0     0.0\n",
      "6  0.603327  0.192031  0     0.0\n",
      "7  0.325164  0.170126  0     0.0\n",
      "8  0.062096  0.649114  0     0.0\n",
      "9  0.670621  0.297425  1     0.0\n",
      "\n",
      "0.4117647058823529\n",
      "less[x2,{'p': 0.05639814679941024}](less[x1,{'p': 0.42415675367265826}](nom_class:0, nom_class:1), less[x2,{'p': 0.4811889213899213}](nom_class:0, nom_class:0))\n"
     ]
    },
    {
     "name": "stderr",
     "output_type": "stream",
     "text": [
      "d:\\user\\Projects\\Python\\GP_design_tree\\gp_tree_design_tree.py:190: OptimizeWarning: Unknown solver options: gtol\n",
      "  res = minimize(self.loss, x0, method=method, options={'gtol': 1e-6, 'disp': True},args=args)\n"
     ]
    }
   ],
   "source": [
    "# Проверяем процедуру подбора пороговых значений путем полного перебора\n",
    "df=np.random.rand(10,2)\n",
    "\n",
    "df=pd.DataFrame(df, columns=['x1', 'x2'])\n",
    "\n",
    "df['y']=np.random.randint(0,2, len(df))\n",
    "\n",
    "e=tree.fit(X=df,y=df['y'])\n",
    "print(f'loss: {e}')\n",
    "y_pred=tree.predict(X=df)\n",
    "y_pred.name='y_pred'\n",
    "print('Сравниваем \"реальны\" и вычисленный выходы')\n",
    "\n",
    "print(pd.concat([df,y_pred], axis=1))\n",
    "f1_score=tree.score(X=df, y=df['y'])\n",
    "print()\n",
    "print(f1_score)\n",
    "print(tree.print_tree())                "
   ]
  },
  {
   "cell_type": "markdown",
   "metadata": {},
   "source": [
    "Тестируем оптимизацию через DE"
   ]
  },
  {
   "cell_type": "code",
   "execution_count": 10,
   "metadata": {},
   "outputs": [
    {
     "name": "stdout",
     "output_type": "stream",
     "text": [
      "start evolution\n",
      "iteration 0: min=0.4, mean=0.6503298368298368, max=0.8333333333333334\n",
      "iteration 1: min=0.3030303030303032, mean=0.6017206682206683, max=0.8333333333333334\n",
      "iteration 2: min=0.3030303030303032, mean=0.5525281385281385, max=0.7142857142857143\n",
      "iteration 3: min=0.3030303030303032, mean=0.5188737373737374, max=0.7142857142857143\n",
      "iteration 4: min=0.3030303030303032, mean=0.48443722943722956, max=0.7142857142857143\n",
      "iteration 5: min=0.3030303030303032, mean=0.46321142746142746, max=0.7142857142857143\n",
      "iteration 6: min=0.19999999999999984, mean=0.4360982905982907, max=0.6666666666666667\n",
      "iteration 7: min=0.19999999999999984, mean=0.3998165168165169, max=0.5494505494505494\n",
      "iteration 8: min=0.19999999999999984, mean=0.3773989898989899, max=0.5494505494505494\n",
      "iteration 9: min=0.19999999999999984, mean=0.3565394605394607, max=0.5494505494505494\n",
      "iteration 10: min=0.19999999999999984, mean=0.3395397935397937, max=0.5494505494505494\n",
      "iteration 11: min=0.19999999999999984, mean=0.33130280830280845, max=0.5050505050505051\n",
      "iteration 12: min=0.19999999999999984, mean=0.3180295260295262, max=0.5050505050505051\n",
      "iteration 13: min=0.19999999999999984, mean=0.30905860805860824, max=0.47619047619047616\n",
      "iteration 14: min=0.19999999999999984, mean=0.30117549117549136, max=0.4\n",
      "iteration 15: min=0.19999999999999984, mean=0.29917549117549136, max=0.3296703296703296\n",
      "iteration 16: min=0.19999999999999984, mean=0.2978787878787881, max=0.3030303030303032\n",
      "iteration 17: min=0.19999999999999984, mean=0.295818181818182, max=0.3030303030303032\n",
      "iteration 18: min=0.19999999999999984, mean=0.294787878787879, max=0.3030303030303032\n",
      "iteration 19: min=0.19999999999999984, mean=0.29375757575757594, max=0.3030303030303032\n",
      "loss: 0.19999999999999984\n",
      "Сравниваем \"реальны\" и вычисленный выходы\n",
      "         x1        x2  y  y_pred\n",
      "0  0.485168  0.267498  1     1.0\n",
      "1  0.295501  0.828066  0     0.0\n",
      "2  0.022721  0.207884  0     0.0\n",
      "3  0.683447  0.746586  1     1.0\n",
      "4  0.017189  0.480279  1     1.0\n",
      "5  0.964435  0.868693  0     1.0\n",
      "6  0.101725  0.280362  0     0.0\n",
      "7  0.399432  0.359052  0     0.0\n",
      "8  0.202822  0.429827  1     0.0\n",
      "9  0.516660  0.719381  1     1.0\n",
      "\n",
      "0.8000000000000002\n",
      "less[x1,{'p': 0.0209584232338067}](less[x1,{'p': 1.0494621013852774}](nom_class:1, nom_class:1), less[x1,{'p': 0.405020160998585}](nom_class:0, nom_class:1))\n"
     ]
    }
   ],
   "source": [
    "list_F=[]\n",
    "list_F.append(list_less(name_feature='x1' ))\n",
    "list_F.append(list_less(name_feature='x2' ))\n",
    "list_T=[]\n",
    "list_T.append(list_nom_class(value=0))\n",
    "list_T.append(list_nom_class(value=1))\n",
    "\n",
    "tree=gp_tree_design_tree(list_T=list_T, list_F=list_F, level=0, nom_list='1', type_ini='full',\n",
    "                limit_level=2)\n",
    "str_tree=tree.print_tree()\n",
    "\n",
    "# Проверяем функцию fit\n",
    "df=np.random.rand(10,2)\n",
    "df=pd.DataFrame(df, columns=['x1', 'x2'])\n",
    "df['y']=np.random.randint(0,2, len(df))\n",
    "\n",
    "e=tree.fit(X=df,y=df['y'], method='DE')\n",
    "print(f'loss: {e}')\n",
    "y_pred=tree.predict(X=df)\n",
    "y_pred.name='y_pred'\n",
    "print('Сравниваем \"реальны\" и вычисленный выходы')\n",
    "\n",
    "print(pd.concat([df,y_pred], axis=1))\n",
    "f1_score=tree.score(X=df, y=df['y'])\n",
    "print()\n",
    "print(f1_score)\n",
    "print(tree.print_tree())   "
   ]
  },
  {
   "cell_type": "code",
   "execution_count": 19,
   "metadata": {},
   "outputs": [
    {
     "name": "stdout",
     "output_type": "stream",
     "text": [
      "start evolution\n",
      "iteration 0: min=1.249815764916597, mean=1.9380545323061835, max=2.7357389407327894\n",
      "iteration 1: min=0.9486048974082049, mean=1.7361886384440282, max=2.7357389407327894\n",
      "iteration 2: min=0.6713504615676427, mean=1.5509644753884841, max=2.5751823190061454\n",
      "iteration 3: min=0.6713504615676427, mean=1.407471536914985, max=2.2463047394343736\n",
      "iteration 4: min=0.6713504615676427, mean=1.3305671768188356, max=1.888160837932686\n",
      "iteration 5: min=0.44057634694513476, mean=1.2304720990816385, max=1.8638011405295962\n",
      "iteration 6: min=0.44057634694513476, mean=1.1459213040481857, max=1.784735952563223\n",
      "iteration 7: min=0.3709706164270391, mean=1.035253316806697, max=1.746166180490351\n",
      "iteration 8: min=0.3709706164270391, mean=0.9579806550137381, max=1.746166180490351\n",
      "iteration 9: min=0.3709706164270391, mean=0.8943347395277715, max=1.654214799882195\n",
      "iteration 10: min=0.3709706164270391, mean=0.8355897823104699, max=1.654214799882195\n",
      "iteration 11: min=0.34183603813292873, mean=0.8012226714070301, max=1.4703428332999429\n",
      "iteration 12: min=0.2817362060321613, mean=0.7611005357672846, max=1.4703428332999429\n",
      "iteration 13: min=0.2817362060321613, mean=0.7026481575911329, max=1.4703428332999429\n",
      "iteration 14: min=0.2817362060321613, mean=0.6709791152335691, max=1.2340183007916077\n",
      "iteration 15: min=0.2817362060321613, mean=0.6409495492277819, max=1.2340183007916077\n",
      "iteration 16: min=0.16702137906683448, mean=0.6102588901318226, max=1.2340183007916077\n",
      "iteration 17: min=0.16702137906683448, mean=0.5898608323409043, max=1.1255353233573764\n",
      "iteration 18: min=0.16702137906683448, mean=0.563745627583388, max=1.1255353233573764\n",
      "iteration 19: min=0.16702137906683448, mean=0.5403780196354425, max=1.0848675416640092\n",
      "loss: 0.16702137906683448\n",
      "Сравниваем \"реальны\" и вычисленный выходы\n",
      "         x1        x2         y    y_pred\n",
      "0  0.150120  0.384308 -0.852684 -0.067065\n",
      "1  0.738125  0.297945  0.582415  0.589504\n",
      "2  0.559028  0.154621  0.654192  0.589504\n",
      "3  0.420657  0.671103 -1.171993 -1.265071\n",
      "4  0.433884  0.926269 -1.911040 -1.265071\n",
      "5  0.382717  0.315821 -0.182030 -0.067065\n",
      "6  0.248896  0.764517 -1.795760 -1.265071\n",
      "7  0.154363  0.142499 -0.118772 -0.067065\n",
      "8  0.302905  0.260583 -0.175938 -0.067065\n",
      "9  0.741852  0.729631 -0.705190 -1.265071\n",
      "\n",
      "0.16702137906683448\n",
      "less[x2,{'p': 0.6602907008056259}](less[x2,{'p': 2.0122057724658684}](less[x1,{'p': 0.5473769573361573}](less[x2,{'p': -0.4446797102398373}](const{'const': 2.4897815467184827}, const{'const': -0.06706516791197259}), less[x2,{'p': 1.6539378405171954}](const{'const': 0.589503915123619}, const{'const': 1.042509575417209})), less[x1,{'p': -0.6543753485580199}](less[x1,{'p': 0.4179340729039491}](const{'const': 3.198127992187184}, const{'const': 0.05878031653983509}), less[x2,{'p': 1.337247682743162}](const{'const': 0.8018355223846864}, const{'const': 0.5072184968645879}))), less[x2,{'p': -0.3666806573641982}](less[x2,{'p': -0.2877736431371567}](less[x1,{'p': 0.04856120180506457}](const{'const': -0.07767535372631651}, const{'const': -0.5721418616293805}), less[x1,{'p': 2.8155995817987636}](const{'const': 1.5678568710839063}, const{'const': 0.6887566522480274})), less[x1,{'p': -0.5297701181258729}](less[x2,{'p': -0.5129194639948995}](const{'const': 1.5033079886467764}, const{'const': 1.2970555346446488}), less[x1,{'p': 0.12401698691786195}](const{'const': -0.5707515636900327}, const{'const': -1.265070512237245}))))\n"
     ]
    }
   ],
   "source": [
    "list_F=[]\n",
    "\n",
    "list_F.append(list_less(name_feature='x1' ))\n",
    "list_F.append(list_less(name_feature='x2' ))\n",
    "list_T=[]\n",
    "list_T.append(list_regr_const())\n",
    "\n",
    "tree=gp_tree_design_tree(list_T=list_T, list_F=list_F, level=0, nom_list='1', type_ini='full',\n",
    "                limit_level=4)\n",
    "str_tree=tree.print_tree()\n",
    "\n",
    "# Проверяем функцию fit\n",
    "df=np.random.rand(10,2)\n",
    "df=pd.DataFrame(df, columns=['x1', 'x2'])\n",
    "df['y']=2*df['x1']-3*df['x2']\n",
    "\n",
    "e=tree.fit(X=df,y=df['y'], method='DE',metric='mse')\n",
    "print(f'loss: {e}')\n",
    "y_pred=tree.predict(X=df)\n",
    "y_pred.name='y_pred'\n",
    "print('Сравниваем \"реальны\" и вычисленный выходы')\n",
    "\n",
    "print(pd.concat([df,y_pred], axis=1))\n",
    "mse_score=tree.score(X=df, y=df['y'], metric='mse')\n",
    "print()\n",
    "print(mse_score)\n",
    "print(tree.print_tree())    "
   ]
  },
  {
   "cell_type": "code",
   "execution_count": 21,
   "metadata": {},
   "outputs": [
    {
     "name": "stderr",
     "output_type": "stream",
     "text": [
      "d:\\user\\Projects\\Python\\GP_design_tree\\gp_tree_design_tree.py:190: OptimizeWarning: Unknown solver options: gtol\n",
      "  res = minimize(self.loss, x0, method=method, options={'gtol': 1e-6, 'disp': True},args=args)\n"
     ]
    },
    {
     "name": "stdout",
     "output_type": "stream",
     "text": [
      "Optimization terminated successfully.\n",
      "         Current function value: 1.559704\n",
      "         Iterations: 150\n",
      "         Function evaluations: 271\n",
      "loss: 1.5597036850292412\n",
      "Сравниваем \"реальны\" и вычисленный выходы\n",
      "         x1        x2         y    y_pred\n",
      "0  0.743652  0.179339  2.025321  2.498093\n",
      "1  0.964348  0.908331  4.653688  2.498093\n",
      "2  0.393065  0.982025  3.732206  2.498093\n",
      "3  0.000630  0.602301  1.808163  2.498093\n",
      "4  0.406712  0.443955  2.145289  2.498093\n",
      "5  0.088062  0.163540  0.666744  2.498093\n",
      "6  0.592034  0.468394  2.589251  2.498093\n",
      "7  0.535429  0.007835  1.094363  2.498093\n",
      "8  0.691122  0.953601  4.243046  2.498093\n",
      "9  0.408481  0.401929  2.022748  2.498093\n",
      "\n",
      "1.5597036850292412\n",
      "less[x1,{'p': -1.9478739006396422}](less[x2,{'p': -0.8060307091676999}](const{'const': 1.4116876226296773}, const{'const': 5.864020660628974}), less[x2,{'p': -3.0129553016774016}](const{'const': 1.464729693475335}, const{'const': 2.498093405030615}))\n"
     ]
    }
   ],
   "source": [
    "list_F=[]\n",
    "\n",
    "list_F.append(list_less(name_feature='x1' ))\n",
    "list_F.append(list_less(name_feature='x2' ))\n",
    "list_T=[]\n",
    "list_T.append(list_regr_const())\n",
    "\n",
    "tree=gp_tree_design_tree(list_T=list_T, list_F=list_F, level=0, nom_list='1', type_ini='full',\n",
    "                limit_level=2)\n",
    "str_tree=tree.print_tree()\n",
    "\n",
    "# Проверяем функцию fit\n",
    "df=np.random.rand(10,2)\n",
    "df=pd.DataFrame(df, columns=['x1', 'x2'])\n",
    "df['y']=2*df['x1']+3*df['x2']\n",
    "\n",
    "e=tree.fit(X=df,y=df['y'], method='Nelder-Mead',metric='mse')\n",
    "print(f'loss: {e}')\n",
    "y_pred=tree.predict(X=df)\n",
    "y_pred.name='y_pred'\n",
    "print('Сравниваем \"реальны\" и вычисленный выходы')\n",
    "\n",
    "print(pd.concat([df,y_pred], axis=1))\n",
    "mse_score=tree.score(X=df, y=df['y'], metric='mse')\n",
    "print()\n",
    "print(mse_score)\n",
    "print(tree.print_tree())    "
   ]
  }
 ],
 "metadata": {
  "kernelspec": {
   "display_name": "env_dash",
   "language": "python",
   "name": "python3"
  },
  "language_info": {
   "codemirror_mode": {
    "name": "ipython",
    "version": 3
   },
   "file_extension": ".py",
   "mimetype": "text/x-python",
   "name": "python",
   "nbconvert_exporter": "python",
   "pygments_lexer": "ipython3",
   "version": "3.9.18"
  }
 },
 "nbformat": 4,
 "nbformat_minor": 2
}
