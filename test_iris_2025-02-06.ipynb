{
 "cells": [
  {
   "cell_type": "code",
   "execution_count": 1,
   "metadata": {},
   "outputs": [],
   "source": [
    "from gp_algorithm_design_tree import gp_algorithm_design_tree\n",
    "from gp_list_design_tree import *\n",
    "from gp_tree_design_tree import gp_tree_design_tree\n",
    "from sklearn.datasets import load_iris"
   ]
  },
  {
   "cell_type": "markdown",
   "metadata": {},
   "source": [
    "загружаем данные и готовим списки функциональных и терминальных узлов  \n",
    "готвоим основные параметры алгоритма"
   ]
  },
  {
   "cell_type": "code",
   "execution_count": 3,
   "metadata": {},
   "outputs": [],
   "source": [
    "data = load_iris()\n",
    "X=data.data\n",
    "X=pd.DataFrame(X, columns=data.feature_names)\n",
    "y=data.target\n",
    "y=pd.Series(y, name='y')\n",
    "# params={'X':X, 'y':y,'method':'DE','score_metric':'f1','iterations':20   }\n",
    "params={'X':X, 'y':y,'mask':None,'epsilon':1e-10, 'num_samples':4,'inf_name':'gini', 'list_F':None, 'list_T':None,\n",
    "        'n_features':2,'method':'self_optimization','score_metric':'f1','iterations':50,'penalty_num_node':0.001  }\n",
    "list_T=[]\n",
    "for c in y.unique():\n",
    "    list_T.append(list_nom_class(value=c))\n",
    "list_F=[]\n",
    "for c in X.columns:\n",
    "    list_F.append(list_less(name_feature=c ))\n"
   ]
  },
  {
   "cell_type": "markdown",
   "metadata": {},
   "source": [
    "проверяем способ роста жадная стратегия LearnID3  \n",
    "оптимизация коэффициентов самооптимизация self_optimization"
   ]
  },
  {
   "cell_type": "code",
   "execution_count": 6,
   "metadata": {},
   "outputs": [
    {
     "name": "stdout",
     "output_type": "stream",
     "text": [
      "generation 0, min=0.5546324684259031, mean=0.7279625891022192, mas=0.9114791987673343\n",
      "generation 1, min=0.5354545454545454, mean=0.8037587575039234, mas=0.9214791987673343\n",
      "generation 2, min=0.620187197158937, mean=0.8850193156460883, mas=0.9277138152584508\n",
      "generation 3, min=0.5354545454545454, mean=0.832633487953759, mas=0.9314791987673343\n",
      "generation 4, min=0.5354545454545454, mean=0.8531814523964544, mas=0.9314791987673343\n",
      "generation 5, min=0.5354545454545454, mean=0.7473485330054258, mas=0.9314791987673343\n",
      "generation 6, min=0.5354545454545454, mean=0.8370299458240906, mas=0.9314791987673343\n",
      "generation 7, min=0.5354545454545454, mean=0.8433074438032347, mas=0.9314791987673343\n",
      "generation 8, min=0.5354545454545454, mean=0.776521480435148, mas=0.9314791987673343\n",
      "generation 9, min=0.5354545454545454, mean=0.8606276695664992, mas=0.9314791987673343\n",
      "generation 10, min=0.5354545454545454, mean=0.779188443205512, mas=0.9314791987673343\n",
      "generation 11, min=0.5354545454545454, mean=0.824283472267792, mas=0.9340158503312979\n",
      "generation 12, min=0.5354545454545454, mean=0.7795026125649686, mas=0.9340158503312979\n",
      "generation 13, min=0.5354545454545454, mean=0.8741448446474637, mas=0.9340158503312979\n",
      "generation 14, min=0.5354545454545454, mean=0.8506714428075665, mas=0.9340158503312979\n",
      "generation 15, min=0.6623076923076922, mean=0.8598159338140535, mas=0.9340158503312979\n",
      "generation 16, min=0.5354545454545454, mean=0.8519461078322724, mas=0.9340158503312979\n",
      "generation 17, min=0.5354545454545454, mean=0.8504604967570742, mas=0.9340158503312979\n",
      "generation 18, min=0.5354545454545454, mean=0.8346460081550612, mas=0.9340158503312979\n",
      "generation 19, min=0.5354545454545454, mean=0.8305632597044206, mas=0.9340158503312979\n",
      "Ошибка сохранения статистики в файл\n",
      "Результаты сохранены в файл: evalution1.xlsx\n",
      "лучшая пригодность:  0.9340158503312979\n",
      "лучшее решение:  less[petal width (cm),{'p': 0.8}](nom_class:0, less[petal width (cm),{'p': 1.75}](less[petal length (cm),{'p': 4.95}](nom_class:1, nom_class:2), nom_class:2))\n",
      "точность работы на исходном дереве: 0.9733226623982927\n"
     ]
    }
   ],
   "source": [
    "gp=gp_algorithm_design_tree(gp_tree_design_tree, n_ind=20, n_iter=20,\n",
    "                                 list_T=list_T, list_F=list_F, type_ini='LearnID3',\n",
    "                                   limit_level=4, params=params, selection=\"tournament\", n_tur=5,\n",
    "                 recombination=\"standart\", p_mut=0.1,)\n",
    "    \n",
    "rez=gp.opt()\n",
    "print('лучшая пригодность: ', rez['fit'])\n",
    "print('лучшее решение: ', rez['individ'].print_tree())\n",
    "e=rez['individ'].score(X=X, y=y, metric='f1')\n",
    "print(f'точность работы на исходном дереве: {e}')"
   ]
  },
  {
   "cell_type": "markdown",
   "metadata": {},
   "source": [
    "проверяем способ роста full стратегия с глубиной 4  \n",
    "оптимизация коэффициентов самооптимизация self_optimization"
   ]
  },
  {
   "cell_type": "code",
   "execution_count": 5,
   "metadata": {},
   "outputs": [
    {
     "name": "stdout",
     "output_type": "stream",
     "text": [
      "generation 0, min=0.6669944470798338, mean=0.7796038161726865, mas=0.8203902343366998\n",
      "generation 1, min=0.7114857999500291, mean=0.793526464310702, mas=0.8840259740259739\n",
      "generation 2, min=0.7166345423038338, mean=0.8053241622752841, mas=0.8840259740259739\n",
      "generation 3, min=0.5734355199024567, mean=0.8509280227057955, mas=0.8903902343366998\n",
      "generation 4, min=0.5152204156321045, mean=0.8550038747295995, mas=0.894025974025974\n",
      "generation 5, min=0.5354545454545454, mean=0.8470484808758924, mas=0.9253072625698324\n",
      "generation 6, min=0.6052204156321046, mean=0.8698902516699443, mas=0.9253072625698324\n",
      "generation 7, min=0.5354545454545454, mean=0.8446883837347322, mas=0.9253072625698324\n",
      "generation 8, min=0.5354545454545454, mean=0.853768485473274, mas=0.9253072625698324\n",
      "generation 9, min=0.5354545454545454, mean=0.8319775509666376, mas=0.9253072625698324\n",
      "generation 10, min=0.5354545454545454, mean=0.8324775509666376, mas=0.9253072625698324\n",
      "generation 11, min=0.6352204156321045, mean=0.8384436373678545, mas=0.9253072625698324\n",
      "generation 12, min=0.5354545454545454, mean=0.8132450994842232, mas=0.9253072625698324\n",
      "generation 13, min=0.5354545454545454, mean=0.8570370814986384, mas=0.9340158503312979\n",
      "generation 14, min=0.5354545454545454, mean=0.8058956438241112, mas=0.9340158503312979\n",
      "generation 15, min=0.5354545454545454, mean=0.8491013256258828, mas=0.9340158503312979\n",
      "generation 16, min=0.5354545454545454, mean=0.8393241504126031, mas=0.9340158503312979\n",
      "generation 17, min=0.5354545454545454, mean=0.8209291502029661, mas=0.9340158503312979\n",
      "generation 18, min=0.5354545454545454, mean=0.8667720914952503, mas=0.9340158503312979\n",
      "generation 19, min=0.5354545454545454, mean=0.8663566521523833, mas=0.9340158503312979\n",
      "Ошибка сохранения статистики в файл\n",
      "Результаты сохранены в файл: evalution1.xlsx\n",
      "лучшая пригодность:  0.9340158503312979\n",
      "лучшее решение:  less[petal length (cm),{'p': 2.45}](nom_class:0, less[petal width (cm),{'p': 1.75}](less[petal length (cm),{'p': 4.95}](nom_class:1, nom_class:2), nom_class:2))\n",
      "точность работы на исходном дереве: 0.9733226623982927\n"
     ]
    }
   ],
   "source": [
    "gp=gp_algorithm_design_tree(gp_tree_design_tree, n_ind=20, n_iter=20,\n",
    "                                 list_T=list_T, list_F=list_F, type_ini='full',\n",
    "                                   limit_level=4, params=params, \n",
    "                                   selection=\"tournament\", n_tur=5,\n",
    "                            recombination=\"standart\", p_mut=0.1,)\n",
    "    \n",
    "rez=gp.opt()\n",
    "print('лучшая пригодность: ', rez['fit'])\n",
    "print('лучшее решение: ', rez['individ'].print_tree())\n",
    "e=rez['individ'].score(X=X, y=y, metric='f1')\n",
    "print(f'точность работы на исходном дереве: {e}')"
   ]
  },
  {
   "cell_type": "markdown",
   "metadata": {},
   "source": [
    "проверяем способ роста nofull стратегия с глубиной 4  \n",
    "оптимизация коэффициентов самооптимизация self_optimization"
   ]
  },
  {
   "cell_type": "code",
   "execution_count": 7,
   "metadata": {},
   "outputs": [
    {
     "name": "stdout",
     "output_type": "stream",
     "text": [
      "generation 0, min=0.5354545454545454, mean=0.6320190329421439, mas=0.9014048629872637\n",
      "generation 1, min=0.5354545454545454, mean=0.7313497316078625, mas=0.9014048629872637\n",
      "generation 2, min=0.6533273862622658, mean=0.8551471055905827, mas=0.9014048629872637\n",
      "generation 3, min=0.5354545454545454, mean=0.7773168508247149, mas=0.9153072625698324\n",
      "generation 4, min=0.5354545454545454, mean=0.8559336132360971, mas=0.9253072625698324\n",
      "generation 5, min=0.5354545454545454, mean=0.8661888128375452, mas=0.9253072625698324\n",
      "generation 6, min=0.5354545454545454, mean=0.8321055721032475, mas=0.9253072625698324\n",
      "generation 7, min=0.5354545454545454, mean=0.8550709400509096, mas=0.9314791987673343\n",
      "generation 8, min=0.5354545454545454, mean=0.8072581258155476, mas=0.9314791987673343\n",
      "generation 9, min=0.5354545454545454, mean=0.809325107288366, mas=0.9314791987673343\n",
      "generation 10, min=0.5354545454545454, mean=0.8337576851751504, mas=0.9314791987673343\n",
      "generation 11, min=0.5354545454545454, mean=0.8204597328415388, mas=0.9314791987673343\n",
      "generation 12, min=0.5354545454545454, mean=0.8386796538276003, mas=0.9314791987673343\n",
      "generation 13, min=0.5354545454545454, mean=0.8243641369453684, mas=0.9314791987673343\n",
      "generation 14, min=0.5354545454545454, mean=0.8161514150847482, mas=0.9314791987673343\n",
      "generation 15, min=0.5354545454545454, mean=0.8421864086499815, mas=0.9314791987673343\n",
      "generation 16, min=0.5354545454545454, mean=0.8514128293793956, mas=0.9340158503312979\n",
      "generation 17, min=0.5354545454545454, mean=0.8537449439447237, mas=0.9340158503312979\n",
      "generation 18, min=0.5354545454545454, mean=0.8703107102492526, mas=0.9340158503312979\n",
      "generation 19, min=0.5354545454545454, mean=0.8678223629551238, mas=0.9340158503312979\n",
      "Ошибка сохранения статистики в файл\n",
      "Результаты сохранены в файл: evalution1.xlsx\n",
      "лучшая пригодность:  0.9340158503312979\n",
      "лучшее решение:  less[petal width (cm),{'p': 0.8}](nom_class:0, less[petal width (cm),{'p': 1.75}](less[petal length (cm),{'p': 4.95}](nom_class:1, nom_class:2), nom_class:2))\n",
      "точность работы на исходном дереве: 0.9733226623982927\n"
     ]
    }
   ],
   "source": [
    "gp=gp_algorithm_design_tree(gp_tree_design_tree, n_ind=20, n_iter=20,\n",
    "                                 list_T=list_T, list_F=list_F, type_ini='nofull',\n",
    "                                   limit_level=4, params=params, \n",
    "                                   selection=\"tournament\", n_tur=5,\n",
    "                            recombination=\"standart\", p_mut=0.1,)\n",
    "    \n",
    "rez=gp.opt()\n",
    "print('лучшая пригодность: ', rez['fit'])\n",
    "print('лучшее решение: ', rez['individ'].print_tree())\n",
    "e=rez['individ'].score(X=X, y=y, metric='f1')\n",
    "print(f'точность работы на исходном дереве: {e}')"
   ]
  },
  {
   "cell_type": "markdown",
   "metadata": {},
   "source": [
    "проверяем способ роста LearnID3 стратегия с глубиной 4  \n",
    "оптимизация коэффициентов самооптимизация DE"
   ]
  },
  {
   "cell_type": "code",
   "execution_count": null,
   "metadata": {},
   "outputs": [
    {
     "name": "stdout",
     "output_type": "stream",
     "text": [
      "generation 0, min=0.3854545454545454, mean=0.6012708014093262, mas=0.9115236629472873\n",
      "generation 1, min=0.3954545454545454, mean=0.7004368700994517, mas=0.9215236629472873\n",
      "generation 2, min=0.44545454545454544, mean=0.7054945383855542, mas=0.9215236629472873\n",
      "generation 3, min=0.5225, mean=0.7498642820934288, mas=0.9215236629472873\n",
      "generation 4, min=0.5354545454545454, mean=0.7158359293200771, mas=0.9215236629472873\n",
      "generation 5, min=0.5054545454545454, mean=0.7748179254160676, mas=0.9315236629472873\n",
      "generation 6, min=0.5254545454545454, mean=0.7278105325039034, mas=0.9315236629472873\n",
      "generation 7, min=0.5054545454545454, mean=0.7928577375405386, mas=0.9315236629472873\n",
      "generation 8, min=0.5154545454545454, mean=0.7498584671634112, mas=0.9315236629472873\n",
      "generation 9, min=0.5154545454545454, mean=0.6839268281043003, mas=0.9315236629472873\n",
      "generation 10, min=0.5254545454545454, mean=0.7074736489259287, mas=0.9315236629472873\n",
      "generation 11, min=0.5254545454545454, mean=0.7485237768216606, mas=0.9315236629472873\n",
      "generation 12, min=0.5154545454545454, mean=0.734774393489003, mas=0.9315236629472873\n",
      "generation 13, min=0.4954545454545454, mean=0.673049683386831, mas=0.9315236629472873\n",
      "generation 14, min=0.5054545454545454, mean=0.645997264039434, mas=0.9315236629472873\n",
      "generation 15, min=0.5254545454545454, mean=0.6883783932272389, mas=0.9315236629472873\n",
      "generation 16, min=0.5054545454545454, mean=0.6977894904740228, mas=0.9315236629472873\n",
      "generation 17, min=0.5154545454545454, mean=0.7209368700994518, mas=0.9315236629472873\n",
      "generation 18, min=0.5154545454545454, mean=0.7117207029225978, mas=0.9315236629472873\n"
     ]
    }
   ],
   "source": [
    "params['method']='DE'\n",
    "\n",
    "gp=gp_algorithm_design_tree(gp_tree_design_tree, n_ind=20, n_iter=20,\n",
    "                                 list_T=list_T, list_F=list_F, type_ini='LearnID3',\n",
    "                                   limit_level=4, params=params, \n",
    "                                   selection=\"tournament\", n_tur=5,\n",
    "                            recombination=\"standart\", p_mut=0.1,)\n",
    "    \n",
    "rez=gp.opt()\n",
    "print('лучшая пригодность: ', rez['fit'])\n",
    "print('лучшее решение: ', rez['individ'].print_tree())\n",
    "e=rez['individ'].score(X=X, y=y, metric='f1')\n",
    "print(f'точность работы на исходном дереве: {e}')"
   ]
  }
 ],
 "metadata": {
  "kernelspec": {
   "display_name": "env_dash",
   "language": "python",
   "name": "python3"
  },
  "language_info": {
   "codemirror_mode": {
    "name": "ipython",
    "version": 3
   },
   "file_extension": ".py",
   "mimetype": "text/x-python",
   "name": "python",
   "nbconvert_exporter": "python",
   "pygments_lexer": "ipython3",
   "version": "3.9.18"
  }
 },
 "nbformat": 4,
 "nbformat_minor": 2
}
