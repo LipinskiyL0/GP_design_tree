{
 "cells": [
  {
   "cell_type": "code",
   "execution_count": 1,
   "metadata": {},
   "outputs": [],
   "source": [
    "from gp_algorithm_design_tree import gp_algorithm_design_tree\n",
    "from gp_list_design_tree import *\n",
    "from gp_tree_design_tree import gp_tree_design_tree\n",
    "from sklearn.datasets import load_iris"
   ]
  },
  {
   "cell_type": "markdown",
   "metadata": {},
   "source": [
    "загружаем данные и готовим списки функциональных и терминальных узлов  \n",
    "готвоим основные параметры алгоритма"
   ]
  },
  {
   "cell_type": "code",
   "execution_count": 2,
   "metadata": {},
   "outputs": [],
   "source": [
    "data = load_iris()\n",
    "X=data.data\n",
    "X=pd.DataFrame(X, columns=data.feature_names)\n",
    "y=data.target\n",
    "y=pd.Series(y, name='y')\n",
    "# params={'X':X, 'y':y,'method':'DE','score_metric':'f1','iterations':20   }\n",
    "params={'X':X, 'y':y,'mask':None,'epsilon':1e-10, 'num_samples':4,'inf_name':'gini', 'list_F':None, 'list_T':None,\n",
    "        'n_features':2,'method':'self_optimization','score_metric':'f1','iterations':50,'penalty_num_node':0.001  }\n",
    "list_T=[]\n",
    "for c in y.unique():\n",
    "    list_T.append(list_nom_class(value=c))\n",
    "list_F=[]\n",
    "for c in X.columns:\n",
    "    list_F.append(list_less(name_feature=c ))\n"
   ]
  },
  {
   "cell_type": "markdown",
   "metadata": {},
   "source": [
    "проверяем способ роста жадная стратегия LearnID3  \n",
    "оптимизация коэффициентов самооптимизация self_optimization"
   ]
  },
  {
   "cell_type": "code",
   "execution_count": 3,
   "metadata": {},
   "outputs": [
    {
     "name": "stdout",
     "output_type": "stream",
     "text": [
      "generation 0, min=0.8274260168744489, mean=0.9164602444985996, mas=0.9700158503312979\n",
      "generation 1, min=0.5444545454545454, mean=0.9100057913689839, mas=0.9700158503312979\n",
      "generation 2, min=0.5444545454545454, mean=0.8899653728923523, mas=0.9768421052631581\n",
      "generation 3, min=0.9574791987673343, mean=0.9708371435179665, mas=0.9798421052631581\n",
      "generation 4, min=0.5444545454545454, mean=0.9153095202033423, mas=0.9798421052631581\n",
      "generation 5, min=0.6903076923076922, mean=0.9572326699660978, mas=0.9798421052631581\n",
      "generation 6, min=0.5444545454545454, mean=0.9329280832993758, mas=0.9798421052631581\n",
      "generation 7, min=0.5444545454545454, mean=0.9127759024036513, mas=0.9823768255124683\n",
      "generation 8, min=0.5444545454545454, mean=0.9236180426916041, mas=0.9823768255124683\n",
      "generation 9, min=0.6903076923076922, mean=0.9441801991352781, mas=0.9823768255124683\n",
      "generation 10, min=0.6614355199024566, mean=0.9182821164181911, mas=0.9833768255124683\n",
      "generation 11, min=0.6903076923076922, mean=0.9600178107310331, mas=0.9843768255124683\n",
      "generation 12, min=0.7436917393009019, mean=0.9509407695283713, mas=0.9843768255124683\n",
      "generation 13, min=0.5444545454545454, mean=0.9086408913874051, mas=0.9843768255124683\n",
      "generation 14, min=0.6903076923076922, mean=0.9605414205784845, mas=0.9843768255124683\n",
      "generation 15, min=0.5444545454545454, mean=0.9433985424438586, mas=0.9843768255124683\n",
      "generation 16, min=0.7436917393009019, mean=0.958783670296438, mas=0.9853768255124683\n",
      "generation 17, min=0.6644355199024566, mean=0.9042673549455298, mas=0.9853768255124683\n",
      "generation 18, min=0.7376917393009019, mean=0.9582625525433551, mas=0.9853768255124683\n",
      "generation 19, min=0.6614355199024566, mean=0.9311229575193426, mas=0.9853768255124683\n",
      "Ошибка сохранения статистики в файл\n",
      "Результаты сохранены в файл: evalution1.xlsx\n",
      "лучшая пригодность:  0.9853768255124683\n",
      "лучшее решение:  less[petal width (cm),{'p': 0.8}](nom_class:0, less[petal width (cm),{'p': 1.75}](less[petal length (cm),{'p': 4.95}](less[petal width (cm),{'p': 1.65}](nom_class:1, nom_class:2), less[petal width (cm),{'p': 1.55}](nom_class:2, less[petal width (cm),{'p': 1.65}](less[petal length (cm),{'p': 5.449999999999999}](nom_class:1, nom_class:2), nom_class:1))), nom_class:2))\n",
      "точность работы на исходном дереве: 0.9933326665999934\n"
     ]
    }
   ],
   "source": [
    "gp=gp_algorithm_design_tree(gp_tree_design_tree, n_ind=20, n_iter=20,\n",
    "                                 list_T=list_T, list_F=list_F, type_ini='LearnID3',\n",
    "                                   limit_level=4, params=params, selection=\"tournament\", n_tur=5,\n",
    "                 recombination=\"standart\", p_mut=0.1,)\n",
    "    \n",
    "rez=gp.opt()\n",
    "print('лучшая пригодность: ', rez['fit'])\n",
    "print('лучшее решение: ', rez['individ'].print_tree())\n",
    "e=rez['individ'].score(X=X, y=y, metric='f1')\n",
    "print(f'точность работы на исходном дереве: {e}')"
   ]
  },
  {
   "cell_type": "markdown",
   "metadata": {},
   "source": [
    "проверяем способ роста full стратегия с глубиной 4  \n",
    "оптимизация коэффициентов самооптимизация self_optimization"
   ]
  },
  {
   "cell_type": "code",
   "execution_count": 4,
   "metadata": {},
   "outputs": [
    {
     "name": "stdout",
     "output_type": "stream",
     "text": [
      "generation 0, min=0.8011779141104294, mean=0.93531806840915, mas=0.9643902343366998\n",
      "generation 1, min=0.5444545454545454, mean=0.940510768061596, mas=0.9803768255124683\n",
      "generation 2, min=0.8470645131806035, mean=0.9553380922409426, mas=0.9823768255124683\n",
      "generation 3, min=0.5444545454545454, mean=0.9440209241080476, mas=0.9823768255124683\n",
      "generation 4, min=0.638187197158937, mean=0.9386051181727229, mas=0.9833768255124683\n",
      "generation 5, min=0.6873076923076922, mean=0.9550553818458802, mas=0.9843768255124683\n",
      "generation 6, min=0.6903076923076922, mean=0.9559835818753925, mas=0.9853768255124683\n",
      "generation 7, min=0.5444545454545454, mean=0.940634827333148, mas=0.9853768255124683\n",
      "generation 8, min=0.6893076923076922, mean=0.9510639390808571, mas=0.9853768255124683\n",
      "generation 9, min=0.8464436341710979, mean=0.9556240172610672, mas=0.9853768255124683\n",
      "generation 10, min=0.5444545454545454, mean=0.931834381488019, mas=0.9853768255124683\n",
      "generation 11, min=0.8894907324870133, mean=0.9696547221372407, mas=0.9853768255124683\n",
      "generation 12, min=0.6672204156321045, mean=0.9493883377062502, mas=0.9853768255124683\n",
      "generation 13, min=0.9544791987673343, mean=0.974702711783935, mas=0.9853768255124683\n",
      "generation 14, min=0.638187197158937, mean=0.954256035965777, mas=0.9853768255124683\n",
      "generation 15, min=0.5444545454545454, mean=0.9523617045146467, mas=0.9853768255124683\n",
      "generation 16, min=0.5444545454545454, mean=0.9290543137428781, mas=0.9853768255124683\n",
      "generation 17, min=0.5444545454545454, mean=0.9360628716128634, mas=0.9853768255124683\n",
      "generation 18, min=0.6903076923076922, mean=0.9367607418954638, mas=0.9853768255124683\n",
      "generation 19, min=0.6674355199024566, mean=0.9369073971775863, mas=0.9853768255124683\n",
      "Ошибка сохранения статистики в файл\n",
      "Результаты сохранены в файл: evalution1.xlsx\n",
      "лучшая пригодность:  0.9853768255124683\n",
      "лучшее решение:  less[petal length (cm),{'p': 2.45}](nom_class:0, less[sepal length (cm),{'p': 6.15}](less[petal length (cm),{'p': 4.75}](less[petal width (cm),{'p': 1.65}](nom_class:1, nom_class:2), less[sepal width (cm),{'p': 3.1}](nom_class:2, nom_class:1)), less[petal width (cm),{'p': 1.75}](less[petal length (cm),{'p': 5.05}](nom_class:1, nom_class:2), nom_class:2)))\n",
      "точность работы на исходном дереве: 0.9933326665999934\n"
     ]
    }
   ],
   "source": [
    "gp=gp_algorithm_design_tree(gp_tree_design_tree, n_ind=20, n_iter=20,\n",
    "                                 list_T=list_T, list_F=list_F, type_ini='full',\n",
    "                                   limit_level=4, params=params, \n",
    "                                   selection=\"tournament\", n_tur=5,\n",
    "                            recombination=\"standart\", p_mut=0.1,)\n",
    "    \n",
    "rez=gp.opt()\n",
    "print('лучшая пригодность: ', rez['fit'])\n",
    "print('лучшее решение: ', rez['individ'].print_tree())\n",
    "e=rez['individ'].score(X=X, y=y, metric='f1')\n",
    "print(f'точность работы на исходном дереве: {e}')"
   ]
  },
  {
   "cell_type": "markdown",
   "metadata": {},
   "source": [
    "проверяем способ роста nofull стратегия с глубиной 4  \n",
    "оптимизация коэффициентов самооптимизация self_optimization"
   ]
  },
  {
   "cell_type": "code",
   "execution_count": 5,
   "metadata": {},
   "outputs": [
    {
     "name": "stdout",
     "output_type": "stream",
     "text": [
      "generation 0, min=0.5444545454545454, mean=0.679569662127474, mas=0.9524048629872637\n",
      "generation 1, min=0.6694355199024566, mean=0.8511801765883767, mas=0.9534048629872637\n",
      "generation 2, min=0.5444545454545454, mean=0.902243770712805, mas=0.9544048629872637\n",
      "generation 3, min=0.6883076923076922, mean=0.9267177351514535, mas=0.9640158503312979\n",
      "generation 4, min=0.6893076923076922, mean=0.9416091184715798, mas=0.9640158503312979\n",
      "generation 5, min=0.5444545454545454, mean=0.9224569200202793, mas=0.9683748405455794\n",
      "generation 6, min=0.5444545454545454, mean=0.8845444403170635, mas=0.9683748405455794\n",
      "generation 7, min=0.6893076923076922, mean=0.9316766348416253, mas=0.9683748405455794\n",
      "generation 8, min=0.5444545454545454, mean=0.9217390549027653, mas=0.9703748405455794\n",
      "generation 9, min=0.956663702506063, mean=0.9652457430061692, mas=0.9713748405455794\n",
      "generation 10, min=0.9504048629872637, mean=0.9667553317690023, mas=0.9723748405455794\n",
      "generation 11, min=0.5444545454545454, mean=0.9133665277740249, mas=0.9733902343366998\n",
      "generation 12, min=0.9454048629872637, mean=0.967198776224825, mas=0.9733902343366998\n",
      "generation 13, min=0.5444545454545454, mean=0.9333899754422493, mas=0.9733902343366998\n",
      "generation 14, min=0.6702204156321045, mean=0.9494328256135024, mas=0.9803768255124683\n",
      "generation 15, min=0.897514416112854, mean=0.9645034421345249, mas=0.9803768255124683\n",
      "generation 16, min=0.6532204156321045, mean=0.9528295199492639, mas=0.9813768255124683\n",
      "generation 17, min=0.5444545454545454, mean=0.9495632375893145, mas=0.9813768255124683\n",
      "generation 18, min=0.5444545454545454, mean=0.923834905247122, mas=0.9833768255124683\n",
      "generation 19, min=0.6632204156321045, mean=0.9407192154776295, mas=0.9833768255124683\n",
      "Ошибка сохранения статистики в файл\n",
      "Результаты сохранены в файл: evalution1.xlsx\n",
      "лучшая пригодность:  0.9833768255124683\n",
      "лучшее решение:  less[petal length (cm),{'p': 2.45}](nom_class:0, less[petal length (cm),{'p': 4.75}](less[petal width (cm),{'p': 1.65}](nom_class:1, less[petal width (cm),{'p': 0}](nom_class:0, nom_class:2)), less[sepal length (cm),{'p': 7.0}](less[petal width (cm),{'p': 1.75}](less[petal length (cm),{'p': 4.95}](nom_class:1, less[petal length (cm),{'p': 5.35}](less[petal width (cm),{'p': 1.55}](nom_class:2, nom_class:1), nom_class:2)), nom_class:2), nom_class:2)))\n",
      "точность работы на исходном дереве: 0.9933326665999934\n"
     ]
    }
   ],
   "source": [
    "gp=gp_algorithm_design_tree(gp_tree_design_tree, n_ind=20, n_iter=20,\n",
    "                                 list_T=list_T, list_F=list_F, type_ini='nofull',\n",
    "                                   limit_level=4, params=params, \n",
    "                                   selection=\"tournament\", n_tur=5,\n",
    "                            recombination=\"standart\", p_mut=0.1,)\n",
    "    \n",
    "rez=gp.opt()\n",
    "print('лучшая пригодность: ', rez['fit'])\n",
    "print('лучшее решение: ', rez['individ'].print_tree())\n",
    "e=rez['individ'].score(X=X, y=y, metric='f1')\n",
    "print(f'точность работы на исходном дереве: {e}')"
   ]
  },
  {
   "cell_type": "markdown",
   "metadata": {},
   "source": [
    "проверяем способ роста LearnID3 стратегия с глубиной 4  \n",
    "оптимизация коэффициентов самооптимизация DE"
   ]
  },
  {
   "cell_type": "code",
   "execution_count": 6,
   "metadata": {},
   "outputs": [
    {
     "name": "stdout",
     "output_type": "stream",
     "text": [
      "generation 0, min=0.5354545454545454, mean=0.852083589959245, mas=0.9763748405455794\n",
      "generation 1, min=0.5414545454545454, mean=0.7233140498965898, mas=0.9763748405455794\n",
      "generation 2, min=0.5414545454545454, mean=0.7583660920860614, mas=0.9763748405455794\n",
      "generation 3, min=0.5414545454545454, mean=0.8051953455858243, mas=0.9763748405455794\n",
      "generation 4, min=0.5444545454545454, mean=0.804094009014743, mas=0.9763748405455794\n",
      "generation 5, min=0.5434545454545454, mean=0.7527950802922956, mas=0.9763748405455794\n",
      "generation 6, min=0.5434545454545454, mean=0.7738996611724487, mas=0.9763748405455794\n",
      "generation 7, min=0.5414545454545454, mean=0.6695038473722195, mas=0.9763748405455794\n",
      "generation 8, min=0.5404545454545454, mean=0.7732274177463866, mas=0.9763748405455794\n",
      "generation 9, min=0.5384545454545454, mean=0.7040576982620647, mas=0.9763748405455794\n",
      "generation 10, min=0.5434545454545454, mean=0.7515284293894993, mas=0.9763748405455794\n",
      "generation 11, min=0.5444545454545454, mean=0.7741534162018682, mas=0.9763748405455794\n",
      "generation 12, min=0.6627920410783055, mean=0.793485762206688, mas=0.9763748405455794\n",
      "generation 13, min=0.5404545454545454, mean=0.7582113845794467, mas=0.9763748405455794\n",
      "generation 14, min=0.5394545454545454, mean=0.7634730054344985, mas=0.9763748405455794\n",
      "generation 15, min=0.5394545454545454, mean=0.7424592355793643, mas=0.9763748405455794\n",
      "generation 16, min=0.5394545454545454, mean=0.7203856466184495, mas=0.9763748405455794\n",
      "generation 17, min=0.5414545454545454, mean=0.7814140929375308, mas=0.9763748405455794\n",
      "generation 18, min=0.5414545454545454, mean=0.7440839622014932, mas=0.9763748405455794\n",
      "generation 19, min=0.5434545454545454, mean=0.7321055801795812, mas=0.9763748405455794\n",
      "Ошибка сохранения статистики в файл\n",
      "Результаты сохранены в файл: evalution1.xlsx\n",
      "лучшая пригодность:  0.9763748405455794\n",
      "лучшее решение:  less[petal length (cm),{'p': 2.0420589619978697}](nom_class:0, less[petal width (cm),{'p': 1.6701749545768578}](less[petal length (cm),{'p': 4.963286683604904}](nom_class:1, nom_class:2), nom_class:2))\n",
      "точность работы на исходном дереве: 0.9799819837854069\n"
     ]
    }
   ],
   "source": [
    "params['method']='DE'\n",
    "\n",
    "gp=gp_algorithm_design_tree(gp_tree_design_tree, n_ind=20, n_iter=20,\n",
    "                                 list_T=list_T, list_F=list_F, type_ini='LearnID3',\n",
    "                                   limit_level=4, params=params, \n",
    "                                   selection=\"tournament\", n_tur=5,\n",
    "                            recombination=\"standart\", p_mut=0.1,)\n",
    "    \n",
    "rez=gp.opt()\n",
    "print('лучшая пригодность: ', rez['fit'])\n",
    "print('лучшее решение: ', rez['individ'].print_tree())\n",
    "e=rez['individ'].score(X=X, y=y, metric='f1')\n",
    "print(f'точность работы на исходном дереве: {e}')"
   ]
  }
 ],
 "metadata": {
  "kernelspec": {
   "display_name": "env_dash",
   "language": "python",
   "name": "python3"
  },
  "language_info": {
   "codemirror_mode": {
    "name": "ipython",
    "version": 3
   },
   "file_extension": ".py",
   "mimetype": "text/x-python",
   "name": "python",
   "nbconvert_exporter": "python",
   "pygments_lexer": "ipython3",
   "version": "3.9.18"
  }
 },
 "nbformat": 4,
 "nbformat_minor": 2
}
